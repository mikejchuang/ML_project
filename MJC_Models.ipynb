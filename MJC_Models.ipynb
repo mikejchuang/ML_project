{
 "cells": [
  {
   "cell_type": "code",
   "execution_count": 82,
   "metadata": {
    "collapsed": true
   },
   "outputs": [],
   "source": [
    "import pandas as pd\n",
    "import pandas as pd\n",
    "import numpy as np\n",
    "import seaborn as sns\n",
    "from scipy import stats\n",
    "from matplotlib import pyplot as plt\n",
    "\n",
    "from sklearn import linear_model\n",
    "from sklearn.ensemble import GradientBoostingRegressor as gbr, RandomForestRegressor as rfr, ExtraTreesRegressor as etr\n",
    "from sklearn.model_selection import KFold, cross_val_score, train_test_split\n",
    "from sklearn.model_selection import GridSearchCV\n",
    "from sklearn.metrics import mean_squared_error\n",
    "\n",
    "\n",
    "%matplotlib inline"
   ]
  },
  {
   "cell_type": "code",
<<<<<<< HEAD
   "execution_count": 8,
   "metadata": {
    "collapsed": true
   },
=======
   "execution_count": 83,
   "metadata": {},
>>>>>>> df92ae6fa3193457a1731d34d4c929ede39694cc
   "outputs": [],
   "source": [
    "#loading train\n",
    "df_train=pd.read_csv('./cleaned_train_dummy.csv')\n",
    "#loading test\n",
    "df_test=pd.read_csv('./cleaned_test_dummy.csv')"
   ]
  },
  {
   "cell_type": "code",
<<<<<<< HEAD
   "execution_count": 9,
=======
   "execution_count": 84,
>>>>>>> df92ae6fa3193457a1731d34d4c929ede39694cc
   "metadata": {
    "collapsed": true
   },
   "outputs": [],
   "source": [
    "##Setting index as ID columns\n",
    "df_test.set_index(['Id'], inplace = True)\n",
    "df_train.set_index(['Id'], inplace = True)"
   ]
  },
  {
   "cell_type": "code",
<<<<<<< HEAD
   "execution_count": 10,
   "metadata": {
    "collapsed": true
   },
=======
   "execution_count": null,
   "metadata": {
    "collapsed": true
   },
   "outputs": [],
   "source": []
  },
  {
   "cell_type": "code",
   "execution_count": 85,
   "metadata": {},
>>>>>>> df92ae6fa3193457a1731d34d4c929ede39694cc
   "outputs": [],
   "source": [
    "##Setting y and x to begin running models\n",
    "Y_vals = pd.DataFrame(df_train['SalePrice']).copy()\n",
    "Y_vals = np.ravel(Y_vals)\n",
    "df_test.drop(['Unnamed: 0', 'SalePrice'],inplace=True, axis =1)\n",
    "df_train.drop(['Unnamed: 0', 'SalePrice'],inplace=True, axis =1)\n",
    "\n",
    "X_train=df_train.copy()\n",
    "X_test=df_test.copy()\n"
   ]
  },
  {
   "cell_type": "code",
<<<<<<< HEAD
   "execution_count": null,
   "metadata": {
    "collapsed": true
   },
   "outputs": [],
   "source": []
=======
   "execution_count": 115,
   "metadata": {},
   "outputs": [
    {
     "data": {
      "text/html": [
       "<div>\n",
       "<style>\n",
       "    .dataframe thead tr:only-child th {\n",
       "        text-align: right;\n",
       "    }\n",
       "\n",
       "    .dataframe thead th {\n",
       "        text-align: left;\n",
       "    }\n",
       "\n",
       "    .dataframe tbody tr th {\n",
       "        vertical-align: top;\n",
       "    }\n",
       "</style>\n",
       "<table border=\"1\" class=\"dataframe\">\n",
       "  <thead>\n",
       "    <tr style=\"text-align: right;\">\n",
       "      <th></th>\n",
       "      <th>1stFlrSF</th>\n",
       "      <th>2ndFlrSF</th>\n",
       "      <th>3SsnPorch</th>\n",
       "      <th>Alley</th>\n",
       "      <th>BedroomAbvGr</th>\n",
       "      <th>BldgType</th>\n",
       "      <th>BsmtCond</th>\n",
       "      <th>BsmtExposure</th>\n",
       "      <th>BsmtFinSF1</th>\n",
       "      <th>BsmtFinSF2</th>\n",
       "      <th>...</th>\n",
       "      <th>LandContour_HLS</th>\n",
       "      <th>LandContour_Low</th>\n",
       "      <th>LandContour_Lvl</th>\n",
       "      <th>LandSlope_Mod</th>\n",
       "      <th>LandSlope_Sev</th>\n",
       "      <th>LotShape_IR2</th>\n",
       "      <th>LotShape_IR3</th>\n",
       "      <th>LotShape_Reg</th>\n",
       "      <th>Street_Pave</th>\n",
       "      <th>Utilities_NoSeWa</th>\n",
       "    </tr>\n",
       "    <tr>\n",
       "      <th>Id</th>\n",
       "      <th></th>\n",
       "      <th></th>\n",
       "      <th></th>\n",
       "      <th></th>\n",
       "      <th></th>\n",
       "      <th></th>\n",
       "      <th></th>\n",
       "      <th></th>\n",
       "      <th></th>\n",
       "      <th></th>\n",
       "      <th></th>\n",
       "      <th></th>\n",
       "      <th></th>\n",
       "      <th></th>\n",
       "      <th></th>\n",
       "      <th></th>\n",
       "      <th></th>\n",
       "      <th></th>\n",
       "      <th></th>\n",
       "      <th></th>\n",
       "      <th></th>\n",
       "    </tr>\n",
       "  </thead>\n",
       "  <tbody>\n",
       "    <tr>\n",
       "      <th>1461</th>\n",
       "      <td>6.799056</td>\n",
       "      <td>0.000000</td>\n",
       "      <td>1</td>\n",
       "      <td>0</td>\n",
       "      <td>2</td>\n",
       "      <td>5</td>\n",
       "      <td>3</td>\n",
       "      <td>1</td>\n",
       "      <td>468.0</td>\n",
       "      <td>144.0</td>\n",
       "      <td>...</td>\n",
       "      <td>0</td>\n",
       "      <td>0</td>\n",
       "      <td>1</td>\n",
       "      <td>0</td>\n",
       "      <td>0</td>\n",
       "      <td>0</td>\n",
       "      <td>0</td>\n",
       "      <td>1</td>\n",
       "      <td>1</td>\n",
       "      <td>0</td>\n",
       "    </tr>\n",
       "    <tr>\n",
       "      <th>1462</th>\n",
       "      <td>7.192934</td>\n",
       "      <td>0.000000</td>\n",
       "      <td>1</td>\n",
       "      <td>0</td>\n",
       "      <td>3</td>\n",
       "      <td>5</td>\n",
       "      <td>3</td>\n",
       "      <td>1</td>\n",
       "      <td>923.0</td>\n",
       "      <td>0.0</td>\n",
       "      <td>...</td>\n",
       "      <td>0</td>\n",
       "      <td>0</td>\n",
       "      <td>1</td>\n",
       "      <td>0</td>\n",
       "      <td>0</td>\n",
       "      <td>0</td>\n",
       "      <td>0</td>\n",
       "      <td>0</td>\n",
       "      <td>1</td>\n",
       "      <td>0</td>\n",
       "    </tr>\n",
       "    <tr>\n",
       "      <th>1463</th>\n",
       "      <td>6.834109</td>\n",
       "      <td>6.553933</td>\n",
       "      <td>1</td>\n",
       "      <td>0</td>\n",
       "      <td>3</td>\n",
       "      <td>5</td>\n",
       "      <td>3</td>\n",
       "      <td>1</td>\n",
       "      <td>791.0</td>\n",
       "      <td>0.0</td>\n",
       "      <td>...</td>\n",
       "      <td>0</td>\n",
       "      <td>0</td>\n",
       "      <td>1</td>\n",
       "      <td>0</td>\n",
       "      <td>0</td>\n",
       "      <td>0</td>\n",
       "      <td>0</td>\n",
       "      <td>0</td>\n",
       "      <td>1</td>\n",
       "      <td>0</td>\n",
       "    </tr>\n",
       "    <tr>\n",
       "      <th>1464</th>\n",
       "      <td>6.831954</td>\n",
       "      <td>6.520621</td>\n",
       "      <td>1</td>\n",
       "      <td>0</td>\n",
       "      <td>3</td>\n",
       "      <td>5</td>\n",
       "      <td>3</td>\n",
       "      <td>1</td>\n",
       "      <td>602.0</td>\n",
       "      <td>0.0</td>\n",
       "      <td>...</td>\n",
       "      <td>0</td>\n",
       "      <td>0</td>\n",
       "      <td>1</td>\n",
       "      <td>0</td>\n",
       "      <td>0</td>\n",
       "      <td>0</td>\n",
       "      <td>0</td>\n",
       "      <td>0</td>\n",
       "      <td>1</td>\n",
       "      <td>0</td>\n",
       "    </tr>\n",
       "    <tr>\n",
       "      <th>1465</th>\n",
       "      <td>7.155396</td>\n",
       "      <td>0.000000</td>\n",
       "      <td>1</td>\n",
       "      <td>0</td>\n",
       "      <td>2</td>\n",
       "      <td>4</td>\n",
       "      <td>3</td>\n",
       "      <td>1</td>\n",
       "      <td>263.0</td>\n",
       "      <td>0.0</td>\n",
       "      <td>...</td>\n",
       "      <td>1</td>\n",
       "      <td>0</td>\n",
       "      <td>0</td>\n",
       "      <td>0</td>\n",
       "      <td>0</td>\n",
       "      <td>0</td>\n",
       "      <td>0</td>\n",
       "      <td>0</td>\n",
       "      <td>1</td>\n",
       "      <td>0</td>\n",
       "    </tr>\n",
       "  </tbody>\n",
       "</table>\n",
       "<p>5 rows × 91 columns</p>\n",
       "</div>"
      ],
      "text/plain": [
       "      1stFlrSF  2ndFlrSF  3SsnPorch  Alley  BedroomAbvGr  BldgType  BsmtCond  \\\n",
       "Id                                                                             \n",
       "1461  6.799056  0.000000          1      0             2         5         3   \n",
       "1462  7.192934  0.000000          1      0             3         5         3   \n",
       "1463  6.834109  6.553933          1      0             3         5         3   \n",
       "1464  6.831954  6.520621          1      0             3         5         3   \n",
       "1465  7.155396  0.000000          1      0             2         4         3   \n",
       "\n",
       "      BsmtExposure  BsmtFinSF1  BsmtFinSF2        ...         LandContour_HLS  \\\n",
       "Id                                                ...                           \n",
       "1461             1       468.0       144.0        ...                       0   \n",
       "1462             1       923.0         0.0        ...                       0   \n",
       "1463             1       791.0         0.0        ...                       0   \n",
       "1464             1       602.0         0.0        ...                       0   \n",
       "1465             1       263.0         0.0        ...                       1   \n",
       "\n",
       "      LandContour_Low  LandContour_Lvl  LandSlope_Mod  LandSlope_Sev  \\\n",
       "Id                                                                     \n",
       "1461                0                1              0              0   \n",
       "1462                0                1              0              0   \n",
       "1463                0                1              0              0   \n",
       "1464                0                1              0              0   \n",
       "1465                0                0              0              0   \n",
       "\n",
       "      LotShape_IR2  LotShape_IR3  LotShape_Reg  Street_Pave  Utilities_NoSeWa  \n",
       "Id                                                                             \n",
       "1461             0             0             1            1                 0  \n",
       "1462             0             0             0            1                 0  \n",
       "1463             0             0             0            1                 0  \n",
       "1464             0             0             0            1                 0  \n",
       "1465             0             0             0            1                 0  \n",
       "\n",
       "[5 rows x 91 columns]"
      ]
     },
     "execution_count": 115,
     "metadata": {},
     "output_type": "execute_result"
    }
   ],
   "source": [
    "X_test.head()\n"
   ]
>>>>>>> df92ae6fa3193457a1731d34d4c929ede39694cc
  },
  {
   "cell_type": "code",
   "execution_count": 87,
   "metadata": {
    "collapsed": true
   },
   "outputs": [],
   "source": [
    "\n",
    "from sklearn import linear_model\n",
    "from sklearn.ensemble import GradientBoostingRegressor as gbr, RandomForestRegressor as rfr, ExtraTreesRegressor as etr\n",
    "from sklearn.model_selection import KFold\n",
    "from sklearn.model_selection import GridSearchCV\n"
   ]
  },
  {
   "cell_type": "code",
   "execution_count": 44,
   "metadata": {
    "collapsed": true
   },
   "outputs": [
    {
     "name": "stdout",
     "output_type": "stream",
     "text": [
      "Fitting 5 folds for each of 9 candidates, totalling 45 fits\n"
     ]
    },
    {
     "name": "stderr",
     "output_type": "stream",
     "text": [
      "[Parallel(n_jobs=-1)]: Done  45 out of  45 | elapsed:  1.0min finished\n"
     ]
    },
    {
     "name": "stdout",
     "output_type": "stream",
     "text": [
      "CPU times: user 8.19 s, sys: 295 ms, total: 8.48 s\n",
      "Wall time: 1min 2s\n"
     ]
    },
    {
     "data": {
      "text/plain": [
       "GridSearchCV(cv=5, error_score='raise',\n",
       "       estimator=LassoCV(alphas=None, copy_X=True, cv=None, eps=0.0001, fit_intercept=True,\n",
       "    max_iter=10000, n_alphas=100, n_jobs=1, normalize=True, positive=False,\n",
       "    precompute='auto', random_state=0, selection='cyclic', tol=0.0001,\n",
       "    verbose=False),\n",
       "       fit_params=None, iid=True, n_jobs=-1,\n",
       "       param_grid=[{'n_alphas': range(100, 1000, 100), 'random_state': [0], 'eps': [0.0001], 'normalize': [True]}],\n",
       "       pre_dispatch='2*n_jobs', refit=True, return_train_score='warn',\n",
       "       scoring=None, verbose=1)"
      ]
     },
     "execution_count": 44,
     "metadata": {},
     "output_type": "execute_result"
    }
   ],
   "source": [
    "##Grid search for optimal random tree parameters\n",
    "grid_para_lasso = [{\n",
    "    \"n_alphas\": range(100,1000, 100),\n",
    "    \"random_state\": [0],\n",
    "    \"eps\" : [0.0001],\n",
    "    \"normalize\" : [True]\n",
    "}]\n",
    "grid_search_lasso = GridSearchCV(lasso_model, grid_para_lasso, cv=5, n_jobs=-1, verbose=1)\n",
    "%time grid_search_lasso.fit(X_train, Y_vals)"
   ]
  },
  {
   "cell_type": "code",
   "execution_count": 76,
   "metadata": {},
   "outputs": [
    {
     "name": "stdout",
     "output_type": "stream",
     "text": [
      "{'eps': 0.0001, 'n_alphas': 100, 'normalize': True, 'random_state': 0}\n",
      "0.870755275974\n"
     ]
    }
   ],
   "source": [
    "print(grid_search_lasso.best_params_)\n",
    "print(grid_search_lasso.best_score_)\n"
   ]
  },
  {
   "cell_type": "code",
   "execution_count": 88,
   "metadata": {},
   "outputs": [
    {
     "data": {
      "text/plain": [
       "0.91916921692918108"
      ]
     },
     "execution_count": 88,
     "metadata": {},
     "output_type": "execute_result"
    }
   ],
   "source": [
    "lasso_model = linear_model.LassoCV(random_state=0,n_alphas=100, normalize=True, eps = 0.0001, max_iter=10000)\n",
    "mod = lasso_model.fit(X_train, Y_vals)\n",
    "mod.score(X_train, Y_vals)\n",
    "##score=0.93082405005697799"
   ]
  },
  {
   "cell_type": "code",
   "execution_count": 89,
   "metadata": {},
   "outputs": [],
   "source": [
    "lasso_result=round(pd.DataFrame(np.exp(lasso_model.predict(X_test))),3)\n",
    "lasso_result=lasso_result.set_index(X_test.index)\n",
    "lasso_result.columns = ['SalePrice']\n",
    "lasso_result.to_csv('lasso_model.csv')"
   ]
  },
  {
   "cell_type": "code",
   "execution_count": 114,
   "metadata": {
    "collapsed": true
   },
   "outputs": [
    {
     "name": "stdout",
     "output_type": "stream",
     "text": [
      "Fitting 5 folds for each of 50000 candidates, totalling 250000 fits\n"
     ]
    },
    {
     "ename": "JoblibAxisError",
     "evalue": "JoblibAxisError\n___________________________________________________________________________\nMultiprocessing exception:\n...........................................................................\n/Users/michaelchuang/anaconda/lib/python3.6/runpy.py in _run_module_as_main(mod_name='ipykernel_launcher', alter_argv=1)\n    188         sys.exit(msg)\n    189     main_globals = sys.modules[\"__main__\"].__dict__\n    190     if alter_argv:\n    191         sys.argv[0] = mod_spec.origin\n    192     return _run_code(code, main_globals, None,\n--> 193                      \"__main__\", mod_spec)\n        mod_spec = ModuleSpec(name='ipykernel_launcher', loader=<_f...b/python3.6/site-packages/ipykernel_launcher.py')\n    194 \n    195 def run_module(mod_name, init_globals=None,\n    196                run_name=None, alter_sys=False):\n    197     \"\"\"Execute a module's code without importing it\n\n...........................................................................\n/Users/michaelchuang/anaconda/lib/python3.6/runpy.py in _run_code(code=<code object <module> at 0x10b390a50, file \"/Use...3.6/site-packages/ipykernel_launcher.py\", line 5>, run_globals={'__annotations__': {}, '__builtins__': <module 'builtins' (built-in)>, '__cached__': '/Users/michaelchuang/anaconda/lib/python3.6/site...ges/__pycache__/ipykernel_launcher.cpython-36.pyc', '__doc__': 'Entry point for launching an IPython kernel.\\n\\nTh...orts until\\nafter removing the cwd from sys.path.\\n', '__file__': '/Users/michaelchuang/anaconda/lib/python3.6/site-packages/ipykernel_launcher.py', '__loader__': <_frozen_importlib_external.SourceFileLoader object>, '__name__': '__main__', '__package__': '', '__spec__': ModuleSpec(name='ipykernel_launcher', loader=<_f...b/python3.6/site-packages/ipykernel_launcher.py'), 'app': <module 'ipykernel.kernelapp' from '/Users/micha.../python3.6/site-packages/ipykernel/kernelapp.py'>, ...}, init_globals=None, mod_name='__main__', mod_spec=ModuleSpec(name='ipykernel_launcher', loader=<_f...b/python3.6/site-packages/ipykernel_launcher.py'), pkg_name='', script_name=None)\n     80                        __cached__ = cached,\n     81                        __doc__ = None,\n     82                        __loader__ = loader,\n     83                        __package__ = pkg_name,\n     84                        __spec__ = mod_spec)\n---> 85     exec(code, run_globals)\n        code = <code object <module> at 0x10b390a50, file \"/Use...3.6/site-packages/ipykernel_launcher.py\", line 5>\n        run_globals = {'__annotations__': {}, '__builtins__': <module 'builtins' (built-in)>, '__cached__': '/Users/michaelchuang/anaconda/lib/python3.6/site...ges/__pycache__/ipykernel_launcher.cpython-36.pyc', '__doc__': 'Entry point for launching an IPython kernel.\\n\\nTh...orts until\\nafter removing the cwd from sys.path.\\n', '__file__': '/Users/michaelchuang/anaconda/lib/python3.6/site-packages/ipykernel_launcher.py', '__loader__': <_frozen_importlib_external.SourceFileLoader object>, '__name__': '__main__', '__package__': '', '__spec__': ModuleSpec(name='ipykernel_launcher', loader=<_f...b/python3.6/site-packages/ipykernel_launcher.py'), 'app': <module 'ipykernel.kernelapp' from '/Users/micha.../python3.6/site-packages/ipykernel/kernelapp.py'>, ...}\n     86     return run_globals\n     87 \n     88 def _run_module_code(code, init_globals=None,\n     89                     mod_name=None, mod_spec=None,\n\n...........................................................................\n/Users/michaelchuang/anaconda/lib/python3.6/site-packages/ipykernel_launcher.py in <module>()\n     11     # This is added back by InteractiveShellApp.init_path()\n     12     if sys.path[0] == '':\n     13         del sys.path[0]\n     14 \n     15     from ipykernel import kernelapp as app\n---> 16     app.launch_new_instance()\n\n...........................................................................\n/Users/michaelchuang/anaconda/lib/python3.6/site-packages/traitlets/config/application.py in launch_instance(cls=<class 'ipykernel.kernelapp.IPKernelApp'>, argv=None, **kwargs={})\n    653 \n    654         If a global instance already exists, this reinitializes and starts it\n    655         \"\"\"\n    656         app = cls.instance(**kwargs)\n    657         app.initialize(argv)\n--> 658         app.start()\n        app.start = <bound method IPKernelApp.start of <ipykernel.kernelapp.IPKernelApp object>>\n    659 \n    660 #-----------------------------------------------------------------------------\n    661 # utility functions, for convenience\n    662 #-----------------------------------------------------------------------------\n\n...........................................................................\n/Users/michaelchuang/anaconda/lib/python3.6/site-packages/ipykernel/kernelapp.py in start(self=<ipykernel.kernelapp.IPKernelApp object>)\n    472             return self.subapp.start()\n    473         if self.poller is not None:\n    474             self.poller.start()\n    475         self.kernel.start()\n    476         try:\n--> 477             ioloop.IOLoop.instance().start()\n    478         except KeyboardInterrupt:\n    479             pass\n    480 \n    481 launch_new_instance = IPKernelApp.launch_instance\n\n...........................................................................\n/Users/michaelchuang/anaconda/lib/python3.6/site-packages/zmq/eventloop/ioloop.py in start(self=<zmq.eventloop.ioloop.ZMQIOLoop object>)\n    172             )\n    173         return loop\n    174     \n    175     def start(self):\n    176         try:\n--> 177             super(ZMQIOLoop, self).start()\n        self.start = <bound method ZMQIOLoop.start of <zmq.eventloop.ioloop.ZMQIOLoop object>>\n    178         except ZMQError as e:\n    179             if e.errno == ETERM:\n    180                 # quietly return on ETERM\n    181                 pass\n\n...........................................................................\n/Users/michaelchuang/anaconda/lib/python3.6/site-packages/tornado/ioloop.py in start(self=<zmq.eventloop.ioloop.ZMQIOLoop object>)\n    883                 self._events.update(event_pairs)\n    884                 while self._events:\n    885                     fd, events = self._events.popitem()\n    886                     try:\n    887                         fd_obj, handler_func = self._handlers[fd]\n--> 888                         handler_func(fd_obj, events)\n        handler_func = <function wrap.<locals>.null_wrapper>\n        fd_obj = <zmq.sugar.socket.Socket object>\n        events = 1\n    889                     except (OSError, IOError) as e:\n    890                         if errno_from_exception(e) == errno.EPIPE:\n    891                             # Happens when the client closes the connection\n    892                             pass\n\n...........................................................................\n/Users/michaelchuang/anaconda/lib/python3.6/site-packages/tornado/stack_context.py in null_wrapper(*args=(<zmq.sugar.socket.Socket object>, 1), **kwargs={})\n    272         # Fast path when there are no active contexts.\n    273         def null_wrapper(*args, **kwargs):\n    274             try:\n    275                 current_state = _state.contexts\n    276                 _state.contexts = cap_contexts[0]\n--> 277                 return fn(*args, **kwargs)\n        args = (<zmq.sugar.socket.Socket object>, 1)\n        kwargs = {}\n    278             finally:\n    279                 _state.contexts = current_state\n    280         null_wrapper._wrapped = True\n    281         return null_wrapper\n\n...........................................................................\n/Users/michaelchuang/anaconda/lib/python3.6/site-packages/zmq/eventloop/zmqstream.py in _handle_events(self=<zmq.eventloop.zmqstream.ZMQStream object>, fd=<zmq.sugar.socket.Socket object>, events=1)\n    435             # dispatch events:\n    436             if events & IOLoop.ERROR:\n    437                 gen_log.error(\"got POLLERR event on ZMQStream, which doesn't make sense\")\n    438                 return\n    439             if events & IOLoop.READ:\n--> 440                 self._handle_recv()\n        self._handle_recv = <bound method ZMQStream._handle_recv of <zmq.eventloop.zmqstream.ZMQStream object>>\n    441                 if not self.socket:\n    442                     return\n    443             if events & IOLoop.WRITE:\n    444                 self._handle_send()\n\n...........................................................................\n/Users/michaelchuang/anaconda/lib/python3.6/site-packages/zmq/eventloop/zmqstream.py in _handle_recv(self=<zmq.eventloop.zmqstream.ZMQStream object>)\n    467                 gen_log.error(\"RECV Error: %s\"%zmq.strerror(e.errno))\n    468         else:\n    469             if self._recv_callback:\n    470                 callback = self._recv_callback\n    471                 # self._recv_callback = None\n--> 472                 self._run_callback(callback, msg)\n        self._run_callback = <bound method ZMQStream._run_callback of <zmq.eventloop.zmqstream.ZMQStream object>>\n        callback = <function wrap.<locals>.null_wrapper>\n        msg = [<zmq.sugar.frame.Frame object>, <zmq.sugar.frame.Frame object>, <zmq.sugar.frame.Frame object>, <zmq.sugar.frame.Frame object>, <zmq.sugar.frame.Frame object>, <zmq.sugar.frame.Frame object>, <zmq.sugar.frame.Frame object>]\n    473                 \n    474         # self.update_state()\n    475         \n    476 \n\n...........................................................................\n/Users/michaelchuang/anaconda/lib/python3.6/site-packages/zmq/eventloop/zmqstream.py in _run_callback(self=<zmq.eventloop.zmqstream.ZMQStream object>, callback=<function wrap.<locals>.null_wrapper>, *args=([<zmq.sugar.frame.Frame object>, <zmq.sugar.frame.Frame object>, <zmq.sugar.frame.Frame object>, <zmq.sugar.frame.Frame object>, <zmq.sugar.frame.Frame object>, <zmq.sugar.frame.Frame object>, <zmq.sugar.frame.Frame object>],), **kwargs={})\n    409         close our socket.\"\"\"\n    410         try:\n    411             # Use a NullContext to ensure that all StackContexts are run\n    412             # inside our blanket exception handler rather than outside.\n    413             with stack_context.NullContext():\n--> 414                 callback(*args, **kwargs)\n        callback = <function wrap.<locals>.null_wrapper>\n        args = ([<zmq.sugar.frame.Frame object>, <zmq.sugar.frame.Frame object>, <zmq.sugar.frame.Frame object>, <zmq.sugar.frame.Frame object>, <zmq.sugar.frame.Frame object>, <zmq.sugar.frame.Frame object>, <zmq.sugar.frame.Frame object>],)\n        kwargs = {}\n    415         except:\n    416             gen_log.error(\"Uncaught exception, closing connection.\",\n    417                           exc_info=True)\n    418             # Close the socket on an uncaught exception from a user callback\n\n...........................................................................\n/Users/michaelchuang/anaconda/lib/python3.6/site-packages/tornado/stack_context.py in null_wrapper(*args=([<zmq.sugar.frame.Frame object>, <zmq.sugar.frame.Frame object>, <zmq.sugar.frame.Frame object>, <zmq.sugar.frame.Frame object>, <zmq.sugar.frame.Frame object>, <zmq.sugar.frame.Frame object>, <zmq.sugar.frame.Frame object>],), **kwargs={})\n    272         # Fast path when there are no active contexts.\n    273         def null_wrapper(*args, **kwargs):\n    274             try:\n    275                 current_state = _state.contexts\n    276                 _state.contexts = cap_contexts[0]\n--> 277                 return fn(*args, **kwargs)\n        args = ([<zmq.sugar.frame.Frame object>, <zmq.sugar.frame.Frame object>, <zmq.sugar.frame.Frame object>, <zmq.sugar.frame.Frame object>, <zmq.sugar.frame.Frame object>, <zmq.sugar.frame.Frame object>, <zmq.sugar.frame.Frame object>],)\n        kwargs = {}\n    278             finally:\n    279                 _state.contexts = current_state\n    280         null_wrapper._wrapped = True\n    281         return null_wrapper\n\n...........................................................................\n/Users/michaelchuang/anaconda/lib/python3.6/site-packages/ipykernel/kernelbase.py in dispatcher(msg=[<zmq.sugar.frame.Frame object>, <zmq.sugar.frame.Frame object>, <zmq.sugar.frame.Frame object>, <zmq.sugar.frame.Frame object>, <zmq.sugar.frame.Frame object>, <zmq.sugar.frame.Frame object>, <zmq.sugar.frame.Frame object>])\n    278         if self.control_stream:\n    279             self.control_stream.on_recv(self.dispatch_control, copy=False)\n    280 \n    281         def make_dispatcher(stream):\n    282             def dispatcher(msg):\n--> 283                 return self.dispatch_shell(stream, msg)\n        msg = [<zmq.sugar.frame.Frame object>, <zmq.sugar.frame.Frame object>, <zmq.sugar.frame.Frame object>, <zmq.sugar.frame.Frame object>, <zmq.sugar.frame.Frame object>, <zmq.sugar.frame.Frame object>, <zmq.sugar.frame.Frame object>]\n    284             return dispatcher\n    285 \n    286         for s in self.shell_streams:\n    287             s.on_recv(make_dispatcher(s), copy=False)\n\n...........................................................................\n/Users/michaelchuang/anaconda/lib/python3.6/site-packages/ipykernel/kernelbase.py in dispatch_shell(self=<ipykernel.ipkernel.IPythonKernel object>, stream=<zmq.eventloop.zmqstream.ZMQStream object>, msg={'buffers': [], 'content': {'allow_stdin': True, 'code': '##Grid search for optimal random tree parameters...1)\\n%time grid_search_elastic.fit(X_train, Y_vals)', 'silent': False, 'stop_on_error': True, 'store_history': True, 'user_expressions': {}}, 'header': {'date': datetime.datetime(2017, 11, 9, 16, 40, 49, 72629, tzinfo=datetime.timezone.utc), 'msg_id': 'B5FA3FD8E40B49A19C6500382C318953', 'msg_type': 'execute_request', 'session': 'C82811F576BF44BDA97A68006AC708CB', 'username': 'username', 'version': '5.0'}, 'metadata': {}, 'msg_id': 'B5FA3FD8E40B49A19C6500382C318953', 'msg_type': 'execute_request', 'parent_header': {}})\n    230             self.log.warn(\"Unknown message type: %r\", msg_type)\n    231         else:\n    232             self.log.debug(\"%s: %s\", msg_type, msg)\n    233             self.pre_handler_hook()\n    234             try:\n--> 235                 handler(stream, idents, msg)\n        handler = <bound method Kernel.execute_request of <ipykernel.ipkernel.IPythonKernel object>>\n        stream = <zmq.eventloop.zmqstream.ZMQStream object>\n        idents = [b'C82811F576BF44BDA97A68006AC708CB']\n        msg = {'buffers': [], 'content': {'allow_stdin': True, 'code': '##Grid search for optimal random tree parameters...1)\\n%time grid_search_elastic.fit(X_train, Y_vals)', 'silent': False, 'stop_on_error': True, 'store_history': True, 'user_expressions': {}}, 'header': {'date': datetime.datetime(2017, 11, 9, 16, 40, 49, 72629, tzinfo=datetime.timezone.utc), 'msg_id': 'B5FA3FD8E40B49A19C6500382C318953', 'msg_type': 'execute_request', 'session': 'C82811F576BF44BDA97A68006AC708CB', 'username': 'username', 'version': '5.0'}, 'metadata': {}, 'msg_id': 'B5FA3FD8E40B49A19C6500382C318953', 'msg_type': 'execute_request', 'parent_header': {}}\n    236             except Exception:\n    237                 self.log.error(\"Exception in message handler:\", exc_info=True)\n    238             finally:\n    239                 self.post_handler_hook()\n\n...........................................................................\n/Users/michaelchuang/anaconda/lib/python3.6/site-packages/ipykernel/kernelbase.py in execute_request(self=<ipykernel.ipkernel.IPythonKernel object>, stream=<zmq.eventloop.zmqstream.ZMQStream object>, ident=[b'C82811F576BF44BDA97A68006AC708CB'], parent={'buffers': [], 'content': {'allow_stdin': True, 'code': '##Grid search for optimal random tree parameters...1)\\n%time grid_search_elastic.fit(X_train, Y_vals)', 'silent': False, 'stop_on_error': True, 'store_history': True, 'user_expressions': {}}, 'header': {'date': datetime.datetime(2017, 11, 9, 16, 40, 49, 72629, tzinfo=datetime.timezone.utc), 'msg_id': 'B5FA3FD8E40B49A19C6500382C318953', 'msg_type': 'execute_request', 'session': 'C82811F576BF44BDA97A68006AC708CB', 'username': 'username', 'version': '5.0'}, 'metadata': {}, 'msg_id': 'B5FA3FD8E40B49A19C6500382C318953', 'msg_type': 'execute_request', 'parent_header': {}})\n    394         if not silent:\n    395             self.execution_count += 1\n    396             self._publish_execute_input(code, parent, self.execution_count)\n    397 \n    398         reply_content = self.do_execute(code, silent, store_history,\n--> 399                                         user_expressions, allow_stdin)\n        user_expressions = {}\n        allow_stdin = True\n    400 \n    401         # Flush output before sending the reply.\n    402         sys.stdout.flush()\n    403         sys.stderr.flush()\n\n...........................................................................\n/Users/michaelchuang/anaconda/lib/python3.6/site-packages/ipykernel/ipkernel.py in do_execute(self=<ipykernel.ipkernel.IPythonKernel object>, code='##Grid search for optimal random tree parameters...1)\\n%time grid_search_elastic.fit(X_train, Y_vals)', silent=False, store_history=True, user_expressions={}, allow_stdin=True)\n    191 \n    192         self._forward_input(allow_stdin)\n    193 \n    194         reply_content = {}\n    195         try:\n--> 196             res = shell.run_cell(code, store_history=store_history, silent=silent)\n        res = undefined\n        shell.run_cell = <bound method ZMQInteractiveShell.run_cell of <ipykernel.zmqshell.ZMQInteractiveShell object>>\n        code = '##Grid search for optimal random tree parameters...1)\\n%time grid_search_elastic.fit(X_train, Y_vals)'\n        store_history = True\n        silent = False\n    197         finally:\n    198             self._restore_input()\n    199 \n    200         if res.error_before_exec is not None:\n\n...........................................................................\n/Users/michaelchuang/anaconda/lib/python3.6/site-packages/ipykernel/zmqshell.py in run_cell(self=<ipykernel.zmqshell.ZMQInteractiveShell object>, *args=('##Grid search for optimal random tree parameters...1)\\n%time grid_search_elastic.fit(X_train, Y_vals)',), **kwargs={'silent': False, 'store_history': True})\n    528             )\n    529         self.payload_manager.write_payload(payload)\n    530 \n    531     def run_cell(self, *args, **kwargs):\n    532         self._last_traceback = None\n--> 533         return super(ZMQInteractiveShell, self).run_cell(*args, **kwargs)\n        self.run_cell = <bound method ZMQInteractiveShell.run_cell of <ipykernel.zmqshell.ZMQInteractiveShell object>>\n        args = ('##Grid search for optimal random tree parameters...1)\\n%time grid_search_elastic.fit(X_train, Y_vals)',)\n        kwargs = {'silent': False, 'store_history': True}\n    534 \n    535     def _showtraceback(self, etype, evalue, stb):\n    536         # try to preserve ordering of tracebacks and print statements\n    537         sys.stdout.flush()\n\n...........................................................................\n/Users/michaelchuang/anaconda/lib/python3.6/site-packages/IPython/core/interactiveshell.py in run_cell(self=<ipykernel.zmqshell.ZMQInteractiveShell object>, raw_cell='##Grid search for optimal random tree parameters...1)\\n%time grid_search_elastic.fit(X_train, Y_vals)', store_history=True, silent=False, shell_futures=True)\n   2712                 self.displayhook.exec_result = result\n   2713 \n   2714                 # Execute the user code\n   2715                 interactivity = \"none\" if silent else self.ast_node_interactivity\n   2716                 has_raised = self.run_ast_nodes(code_ast.body, cell_name,\n-> 2717                    interactivity=interactivity, compiler=compiler, result=result)\n        interactivity = 'last_expr'\n        compiler = <IPython.core.compilerop.CachingCompiler object>\n   2718                 \n   2719                 self.last_execution_succeeded = not has_raised\n   2720 \n   2721                 # Reset this so later displayed values do not modify the\n\n...........................................................................\n/Users/michaelchuang/anaconda/lib/python3.6/site-packages/IPython/core/interactiveshell.py in run_ast_nodes(self=<ipykernel.zmqshell.ZMQInteractiveShell object>, nodelist=[<_ast.Assign object>, <_ast.Assign object>, <_ast.Expr object>], cell_name='<ipython-input-114-04ad3047400f>', interactivity='last', compiler=<IPython.core.compilerop.CachingCompiler object>, result=<ExecutionResult object at 1a14b2b1d0, execution..._before_exec=None error_in_exec=None result=None>)\n   2822                     return True\n   2823 \n   2824             for i, node in enumerate(to_run_interactive):\n   2825                 mod = ast.Interactive([node])\n   2826                 code = compiler(mod, cell_name, \"single\")\n-> 2827                 if self.run_code(code, result):\n        self.run_code = <bound method InteractiveShell.run_code of <ipykernel.zmqshell.ZMQInteractiveShell object>>\n        code = <code object <module> at 0x1a1e9ad930, file \"<ipython-input-114-04ad3047400f>\", line 9>\n        result = <ExecutionResult object at 1a14b2b1d0, execution..._before_exec=None error_in_exec=None result=None>\n   2828                     return True\n   2829 \n   2830             # Flush softspace\n   2831             if softspace(sys.stdout, 0):\n\n...........................................................................\n/Users/michaelchuang/anaconda/lib/python3.6/site-packages/IPython/core/interactiveshell.py in run_code(self=<ipykernel.zmqshell.ZMQInteractiveShell object>, code_obj=<code object <module> at 0x1a1e9ad930, file \"<ipython-input-114-04ad3047400f>\", line 9>, result=<ExecutionResult object at 1a14b2b1d0, execution..._before_exec=None error_in_exec=None result=None>)\n   2876         outflag = 1  # happens in more places, so it's easier as default\n   2877         try:\n   2878             try:\n   2879                 self.hooks.pre_run_code_hook()\n   2880                 #rprint('Running code', repr(code_obj)) # dbg\n-> 2881                 exec(code_obj, self.user_global_ns, self.user_ns)\n        code_obj = <code object <module> at 0x1a1e9ad930, file \"<ipython-input-114-04ad3047400f>\", line 9>\n        self.user_global_ns = {'BayesianOptimization': <class 'bayes_opt.bayesian_optimization.BayesianOptimization'>, 'GridSearchCV': <class 'sklearn.model_selection._search.GridSearchCV'>, 'In': ['', 'from bayes_opt import BayesianOptimization', 'lasso_reg = linear_model.LassoCV(random_state=0,...in, np.ravel(Y_vals))\\n##score=0.93082405005697799', '\\nfrom sklearn import linear_model\\nfrom sklearn.e...\\nfrom sklearn.model_selection import GridSearchCV', 'lasso_reg = linear_model.LassoCV(random_state=0,...in, np.ravel(Y_vals))\\n##score=0.93082405005697799', \"#loading train\\ndf_train=pd.read_csv('./cleaned_t...est\\ndf_test=pd.read_csv('cleaned_test_dummy.csv')\", \"##Setting index as ID columns\\ndf_test.set_index(... True)\\ndf_train.set_index(['Id'], inplace = True)\", \"import pandas as pd\\nimport pandas as pd\\nimport n...t as plt\\nget_ipython().magic('matplotlib inline')\", \"#loading train\\ndf_train=pd.read_csv('./cleaned_t...est\\ndf_test=pd.read_csv('cleaned_test_dummy.csv')\", \"##Setting index as ID columns\\ndf_test.set_index(... True)\\ndf_train.set_index(['Id'], inplace = True)\", \"##Setting y and x to begin running models\\nY_vals...e']\\nX_train=df_train.copy()\\nX_test=df_test.copy()\", '\\nfrom sklearn import linear_model\\nfrom sklearn.e...\\nfrom sklearn.model_selection import GridSearchCV', 'lasso_reg = linear_model.LassoCV(random_state=0,...in, np.ravel(Y_vals))\\n##score=0.93082405005697799', \"Lres=round(pd.DataFrame(np.exp(lasso_reg.predict...olumns = ['SalePrice']\\nLres.to_csv('lasso_model')\", \"Lres=round(pd.DataFrame(np.exp(lasso_reg.predict...olumns = ['SalePrice']\\nLres.to_csv('lasso_model')\", \"Lres=round(pd.DataFrame(np.exp(lasso_reg.predict...ns = ['SalePrice']\\nLres.to_csv('lasso_model.csv')\", \"df_rfr=pd.read_csv('./rfr_model.csv')\\ndf_lasso=pd.read_csv('./lasso_model.csv')\", 'df_average = mean(df_rfr+df_lasso)', 'df_average = np.mean(df_rfr+df_lasso)', 'df_average', ...], 'KFold': <class 'sklearn.model_selection._split.KFold'>, 'Lres':        SalePrice\nId              \n1461  122710.7...712.429\n2919  227821.008\n\n[1459 rows x 1 columns], 'Out': {12: 0.93082405005697799, 19: Id             4380.000000\nSalePrice    352646.290131\ndtype: float64, 21:         Id   SalePrice\n0     2922  249456.385\n1 ...1\n1458  5838  443290.982\n\n[1459 rows x 2 columns], 23:           Id    SalePrice\n0     1461.0  124728.1...458  2919.0  221645.4910\n\n[1459 rows x 2 columns], 24:         Id   SalePrice\n0     1461  126745.630\n1 ...2\n1458  2919  215469.974\n\n[1459 rows x 2 columns], 26:         Id   SalePrice\n0     1461  126745.630\n1 ...2\n1458  2919  215469.974\n\n[1459 rows x 2 columns], 27:        SalePrice\nId              \n1461  126745.6...581.532\n2919  215469.974\n\n[1459 rows x 1 columns], 30:         SalePrice\nId               \n1461  124728...6.9805\n2919  221645.4910\n\n[1459 rows x 1 columns], 33: 0.93082405005697799, 34: 0.93082405005697799, ...}, 'X_test':       1stFlrSF  2ndFlrSF  3SsnPorch  Alley  Bedr...19                 0  \n\n[1459 rows x 283 columns], 'X_train':       1stFlrSF  2ndFlrSF  3SsnPorch  Alley  Bedr...60                 0  \n\n[1460 rows x 283 columns], 'Y_vals': array([ 12.24769432,  12.10901093,  12.31716669,... 12.49312952,\n        11.86446223,  11.90158345]), '_': 0.94361478046473457, ...}\n        self.user_ns = {'BayesianOptimization': <class 'bayes_opt.bayesian_optimization.BayesianOptimization'>, 'GridSearchCV': <class 'sklearn.model_selection._search.GridSearchCV'>, 'In': ['', 'from bayes_opt import BayesianOptimization', 'lasso_reg = linear_model.LassoCV(random_state=0,...in, np.ravel(Y_vals))\\n##score=0.93082405005697799', '\\nfrom sklearn import linear_model\\nfrom sklearn.e...\\nfrom sklearn.model_selection import GridSearchCV', 'lasso_reg = linear_model.LassoCV(random_state=0,...in, np.ravel(Y_vals))\\n##score=0.93082405005697799', \"#loading train\\ndf_train=pd.read_csv('./cleaned_t...est\\ndf_test=pd.read_csv('cleaned_test_dummy.csv')\", \"##Setting index as ID columns\\ndf_test.set_index(... True)\\ndf_train.set_index(['Id'], inplace = True)\", \"import pandas as pd\\nimport pandas as pd\\nimport n...t as plt\\nget_ipython().magic('matplotlib inline')\", \"#loading train\\ndf_train=pd.read_csv('./cleaned_t...est\\ndf_test=pd.read_csv('cleaned_test_dummy.csv')\", \"##Setting index as ID columns\\ndf_test.set_index(... True)\\ndf_train.set_index(['Id'], inplace = True)\", \"##Setting y and x to begin running models\\nY_vals...e']\\nX_train=df_train.copy()\\nX_test=df_test.copy()\", '\\nfrom sklearn import linear_model\\nfrom sklearn.e...\\nfrom sklearn.model_selection import GridSearchCV', 'lasso_reg = linear_model.LassoCV(random_state=0,...in, np.ravel(Y_vals))\\n##score=0.93082405005697799', \"Lres=round(pd.DataFrame(np.exp(lasso_reg.predict...olumns = ['SalePrice']\\nLres.to_csv('lasso_model')\", \"Lres=round(pd.DataFrame(np.exp(lasso_reg.predict...olumns = ['SalePrice']\\nLres.to_csv('lasso_model')\", \"Lres=round(pd.DataFrame(np.exp(lasso_reg.predict...ns = ['SalePrice']\\nLres.to_csv('lasso_model.csv')\", \"df_rfr=pd.read_csv('./rfr_model.csv')\\ndf_lasso=pd.read_csv('./lasso_model.csv')\", 'df_average = mean(df_rfr+df_lasso)', 'df_average = np.mean(df_rfr+df_lasso)', 'df_average', ...], 'KFold': <class 'sklearn.model_selection._split.KFold'>, 'Lres':        SalePrice\nId              \n1461  122710.7...712.429\n2919  227821.008\n\n[1459 rows x 1 columns], 'Out': {12: 0.93082405005697799, 19: Id             4380.000000\nSalePrice    352646.290131\ndtype: float64, 21:         Id   SalePrice\n0     2922  249456.385\n1 ...1\n1458  5838  443290.982\n\n[1459 rows x 2 columns], 23:           Id    SalePrice\n0     1461.0  124728.1...458  2919.0  221645.4910\n\n[1459 rows x 2 columns], 24:         Id   SalePrice\n0     1461  126745.630\n1 ...2\n1458  2919  215469.974\n\n[1459 rows x 2 columns], 26:         Id   SalePrice\n0     1461  126745.630\n1 ...2\n1458  2919  215469.974\n\n[1459 rows x 2 columns], 27:        SalePrice\nId              \n1461  126745.6...581.532\n2919  215469.974\n\n[1459 rows x 1 columns], 30:         SalePrice\nId               \n1461  124728...6.9805\n2919  221645.4910\n\n[1459 rows x 1 columns], 33: 0.93082405005697799, 34: 0.93082405005697799, ...}, 'X_test':       1stFlrSF  2ndFlrSF  3SsnPorch  Alley  Bedr...19                 0  \n\n[1459 rows x 283 columns], 'X_train':       1stFlrSF  2ndFlrSF  3SsnPorch  Alley  Bedr...60                 0  \n\n[1460 rows x 283 columns], 'Y_vals': array([ 12.24769432,  12.10901093,  12.31716669,... 12.49312952,\n        11.86446223,  11.90158345]), '_': 0.94361478046473457, ...}\n   2882             finally:\n   2883                 # Reset our crash handler in place\n   2884                 sys.excepthook = old_excepthook\n   2885         except SystemExit as e:\n\n...........................................................................\n/Users/michaelchuang/git_project/ML_project/<ipython-input-114-04ad3047400f> in <module>()\n      4     \"alphas\": np.linspace(0,20,num=10),\n      5     \"l1_ratio\": np.linspace(0.1,1,10),\n      6     \"normalize\" : [True]\n      7 }]\n      8 grid_search_elastic = GridSearchCV(elastic_model, grid_para_elastic, cv=5, n_jobs=-1, verbose=1)\n----> 9 get_ipython().magic('time grid_search_elastic.fit(X_train, Y_vals)')\n\n...........................................................................\n/Users/michaelchuang/anaconda/lib/python3.6/site-packages/IPython/core/interactiveshell.py in magic(self=<ipykernel.zmqshell.ZMQInteractiveShell object>, arg_s='time grid_search_elastic.fit(X_train, Y_vals)')\n   2153         compound statements.\n   2154         \"\"\"\n   2155         # TODO: should we issue a loud deprecation warning here?\n   2156         magic_name, _, magic_arg_s = arg_s.partition(' ')\n   2157         magic_name = magic_name.lstrip(prefilter.ESC_MAGIC)\n-> 2158         return self.run_line_magic(magic_name, magic_arg_s)\n        self.run_line_magic = <bound method InteractiveShell.run_line_magic of <ipykernel.zmqshell.ZMQInteractiveShell object>>\n        magic_name = 'time'\n        magic_arg_s = 'grid_search_elastic.fit(X_train, Y_vals)'\n   2159 \n   2160     #-------------------------------------------------------------------------\n   2161     # Things related to macros\n   2162     #-------------------------------------------------------------------------\n\n...........................................................................\n/Users/michaelchuang/anaconda/lib/python3.6/site-packages/IPython/core/interactiveshell.py in run_line_magic(self=<ipykernel.zmqshell.ZMQInteractiveShell object>, magic_name='time', line='grid_search_elastic.fit(X_train, Y_vals)')\n   2074             kwargs = {}\n   2075             # Grab local namespace if we need it:\n   2076             if getattr(fn, \"needs_local_scope\", False):\n   2077                 kwargs['local_ns'] = sys._getframe(stack_depth).f_locals\n   2078             with self.builtin_trap:\n-> 2079                 result = fn(*args,**kwargs)\n        result = undefined\n        fn = <bound method ExecutionMagics.time of <IPython.core.magics.execution.ExecutionMagics object>>\n        args = ['grid_search_elastic.fit(X_train, Y_vals)']\n        kwargs = {'local_ns': {'BayesianOptimization': <class 'bayes_opt.bayesian_optimization.BayesianOptimization'>, 'GridSearchCV': <class 'sklearn.model_selection._search.GridSearchCV'>, 'In': ['', 'from bayes_opt import BayesianOptimization', 'lasso_reg = linear_model.LassoCV(random_state=0,...in, np.ravel(Y_vals))\\n##score=0.93082405005697799', '\\nfrom sklearn import linear_model\\nfrom sklearn.e...\\nfrom sklearn.model_selection import GridSearchCV', 'lasso_reg = linear_model.LassoCV(random_state=0,...in, np.ravel(Y_vals))\\n##score=0.93082405005697799', \"#loading train\\ndf_train=pd.read_csv('./cleaned_t...est\\ndf_test=pd.read_csv('cleaned_test_dummy.csv')\", \"##Setting index as ID columns\\ndf_test.set_index(... True)\\ndf_train.set_index(['Id'], inplace = True)\", \"import pandas as pd\\nimport pandas as pd\\nimport n...t as plt\\nget_ipython().magic('matplotlib inline')\", \"#loading train\\ndf_train=pd.read_csv('./cleaned_t...est\\ndf_test=pd.read_csv('cleaned_test_dummy.csv')\", \"##Setting index as ID columns\\ndf_test.set_index(... True)\\ndf_train.set_index(['Id'], inplace = True)\", \"##Setting y and x to begin running models\\nY_vals...e']\\nX_train=df_train.copy()\\nX_test=df_test.copy()\", '\\nfrom sklearn import linear_model\\nfrom sklearn.e...\\nfrom sklearn.model_selection import GridSearchCV', 'lasso_reg = linear_model.LassoCV(random_state=0,...in, np.ravel(Y_vals))\\n##score=0.93082405005697799', \"Lres=round(pd.DataFrame(np.exp(lasso_reg.predict...olumns = ['SalePrice']\\nLres.to_csv('lasso_model')\", \"Lres=round(pd.DataFrame(np.exp(lasso_reg.predict...olumns = ['SalePrice']\\nLres.to_csv('lasso_model')\", \"Lres=round(pd.DataFrame(np.exp(lasso_reg.predict...ns = ['SalePrice']\\nLres.to_csv('lasso_model.csv')\", \"df_rfr=pd.read_csv('./rfr_model.csv')\\ndf_lasso=pd.read_csv('./lasso_model.csv')\", 'df_average = mean(df_rfr+df_lasso)', 'df_average = np.mean(df_rfr+df_lasso)', 'df_average', ...], 'KFold': <class 'sklearn.model_selection._split.KFold'>, 'Lres':        SalePrice\nId              \n1461  122710.7...712.429\n2919  227821.008\n\n[1459 rows x 1 columns], 'Out': {12: 0.93082405005697799, 19: Id             4380.000000\nSalePrice    352646.290131\ndtype: float64, 21:         Id   SalePrice\n0     2922  249456.385\n1 ...1\n1458  5838  443290.982\n\n[1459 rows x 2 columns], 23:           Id    SalePrice\n0     1461.0  124728.1...458  2919.0  221645.4910\n\n[1459 rows x 2 columns], 24:         Id   SalePrice\n0     1461  126745.630\n1 ...2\n1458  2919  215469.974\n\n[1459 rows x 2 columns], 26:         Id   SalePrice\n0     1461  126745.630\n1 ...2\n1458  2919  215469.974\n\n[1459 rows x 2 columns], 27:        SalePrice\nId              \n1461  126745.6...581.532\n2919  215469.974\n\n[1459 rows x 1 columns], 30:         SalePrice\nId               \n1461  124728...6.9805\n2919  221645.4910\n\n[1459 rows x 1 columns], 33: 0.93082405005697799, 34: 0.93082405005697799, ...}, 'X_test':       1stFlrSF  2ndFlrSF  3SsnPorch  Alley  Bedr...19                 0  \n\n[1459 rows x 283 columns], 'X_train':       1stFlrSF  2ndFlrSF  3SsnPorch  Alley  Bedr...60                 0  \n\n[1460 rows x 283 columns], 'Y_vals': array([ 12.24769432,  12.10901093,  12.31716669,... 12.49312952,\n        11.86446223,  11.90158345]), '_': 0.94361478046473457, ...}}\n   2080             return result\n   2081 \n   2082     def run_cell_magic(self, magic_name, line, cell):\n   2083         \"\"\"Execute the given cell magic.\n\n...........................................................................\n/Users/michaelchuang/git_project/ML_project/<decorator-gen-59> in time(self=<IPython.core.magics.execution.ExecutionMagics object>, line='grid_search_elastic.fit(X_train, Y_vals)', cell=None, local_ns={'BayesianOptimization': <class 'bayes_opt.bayesian_optimization.BayesianOptimization'>, 'GridSearchCV': <class 'sklearn.model_selection._search.GridSearchCV'>, 'In': ['', 'from bayes_opt import BayesianOptimization', 'lasso_reg = linear_model.LassoCV(random_state=0,...in, np.ravel(Y_vals))\\n##score=0.93082405005697799', '\\nfrom sklearn import linear_model\\nfrom sklearn.e...\\nfrom sklearn.model_selection import GridSearchCV', 'lasso_reg = linear_model.LassoCV(random_state=0,...in, np.ravel(Y_vals))\\n##score=0.93082405005697799', \"#loading train\\ndf_train=pd.read_csv('./cleaned_t...est\\ndf_test=pd.read_csv('cleaned_test_dummy.csv')\", \"##Setting index as ID columns\\ndf_test.set_index(... True)\\ndf_train.set_index(['Id'], inplace = True)\", \"import pandas as pd\\nimport pandas as pd\\nimport n...t as plt\\nget_ipython().magic('matplotlib inline')\", \"#loading train\\ndf_train=pd.read_csv('./cleaned_t...est\\ndf_test=pd.read_csv('cleaned_test_dummy.csv')\", \"##Setting index as ID columns\\ndf_test.set_index(... True)\\ndf_train.set_index(['Id'], inplace = True)\", \"##Setting y and x to begin running models\\nY_vals...e']\\nX_train=df_train.copy()\\nX_test=df_test.copy()\", '\\nfrom sklearn import linear_model\\nfrom sklearn.e...\\nfrom sklearn.model_selection import GridSearchCV', 'lasso_reg = linear_model.LassoCV(random_state=0,...in, np.ravel(Y_vals))\\n##score=0.93082405005697799', \"Lres=round(pd.DataFrame(np.exp(lasso_reg.predict...olumns = ['SalePrice']\\nLres.to_csv('lasso_model')\", \"Lres=round(pd.DataFrame(np.exp(lasso_reg.predict...olumns = ['SalePrice']\\nLres.to_csv('lasso_model')\", \"Lres=round(pd.DataFrame(np.exp(lasso_reg.predict...ns = ['SalePrice']\\nLres.to_csv('lasso_model.csv')\", \"df_rfr=pd.read_csv('./rfr_model.csv')\\ndf_lasso=pd.read_csv('./lasso_model.csv')\", 'df_average = mean(df_rfr+df_lasso)', 'df_average = np.mean(df_rfr+df_lasso)', 'df_average', ...], 'KFold': <class 'sklearn.model_selection._split.KFold'>, 'Lres':        SalePrice\nId              \n1461  122710.7...712.429\n2919  227821.008\n\n[1459 rows x 1 columns], 'Out': {12: 0.93082405005697799, 19: Id             4380.000000\nSalePrice    352646.290131\ndtype: float64, 21:         Id   SalePrice\n0     2922  249456.385\n1 ...1\n1458  5838  443290.982\n\n[1459 rows x 2 columns], 23:           Id    SalePrice\n0     1461.0  124728.1...458  2919.0  221645.4910\n\n[1459 rows x 2 columns], 24:         Id   SalePrice\n0     1461  126745.630\n1 ...2\n1458  2919  215469.974\n\n[1459 rows x 2 columns], 26:         Id   SalePrice\n0     1461  126745.630\n1 ...2\n1458  2919  215469.974\n\n[1459 rows x 2 columns], 27:        SalePrice\nId              \n1461  126745.6...581.532\n2919  215469.974\n\n[1459 rows x 1 columns], 30:         SalePrice\nId               \n1461  124728...6.9805\n2919  221645.4910\n\n[1459 rows x 1 columns], 33: 0.93082405005697799, 34: 0.93082405005697799, ...}, 'X_test':       1stFlrSF  2ndFlrSF  3SsnPorch  Alley  Bedr...19                 0  \n\n[1459 rows x 283 columns], 'X_train':       1stFlrSF  2ndFlrSF  3SsnPorch  Alley  Bedr...60                 0  \n\n[1460 rows x 283 columns], 'Y_vals': array([ 12.24769432,  12.10901093,  12.31716669,... 12.49312952,\n        11.86446223,  11.90158345]), '_': 0.94361478046473457, ...})\n\n...........................................................................\n/Users/michaelchuang/anaconda/lib/python3.6/site-packages/IPython/core/magic.py in <lambda>(f=<function ExecutionMagics.time>, *a=(<IPython.core.magics.execution.ExecutionMagics object>, 'grid_search_elastic.fit(X_train, Y_vals)', None, {'BayesianOptimization': <class 'bayes_opt.bayesian_optimization.BayesianOptimization'>, 'GridSearchCV': <class 'sklearn.model_selection._search.GridSearchCV'>, 'In': ['', 'from bayes_opt import BayesianOptimization', 'lasso_reg = linear_model.LassoCV(random_state=0,...in, np.ravel(Y_vals))\\n##score=0.93082405005697799', '\\nfrom sklearn import linear_model\\nfrom sklearn.e...\\nfrom sklearn.model_selection import GridSearchCV', 'lasso_reg = linear_model.LassoCV(random_state=0,...in, np.ravel(Y_vals))\\n##score=0.93082405005697799', \"#loading train\\ndf_train=pd.read_csv('./cleaned_t...est\\ndf_test=pd.read_csv('cleaned_test_dummy.csv')\", \"##Setting index as ID columns\\ndf_test.set_index(... True)\\ndf_train.set_index(['Id'], inplace = True)\", \"import pandas as pd\\nimport pandas as pd\\nimport n...t as plt\\nget_ipython().magic('matplotlib inline')\", \"#loading train\\ndf_train=pd.read_csv('./cleaned_t...est\\ndf_test=pd.read_csv('cleaned_test_dummy.csv')\", \"##Setting index as ID columns\\ndf_test.set_index(... True)\\ndf_train.set_index(['Id'], inplace = True)\", \"##Setting y and x to begin running models\\nY_vals...e']\\nX_train=df_train.copy()\\nX_test=df_test.copy()\", '\\nfrom sklearn import linear_model\\nfrom sklearn.e...\\nfrom sklearn.model_selection import GridSearchCV', 'lasso_reg = linear_model.LassoCV(random_state=0,...in, np.ravel(Y_vals))\\n##score=0.93082405005697799', \"Lres=round(pd.DataFrame(np.exp(lasso_reg.predict...olumns = ['SalePrice']\\nLres.to_csv('lasso_model')\", \"Lres=round(pd.DataFrame(np.exp(lasso_reg.predict...olumns = ['SalePrice']\\nLres.to_csv('lasso_model')\", \"Lres=round(pd.DataFrame(np.exp(lasso_reg.predict...ns = ['SalePrice']\\nLres.to_csv('lasso_model.csv')\", \"df_rfr=pd.read_csv('./rfr_model.csv')\\ndf_lasso=pd.read_csv('./lasso_model.csv')\", 'df_average = mean(df_rfr+df_lasso)', 'df_average = np.mean(df_rfr+df_lasso)', 'df_average', ...], 'KFold': <class 'sklearn.model_selection._split.KFold'>, 'Lres':        SalePrice\nId              \n1461  122710.7...712.429\n2919  227821.008\n\n[1459 rows x 1 columns], 'Out': {12: 0.93082405005697799, 19: Id             4380.000000\nSalePrice    352646.290131\ndtype: float64, 21:         Id   SalePrice\n0     2922  249456.385\n1 ...1\n1458  5838  443290.982\n\n[1459 rows x 2 columns], 23:           Id    SalePrice\n0     1461.0  124728.1...458  2919.0  221645.4910\n\n[1459 rows x 2 columns], 24:         Id   SalePrice\n0     1461  126745.630\n1 ...2\n1458  2919  215469.974\n\n[1459 rows x 2 columns], 26:         Id   SalePrice\n0     1461  126745.630\n1 ...2\n1458  2919  215469.974\n\n[1459 rows x 2 columns], 27:        SalePrice\nId              \n1461  126745.6...581.532\n2919  215469.974\n\n[1459 rows x 1 columns], 30:         SalePrice\nId               \n1461  124728...6.9805\n2919  221645.4910\n\n[1459 rows x 1 columns], 33: 0.93082405005697799, 34: 0.93082405005697799, ...}, 'X_test':       1stFlrSF  2ndFlrSF  3SsnPorch  Alley  Bedr...19                 0  \n\n[1459 rows x 283 columns], 'X_train':       1stFlrSF  2ndFlrSF  3SsnPorch  Alley  Bedr...60                 0  \n\n[1460 rows x 283 columns], 'Y_vals': array([ 12.24769432,  12.10901093,  12.31716669,... 12.49312952,\n        11.86446223,  11.90158345]), '_': 0.94361478046473457, ...}), **k={})\n    183     validate_type(magic_kind)\n    184 \n    185     # This is a closure to capture the magic_kind.  We could also use a class,\n    186     # but it's overkill for just that one bit of state.\n    187     def magic_deco(arg):\n--> 188         call = lambda f, *a, **k: f(*a, **k)\n        f = <function ExecutionMagics.time>\n        a = (<IPython.core.magics.execution.ExecutionMagics object>, 'grid_search_elastic.fit(X_train, Y_vals)', None, {'BayesianOptimization': <class 'bayes_opt.bayesian_optimization.BayesianOptimization'>, 'GridSearchCV': <class 'sklearn.model_selection._search.GridSearchCV'>, 'In': ['', 'from bayes_opt import BayesianOptimization', 'lasso_reg = linear_model.LassoCV(random_state=0,...in, np.ravel(Y_vals))\\n##score=0.93082405005697799', '\\nfrom sklearn import linear_model\\nfrom sklearn.e...\\nfrom sklearn.model_selection import GridSearchCV', 'lasso_reg = linear_model.LassoCV(random_state=0,...in, np.ravel(Y_vals))\\n##score=0.93082405005697799', \"#loading train\\ndf_train=pd.read_csv('./cleaned_t...est\\ndf_test=pd.read_csv('cleaned_test_dummy.csv')\", \"##Setting index as ID columns\\ndf_test.set_index(... True)\\ndf_train.set_index(['Id'], inplace = True)\", \"import pandas as pd\\nimport pandas as pd\\nimport n...t as plt\\nget_ipython().magic('matplotlib inline')\", \"#loading train\\ndf_train=pd.read_csv('./cleaned_t...est\\ndf_test=pd.read_csv('cleaned_test_dummy.csv')\", \"##Setting index as ID columns\\ndf_test.set_index(... True)\\ndf_train.set_index(['Id'], inplace = True)\", \"##Setting y and x to begin running models\\nY_vals...e']\\nX_train=df_train.copy()\\nX_test=df_test.copy()\", '\\nfrom sklearn import linear_model\\nfrom sklearn.e...\\nfrom sklearn.model_selection import GridSearchCV', 'lasso_reg = linear_model.LassoCV(random_state=0,...in, np.ravel(Y_vals))\\n##score=0.93082405005697799', \"Lres=round(pd.DataFrame(np.exp(lasso_reg.predict...olumns = ['SalePrice']\\nLres.to_csv('lasso_model')\", \"Lres=round(pd.DataFrame(np.exp(lasso_reg.predict...olumns = ['SalePrice']\\nLres.to_csv('lasso_model')\", \"Lres=round(pd.DataFrame(np.exp(lasso_reg.predict...ns = ['SalePrice']\\nLres.to_csv('lasso_model.csv')\", \"df_rfr=pd.read_csv('./rfr_model.csv')\\ndf_lasso=pd.read_csv('./lasso_model.csv')\", 'df_average = mean(df_rfr+df_lasso)', 'df_average = np.mean(df_rfr+df_lasso)', 'df_average', ...], 'KFold': <class 'sklearn.model_selection._split.KFold'>, 'Lres':        SalePrice\nId              \n1461  122710.7...712.429\n2919  227821.008\n\n[1459 rows x 1 columns], 'Out': {12: 0.93082405005697799, 19: Id             4380.000000\nSalePrice    352646.290131\ndtype: float64, 21:         Id   SalePrice\n0     2922  249456.385\n1 ...1\n1458  5838  443290.982\n\n[1459 rows x 2 columns], 23:           Id    SalePrice\n0     1461.0  124728.1...458  2919.0  221645.4910\n\n[1459 rows x 2 columns], 24:         Id   SalePrice\n0     1461  126745.630\n1 ...2\n1458  2919  215469.974\n\n[1459 rows x 2 columns], 26:         Id   SalePrice\n0     1461  126745.630\n1 ...2\n1458  2919  215469.974\n\n[1459 rows x 2 columns], 27:        SalePrice\nId              \n1461  126745.6...581.532\n2919  215469.974\n\n[1459 rows x 1 columns], 30:         SalePrice\nId               \n1461  124728...6.9805\n2919  221645.4910\n\n[1459 rows x 1 columns], 33: 0.93082405005697799, 34: 0.93082405005697799, ...}, 'X_test':       1stFlrSF  2ndFlrSF  3SsnPorch  Alley  Bedr...19                 0  \n\n[1459 rows x 283 columns], 'X_train':       1stFlrSF  2ndFlrSF  3SsnPorch  Alley  Bedr...60                 0  \n\n[1460 rows x 283 columns], 'Y_vals': array([ 12.24769432,  12.10901093,  12.31716669,... 12.49312952,\n        11.86446223,  11.90158345]), '_': 0.94361478046473457, ...})\n        k = {}\n    189 \n    190         if callable(arg):\n    191             # \"Naked\" decorator call (just @foo, no args)\n    192             func = arg\n\n...........................................................................\n/Users/michaelchuang/anaconda/lib/python3.6/site-packages/IPython/core/magics/execution.py in time(self=<IPython.core.magics.execution.ExecutionMagics object>, line='grid_search_elastic.fit(X_train, Y_vals)', cell=None, local_ns={'BayesianOptimization': <class 'bayes_opt.bayesian_optimization.BayesianOptimization'>, 'GridSearchCV': <class 'sklearn.model_selection._search.GridSearchCV'>, 'In': ['', 'from bayes_opt import BayesianOptimization', 'lasso_reg = linear_model.LassoCV(random_state=0,...in, np.ravel(Y_vals))\\n##score=0.93082405005697799', '\\nfrom sklearn import linear_model\\nfrom sklearn.e...\\nfrom sklearn.model_selection import GridSearchCV', 'lasso_reg = linear_model.LassoCV(random_state=0,...in, np.ravel(Y_vals))\\n##score=0.93082405005697799', \"#loading train\\ndf_train=pd.read_csv('./cleaned_t...est\\ndf_test=pd.read_csv('cleaned_test_dummy.csv')\", \"##Setting index as ID columns\\ndf_test.set_index(... True)\\ndf_train.set_index(['Id'], inplace = True)\", \"import pandas as pd\\nimport pandas as pd\\nimport n...t as plt\\nget_ipython().magic('matplotlib inline')\", \"#loading train\\ndf_train=pd.read_csv('./cleaned_t...est\\ndf_test=pd.read_csv('cleaned_test_dummy.csv')\", \"##Setting index as ID columns\\ndf_test.set_index(... True)\\ndf_train.set_index(['Id'], inplace = True)\", \"##Setting y and x to begin running models\\nY_vals...e']\\nX_train=df_train.copy()\\nX_test=df_test.copy()\", '\\nfrom sklearn import linear_model\\nfrom sklearn.e...\\nfrom sklearn.model_selection import GridSearchCV', 'lasso_reg = linear_model.LassoCV(random_state=0,...in, np.ravel(Y_vals))\\n##score=0.93082405005697799', \"Lres=round(pd.DataFrame(np.exp(lasso_reg.predict...olumns = ['SalePrice']\\nLres.to_csv('lasso_model')\", \"Lres=round(pd.DataFrame(np.exp(lasso_reg.predict...olumns = ['SalePrice']\\nLres.to_csv('lasso_model')\", \"Lres=round(pd.DataFrame(np.exp(lasso_reg.predict...ns = ['SalePrice']\\nLres.to_csv('lasso_model.csv')\", \"df_rfr=pd.read_csv('./rfr_model.csv')\\ndf_lasso=pd.read_csv('./lasso_model.csv')\", 'df_average = mean(df_rfr+df_lasso)', 'df_average = np.mean(df_rfr+df_lasso)', 'df_average', ...], 'KFold': <class 'sklearn.model_selection._split.KFold'>, 'Lres':        SalePrice\nId              \n1461  122710.7...712.429\n2919  227821.008\n\n[1459 rows x 1 columns], 'Out': {12: 0.93082405005697799, 19: Id             4380.000000\nSalePrice    352646.290131\ndtype: float64, 21:         Id   SalePrice\n0     2922  249456.385\n1 ...1\n1458  5838  443290.982\n\n[1459 rows x 2 columns], 23:           Id    SalePrice\n0     1461.0  124728.1...458  2919.0  221645.4910\n\n[1459 rows x 2 columns], 24:         Id   SalePrice\n0     1461  126745.630\n1 ...2\n1458  2919  215469.974\n\n[1459 rows x 2 columns], 26:         Id   SalePrice\n0     1461  126745.630\n1 ...2\n1458  2919  215469.974\n\n[1459 rows x 2 columns], 27:        SalePrice\nId              \n1461  126745.6...581.532\n2919  215469.974\n\n[1459 rows x 1 columns], 30:         SalePrice\nId               \n1461  124728...6.9805\n2919  221645.4910\n\n[1459 rows x 1 columns], 33: 0.93082405005697799, 34: 0.93082405005697799, ...}, 'X_test':       1stFlrSF  2ndFlrSF  3SsnPorch  Alley  Bedr...19                 0  \n\n[1459 rows x 283 columns], 'X_train':       1stFlrSF  2ndFlrSF  3SsnPorch  Alley  Bedr...60                 0  \n\n[1460 rows x 283 columns], 'Y_vals': array([ 12.24769432,  12.10901093,  12.31716669,... 12.49312952,\n        11.86446223,  11.90158345]), '_': 0.94361478046473457, ...})\n   1176         wtime = time.time\n   1177         # time execution\n   1178         wall_st = wtime()\n   1179         if mode=='eval':\n   1180             st = clock2()\n-> 1181             out = eval(code, glob, local_ns)\n        out = undefined\n        code = <code object <module> at 0x1a1e9ad780, file \"<timed eval>\", line 1>\n        glob = {'BayesianOptimization': <class 'bayes_opt.bayesian_optimization.BayesianOptimization'>, 'GridSearchCV': <class 'sklearn.model_selection._search.GridSearchCV'>, 'In': ['', 'from bayes_opt import BayesianOptimization', 'lasso_reg = linear_model.LassoCV(random_state=0,...in, np.ravel(Y_vals))\\n##score=0.93082405005697799', '\\nfrom sklearn import linear_model\\nfrom sklearn.e...\\nfrom sklearn.model_selection import GridSearchCV', 'lasso_reg = linear_model.LassoCV(random_state=0,...in, np.ravel(Y_vals))\\n##score=0.93082405005697799', \"#loading train\\ndf_train=pd.read_csv('./cleaned_t...est\\ndf_test=pd.read_csv('cleaned_test_dummy.csv')\", \"##Setting index as ID columns\\ndf_test.set_index(... True)\\ndf_train.set_index(['Id'], inplace = True)\", \"import pandas as pd\\nimport pandas as pd\\nimport n...t as plt\\nget_ipython().magic('matplotlib inline')\", \"#loading train\\ndf_train=pd.read_csv('./cleaned_t...est\\ndf_test=pd.read_csv('cleaned_test_dummy.csv')\", \"##Setting index as ID columns\\ndf_test.set_index(... True)\\ndf_train.set_index(['Id'], inplace = True)\", \"##Setting y and x to begin running models\\nY_vals...e']\\nX_train=df_train.copy()\\nX_test=df_test.copy()\", '\\nfrom sklearn import linear_model\\nfrom sklearn.e...\\nfrom sklearn.model_selection import GridSearchCV', 'lasso_reg = linear_model.LassoCV(random_state=0,...in, np.ravel(Y_vals))\\n##score=0.93082405005697799', \"Lres=round(pd.DataFrame(np.exp(lasso_reg.predict...olumns = ['SalePrice']\\nLres.to_csv('lasso_model')\", \"Lres=round(pd.DataFrame(np.exp(lasso_reg.predict...olumns = ['SalePrice']\\nLres.to_csv('lasso_model')\", \"Lres=round(pd.DataFrame(np.exp(lasso_reg.predict...ns = ['SalePrice']\\nLres.to_csv('lasso_model.csv')\", \"df_rfr=pd.read_csv('./rfr_model.csv')\\ndf_lasso=pd.read_csv('./lasso_model.csv')\", 'df_average = mean(df_rfr+df_lasso)', 'df_average = np.mean(df_rfr+df_lasso)', 'df_average', ...], 'KFold': <class 'sklearn.model_selection._split.KFold'>, 'Lres':        SalePrice\nId              \n1461  122710.7...712.429\n2919  227821.008\n\n[1459 rows x 1 columns], 'Out': {12: 0.93082405005697799, 19: Id             4380.000000\nSalePrice    352646.290131\ndtype: float64, 21:         Id   SalePrice\n0     2922  249456.385\n1 ...1\n1458  5838  443290.982\n\n[1459 rows x 2 columns], 23:           Id    SalePrice\n0     1461.0  124728.1...458  2919.0  221645.4910\n\n[1459 rows x 2 columns], 24:         Id   SalePrice\n0     1461  126745.630\n1 ...2\n1458  2919  215469.974\n\n[1459 rows x 2 columns], 26:         Id   SalePrice\n0     1461  126745.630\n1 ...2\n1458  2919  215469.974\n\n[1459 rows x 2 columns], 27:        SalePrice\nId              \n1461  126745.6...581.532\n2919  215469.974\n\n[1459 rows x 1 columns], 30:         SalePrice\nId               \n1461  124728...6.9805\n2919  221645.4910\n\n[1459 rows x 1 columns], 33: 0.93082405005697799, 34: 0.93082405005697799, ...}, 'X_test':       1stFlrSF  2ndFlrSF  3SsnPorch  Alley  Bedr...19                 0  \n\n[1459 rows x 283 columns], 'X_train':       1stFlrSF  2ndFlrSF  3SsnPorch  Alley  Bedr...60                 0  \n\n[1460 rows x 283 columns], 'Y_vals': array([ 12.24769432,  12.10901093,  12.31716669,... 12.49312952,\n        11.86446223,  11.90158345]), '_': 0.94361478046473457, ...}\n        local_ns = {'BayesianOptimization': <class 'bayes_opt.bayesian_optimization.BayesianOptimization'>, 'GridSearchCV': <class 'sklearn.model_selection._search.GridSearchCV'>, 'In': ['', 'from bayes_opt import BayesianOptimization', 'lasso_reg = linear_model.LassoCV(random_state=0,...in, np.ravel(Y_vals))\\n##score=0.93082405005697799', '\\nfrom sklearn import linear_model\\nfrom sklearn.e...\\nfrom sklearn.model_selection import GridSearchCV', 'lasso_reg = linear_model.LassoCV(random_state=0,...in, np.ravel(Y_vals))\\n##score=0.93082405005697799', \"#loading train\\ndf_train=pd.read_csv('./cleaned_t...est\\ndf_test=pd.read_csv('cleaned_test_dummy.csv')\", \"##Setting index as ID columns\\ndf_test.set_index(... True)\\ndf_train.set_index(['Id'], inplace = True)\", \"import pandas as pd\\nimport pandas as pd\\nimport n...t as plt\\nget_ipython().magic('matplotlib inline')\", \"#loading train\\ndf_train=pd.read_csv('./cleaned_t...est\\ndf_test=pd.read_csv('cleaned_test_dummy.csv')\", \"##Setting index as ID columns\\ndf_test.set_index(... True)\\ndf_train.set_index(['Id'], inplace = True)\", \"##Setting y and x to begin running models\\nY_vals...e']\\nX_train=df_train.copy()\\nX_test=df_test.copy()\", '\\nfrom sklearn import linear_model\\nfrom sklearn.e...\\nfrom sklearn.model_selection import GridSearchCV', 'lasso_reg = linear_model.LassoCV(random_state=0,...in, np.ravel(Y_vals))\\n##score=0.93082405005697799', \"Lres=round(pd.DataFrame(np.exp(lasso_reg.predict...olumns = ['SalePrice']\\nLres.to_csv('lasso_model')\", \"Lres=round(pd.DataFrame(np.exp(lasso_reg.predict...olumns = ['SalePrice']\\nLres.to_csv('lasso_model')\", \"Lres=round(pd.DataFrame(np.exp(lasso_reg.predict...ns = ['SalePrice']\\nLres.to_csv('lasso_model.csv')\", \"df_rfr=pd.read_csv('./rfr_model.csv')\\ndf_lasso=pd.read_csv('./lasso_model.csv')\", 'df_average = mean(df_rfr+df_lasso)', 'df_average = np.mean(df_rfr+df_lasso)', 'df_average', ...], 'KFold': <class 'sklearn.model_selection._split.KFold'>, 'Lres':        SalePrice\nId              \n1461  122710.7...712.429\n2919  227821.008\n\n[1459 rows x 1 columns], 'Out': {12: 0.93082405005697799, 19: Id             4380.000000\nSalePrice    352646.290131\ndtype: float64, 21:         Id   SalePrice\n0     2922  249456.385\n1 ...1\n1458  5838  443290.982\n\n[1459 rows x 2 columns], 23:           Id    SalePrice\n0     1461.0  124728.1...458  2919.0  221645.4910\n\n[1459 rows x 2 columns], 24:         Id   SalePrice\n0     1461  126745.630\n1 ...2\n1458  2919  215469.974\n\n[1459 rows x 2 columns], 26:         Id   SalePrice\n0     1461  126745.630\n1 ...2\n1458  2919  215469.974\n\n[1459 rows x 2 columns], 27:        SalePrice\nId              \n1461  126745.6...581.532\n2919  215469.974\n\n[1459 rows x 1 columns], 30:         SalePrice\nId               \n1461  124728...6.9805\n2919  221645.4910\n\n[1459 rows x 1 columns], 33: 0.93082405005697799, 34: 0.93082405005697799, ...}, 'X_test':       1stFlrSF  2ndFlrSF  3SsnPorch  Alley  Bedr...19                 0  \n\n[1459 rows x 283 columns], 'X_train':       1stFlrSF  2ndFlrSF  3SsnPorch  Alley  Bedr...60                 0  \n\n[1460 rows x 283 columns], 'Y_vals': array([ 12.24769432,  12.10901093,  12.31716669,... 12.49312952,\n        11.86446223,  11.90158345]), '_': 0.94361478046473457, ...}\n   1182             end = clock2()\n   1183         else:\n   1184             st = clock2()\n   1185             exec(code, glob, local_ns)\n\n...........................................................................\n/Users/michaelchuang/git_project/ML_project/<timed eval> in <module>()\n\n...........................................................................\n/Users/michaelchuang/anaconda/lib/python3.6/site-packages/sklearn/model_selection/_search.py in fit(self=GridSearchCV(cv=5, error_score='raise',\n       e...ain_score='warn',\n       scoring=None, verbose=1), X=      1stFlrSF  2ndFlrSF  3SsnPorch  Alley  Bedr...60                 0  \n\n[1460 rows x 283 columns], y=array([ 12.24769432,  12.10901093,  12.31716669,... 12.49312952,\n        11.86446223,  11.90158345]), groups=None, **fit_params={})\n    634                                   return_train_score=self.return_train_score,\n    635                                   return_n_test_samples=True,\n    636                                   return_times=True, return_parameters=False,\n    637                                   error_score=self.error_score)\n    638           for parameters, (train, test) in product(candidate_params,\n--> 639                                                    cv.split(X, y, groups)))\n        cv.split = <bound method _BaseKFold.split of KFold(n_splits=5, random_state=None, shuffle=False)>\n        X =       1stFlrSF  2ndFlrSF  3SsnPorch  Alley  Bedr...60                 0  \n\n[1460 rows x 283 columns]\n        y = array([ 12.24769432,  12.10901093,  12.31716669,... 12.49312952,\n        11.86446223,  11.90158345])\n        groups = None\n    640 \n    641         # if one choose to see train score, \"out\" will contain train score info\n    642         if self.return_train_score:\n    643             (train_score_dicts, test_score_dicts, test_sample_counts, fit_time,\n\n...........................................................................\n/Users/michaelchuang/anaconda/lib/python3.6/site-packages/sklearn/externals/joblib/parallel.py in __call__(self=Parallel(n_jobs=-1), iterable=<generator object BaseSearchCV.fit.<locals>.<genexpr>>)\n    784             if pre_dispatch == \"all\" or n_jobs == 1:\n    785                 # The iterable was consumed all at once by the above for loop.\n    786                 # No need to wait for async callbacks to trigger to\n    787                 # consumption.\n    788                 self._iterating = False\n--> 789             self.retrieve()\n        self.retrieve = <bound method Parallel.retrieve of Parallel(n_jobs=-1)>\n    790             # Make sure that we get a last message telling us we are done\n    791             elapsed_time = time.time() - self._start_time\n    792             self._print('Done %3i out of %3i | elapsed: %s finished',\n    793                         (len(self._output), len(self._output),\n\n---------------------------------------------------------------------------\nSub-process traceback:\n---------------------------------------------------------------------------\nAxisError                                          Thu Nov  9 11:40:49 2017\nPID: 34698           Python 3.6.1: /Users/michaelchuang/anaconda/bin/python\n...........................................................................\n/Users/michaelchuang/anaconda/lib/python3.6/site-packages/sklearn/externals/joblib/parallel.py in __call__(self=<sklearn.externals.joblib.parallel.BatchedCalls object>)\n    126     def __init__(self, iterator_slice):\n    127         self.items = list(iterator_slice)\n    128         self._size = len(self.items)\n    129 \n    130     def __call__(self):\n--> 131         return [func(*args, **kwargs) for func, args, kwargs in self.items]\n        self.items = [(<function _fit_and_score>, (ElasticNetCV(alphas=0.0, copy_X=True, cv=None, e...=None, selection='cyclic', tol=0.0001, verbose=0),       1stFlrSF  2ndFlrSF  3SsnPorch  Alley  Bedr...60                 0  \n\n[1460 rows x 283 columns], array([ 12.24769432,  12.10901093,  12.31716669,... 12.49312952,\n        11.86446223,  11.90158345]), {'score': <function _passthrough_scorer>}, array([ 292,  293,  294, ..., 1457, 1458, 1459]), array([  0,   1,   2,   3,   4,   5,   6,   7,  ..., 284, 285,\n       286, 287, 288, 289, 290, 291]), 1, {'alphas': 0.0, 'l1_ratio': 0.10000000000000001, 'n_alphas': 0, 'normalize': True}), {'error_score': 'raise', 'fit_params': {}, 'return_n_test_samples': True, 'return_parameters': False, 'return_times': True, 'return_train_score': 'warn'})]\n    132 \n    133     def __len__(self):\n    134         return self._size\n    135 \n\n...........................................................................\n/Users/michaelchuang/anaconda/lib/python3.6/site-packages/sklearn/externals/joblib/parallel.py in <listcomp>(.0=<list_iterator object>)\n    126     def __init__(self, iterator_slice):\n    127         self.items = list(iterator_slice)\n    128         self._size = len(self.items)\n    129 \n    130     def __call__(self):\n--> 131         return [func(*args, **kwargs) for func, args, kwargs in self.items]\n        func = <function _fit_and_score>\n        args = (ElasticNetCV(alphas=0.0, copy_X=True, cv=None, e...=None, selection='cyclic', tol=0.0001, verbose=0),       1stFlrSF  2ndFlrSF  3SsnPorch  Alley  Bedr...60                 0  \n\n[1460 rows x 283 columns], array([ 12.24769432,  12.10901093,  12.31716669,... 12.49312952,\n        11.86446223,  11.90158345]), {'score': <function _passthrough_scorer>}, array([ 292,  293,  294, ..., 1457, 1458, 1459]), array([  0,   1,   2,   3,   4,   5,   6,   7,  ..., 284, 285,\n       286, 287, 288, 289, 290, 291]), 1, {'alphas': 0.0, 'l1_ratio': 0.10000000000000001, 'n_alphas': 0, 'normalize': True})\n        kwargs = {'error_score': 'raise', 'fit_params': {}, 'return_n_test_samples': True, 'return_parameters': False, 'return_times': True, 'return_train_score': 'warn'}\n    132 \n    133     def __len__(self):\n    134         return self._size\n    135 \n\n...........................................................................\n/Users/michaelchuang/anaconda/lib/python3.6/site-packages/sklearn/model_selection/_validation.py in _fit_and_score(estimator=ElasticNetCV(alphas=0.0, copy_X=True, cv=None, e...=None, selection='cyclic', tol=0.0001, verbose=0), X=      1stFlrSF  2ndFlrSF  3SsnPorch  Alley  Bedr...60                 0  \n\n[1460 rows x 283 columns], y=array([ 12.24769432,  12.10901093,  12.31716669,... 12.49312952,\n        11.86446223,  11.90158345]), scorer={'score': <function _passthrough_scorer>}, train=array([ 292,  293,  294, ..., 1457, 1458, 1459]), test=array([  0,   1,   2,   3,   4,   5,   6,   7,  ..., 284, 285,\n       286, 287, 288, 289, 290, 291]), verbose=1, parameters={'alphas': 0.0, 'l1_ratio': 0.10000000000000001, 'n_alphas': 0, 'normalize': True}, fit_params={}, return_train_score='warn', return_parameters=False, return_n_test_samples=True, return_times=True, error_score='raise')\n    453 \n    454     try:\n    455         if y_train is None:\n    456             estimator.fit(X_train, **fit_params)\n    457         else:\n--> 458             estimator.fit(X_train, y_train, **fit_params)\n        estimator.fit = <bound method LinearModelCV.fit of ElasticNetCV(...None, selection='cyclic', tol=0.0001, verbose=0)>\n        X_train =       1stFlrSF  2ndFlrSF  3SsnPorch  Alley  Bedr...60                 0  \n\n[1168 rows x 283 columns]\n        y_train = array([ 11.7829526 ,  12.36734079,  12.02574909,... 12.49312952,\n        11.86446223,  11.90158345])\n        fit_params = {}\n    459 \n    460     except Exception as e:\n    461         # Note fit time as time until error\n    462         fit_time = time.time() - start_time\n\n...........................................................................\n/Users/michaelchuang/anaconda/lib/python3.6/site-packages/sklearn/linear_model/coordinate_descent.py in fit(self=ElasticNetCV(alphas=0.0, copy_X=True, cv=None, e...=None, selection='cyclic', tol=0.0001, verbose=0), X=array([[  1.14800000e+03,   5.68000000e+02,   1....000000e+00,   1.00000000e+00,   0.00000000e+00]]), y=array([ 11.7829526 ,  12.36734079,  12.02574909,... 12.49312952,\n        11.86446223,  11.90158345]))\n   1160                     eps=self.eps, n_alphas=self.n_alphas,\n   1161                     normalize=self.normalize,\n   1162                     copy_X=self.copy_X))\n   1163         else:\n   1164             # Making sure alphas is properly ordered.\n-> 1165             alphas = np.tile(np.sort(alphas)[::-1], (n_l1_ratio, 1))\n        alphas = 0.0\n        n_l1_ratio = 1\n   1166         # We want n_alphas to be the number of alphas used for each l1_ratio.\n   1167         n_alphas = len(alphas[0])\n   1168         path_params.update({'n_alphas': n_alphas})\n   1169 \n\n...........................................................................\n/Users/michaelchuang/anaconda/lib/python3.6/site-packages/numpy/core/fromnumeric.py in sort(a=array(0.0), axis=-1, kind='quicksort', order=None)\n    817     if axis is None:\n    818         a = asanyarray(a).flatten()\n    819         axis = 0\n    820     else:\n    821         a = asanyarray(a).copy(order=\"K\")\n--> 822     a.sort(axis=axis, kind=kind, order=order)\n        a.sort = <built-in method sort of numpy.ndarray object>\n        axis = -1\n        kind = 'quicksort'\n        order = None\n    823     return a\n    824 \n    825 \n    826 def argsort(a, axis=-1, kind='quicksort', order=None):\n\nAxisError: axis -1 is out of bounds for array of dimension 0\n___________________________________________________________________________",
     "output_type": "error",
     "traceback": [
      "\u001b[0;31m---------------------------------------------------------------------------\u001b[0m",
      "\u001b[0;31mRemoteTraceback\u001b[0m                           Traceback (most recent call last)",
      "\u001b[0;31mRemoteTraceback\u001b[0m: \n\"\"\"\nTraceback (most recent call last):\n  File \"/Users/michaelchuang/anaconda/lib/python3.6/site-packages/sklearn/externals/joblib/_parallel_backends.py\", line 350, in __call__\n    return self.func(*args, **kwargs)\n  File \"/Users/michaelchuang/anaconda/lib/python3.6/site-packages/sklearn/externals/joblib/parallel.py\", line 131, in __call__\n    return [func(*args, **kwargs) for func, args, kwargs in self.items]\n  File \"/Users/michaelchuang/anaconda/lib/python3.6/site-packages/sklearn/externals/joblib/parallel.py\", line 131, in <listcomp>\n    return [func(*args, **kwargs) for func, args, kwargs in self.items]\n  File \"/Users/michaelchuang/anaconda/lib/python3.6/site-packages/sklearn/model_selection/_validation.py\", line 458, in _fit_and_score\n    estimator.fit(X_train, y_train, **fit_params)\n  File \"/Users/michaelchuang/anaconda/lib/python3.6/site-packages/sklearn/linear_model/coordinate_descent.py\", line 1165, in fit\n    alphas = np.tile(np.sort(alphas)[::-1], (n_l1_ratio, 1))\n  File \"/Users/michaelchuang/anaconda/lib/python3.6/site-packages/numpy/core/fromnumeric.py\", line 822, in sort\n    a.sort(axis=axis, kind=kind, order=order)\nnumpy.core._internal.AxisError: axis -1 is out of bounds for array of dimension 0\n\nDuring handling of the above exception, another exception occurred:\n\nTraceback (most recent call last):\n  File \"/Users/michaelchuang/anaconda/lib/python3.6/multiprocessing/pool.py\", line 119, in worker\n    result = (True, func(*args, **kwds))\n  File \"/Users/michaelchuang/anaconda/lib/python3.6/site-packages/sklearn/externals/joblib/_parallel_backends.py\", line 359, in __call__\n    raise TransportableException(text, e_type)\nsklearn.externals.joblib.my_exceptions.TransportableException: TransportableException\n___________________________________________________________________________\nAxisError                                          Thu Nov  9 11:40:49 2017\nPID: 34698           Python 3.6.1: /Users/michaelchuang/anaconda/bin/python\n...........................................................................\n/Users/michaelchuang/anaconda/lib/python3.6/site-packages/sklearn/externals/joblib/parallel.py in __call__(self=<sklearn.externals.joblib.parallel.BatchedCalls object>)\n    126     def __init__(self, iterator_slice):\n    127         self.items = list(iterator_slice)\n    128         self._size = len(self.items)\n    129 \n    130     def __call__(self):\n--> 131         return [func(*args, **kwargs) for func, args, kwargs in self.items]\n        self.items = [(<function _fit_and_score>, (ElasticNetCV(alphas=0.0, copy_X=True, cv=None, e...=None, selection='cyclic', tol=0.0001, verbose=0),       1stFlrSF  2ndFlrSF  3SsnPorch  Alley  Bedr...60                 0  \n\n[1460 rows x 283 columns], array([ 12.24769432,  12.10901093,  12.31716669,... 12.49312952,\n        11.86446223,  11.90158345]), {'score': <function _passthrough_scorer>}, array([ 292,  293,  294, ..., 1457, 1458, 1459]), array([  0,   1,   2,   3,   4,   5,   6,   7,  ..., 284, 285,\n       286, 287, 288, 289, 290, 291]), 1, {'alphas': 0.0, 'l1_ratio': 0.10000000000000001, 'n_alphas': 0, 'normalize': True}), {'error_score': 'raise', 'fit_params': {}, 'return_n_test_samples': True, 'return_parameters': False, 'return_times': True, 'return_train_score': 'warn'})]\n    132 \n    133     def __len__(self):\n    134         return self._size\n    135 \n\n...........................................................................\n/Users/michaelchuang/anaconda/lib/python3.6/site-packages/sklearn/externals/joblib/parallel.py in <listcomp>(.0=<list_iterator object>)\n    126     def __init__(self, iterator_slice):\n    127         self.items = list(iterator_slice)\n    128         self._size = len(self.items)\n    129 \n    130     def __call__(self):\n--> 131         return [func(*args, **kwargs) for func, args, kwargs in self.items]\n        func = <function _fit_and_score>\n        args = (ElasticNetCV(alphas=0.0, copy_X=True, cv=None, e...=None, selection='cyclic', tol=0.0001, verbose=0),       1stFlrSF  2ndFlrSF  3SsnPorch  Alley  Bedr...60                 0  \n\n[1460 rows x 283 columns], array([ 12.24769432,  12.10901093,  12.31716669,... 12.49312952,\n        11.86446223,  11.90158345]), {'score': <function _passthrough_scorer>}, array([ 292,  293,  294, ..., 1457, 1458, 1459]), array([  0,   1,   2,   3,   4,   5,   6,   7,  ..., 284, 285,\n       286, 287, 288, 289, 290, 291]), 1, {'alphas': 0.0, 'l1_ratio': 0.10000000000000001, 'n_alphas': 0, 'normalize': True})\n        kwargs = {'error_score': 'raise', 'fit_params': {}, 'return_n_test_samples': True, 'return_parameters': False, 'return_times': True, 'return_train_score': 'warn'}\n    132 \n    133     def __len__(self):\n    134         return self._size\n    135 \n\n...........................................................................\n/Users/michaelchuang/anaconda/lib/python3.6/site-packages/sklearn/model_selection/_validation.py in _fit_and_score(estimator=ElasticNetCV(alphas=0.0, copy_X=True, cv=None, e...=None, selection='cyclic', tol=0.0001, verbose=0), X=      1stFlrSF  2ndFlrSF  3SsnPorch  Alley  Bedr...60                 0  \n\n[1460 rows x 283 columns], y=array([ 12.24769432,  12.10901093,  12.31716669,... 12.49312952,\n        11.86446223,  11.90158345]), scorer={'score': <function _passthrough_scorer>}, train=array([ 292,  293,  294, ..., 1457, 1458, 1459]), test=array([  0,   1,   2,   3,   4,   5,   6,   7,  ..., 284, 285,\n       286, 287, 288, 289, 290, 291]), verbose=1, parameters={'alphas': 0.0, 'l1_ratio': 0.10000000000000001, 'n_alphas': 0, 'normalize': True}, fit_params={}, return_train_score='warn', return_parameters=False, return_n_test_samples=True, return_times=True, error_score='raise')\n    453 \n    454     try:\n    455         if y_train is None:\n    456             estimator.fit(X_train, **fit_params)\n    457         else:\n--> 458             estimator.fit(X_train, y_train, **fit_params)\n        estimator.fit = <bound method LinearModelCV.fit of ElasticNetCV(...None, selection='cyclic', tol=0.0001, verbose=0)>\n        X_train =       1stFlrSF  2ndFlrSF  3SsnPorch  Alley  Bedr...60                 0  \n\n[1168 rows x 283 columns]\n        y_train = array([ 11.7829526 ,  12.36734079,  12.02574909,... 12.49312952,\n        11.86446223,  11.90158345])\n        fit_params = {}\n    459 \n    460     except Exception as e:\n    461         # Note fit time as time until error\n    462         fit_time = time.time() - start_time\n\n...........................................................................\n/Users/michaelchuang/anaconda/lib/python3.6/site-packages/sklearn/linear_model/coordinate_descent.py in fit(self=ElasticNetCV(alphas=0.0, copy_X=True, cv=None, e...=None, selection='cyclic', tol=0.0001, verbose=0), X=array([[  1.14800000e+03,   5.68000000e+02,   1....000000e+00,   1.00000000e+00,   0.00000000e+00]]), y=array([ 11.7829526 ,  12.36734079,  12.02574909,... 12.49312952,\n        11.86446223,  11.90158345]))\n   1160                     eps=self.eps, n_alphas=self.n_alphas,\n   1161                     normalize=self.normalize,\n   1162                     copy_X=self.copy_X))\n   1163         else:\n   1164             # Making sure alphas is properly ordered.\n-> 1165             alphas = np.tile(np.sort(alphas)[::-1], (n_l1_ratio, 1))\n        alphas = 0.0\n        n_l1_ratio = 1\n   1166         # We want n_alphas to be the number of alphas used for each l1_ratio.\n   1167         n_alphas = len(alphas[0])\n   1168         path_params.update({'n_alphas': n_alphas})\n   1169 \n\n...........................................................................\n/Users/michaelchuang/anaconda/lib/python3.6/site-packages/numpy/core/fromnumeric.py in sort(a=array(0.0), axis=-1, kind='quicksort', order=None)\n    817     if axis is None:\n    818         a = asanyarray(a).flatten()\n    819         axis = 0\n    820     else:\n    821         a = asanyarray(a).copy(order=\"K\")\n--> 822     a.sort(axis=axis, kind=kind, order=order)\n        a.sort = <built-in method sort of numpy.ndarray object>\n        axis = -1\n        kind = 'quicksort'\n        order = None\n    823     return a\n    824 \n    825 \n    826 def argsort(a, axis=-1, kind='quicksort', order=None):\n\nAxisError: axis -1 is out of bounds for array of dimension 0\n___________________________________________________________________________\n\"\"\"",
      "\nThe above exception was the direct cause of the following exception:\n",
      "\u001b[0;31mTransportableException\u001b[0m                    Traceback (most recent call last)",
      "\u001b[0;32m/Users/michaelchuang/anaconda/lib/python3.6/site-packages/sklearn/externals/joblib/parallel.py\u001b[0m in \u001b[0;36mretrieve\u001b[0;34m(self)\u001b[0m\n\u001b[1;32m    698\u001b[0m                 \u001b[0;32mif\u001b[0m \u001b[0mgetattr\u001b[0m\u001b[0;34m(\u001b[0m\u001b[0mself\u001b[0m\u001b[0;34m.\u001b[0m\u001b[0m_backend\u001b[0m\u001b[0;34m,\u001b[0m \u001b[0;34m'supports_timeout'\u001b[0m\u001b[0;34m,\u001b[0m \u001b[0;32mFalse\u001b[0m\u001b[0;34m)\u001b[0m\u001b[0;34m:\u001b[0m\u001b[0;34m\u001b[0m\u001b[0m\n\u001b[0;32m--> 699\u001b[0;31m                     \u001b[0mself\u001b[0m\u001b[0;34m.\u001b[0m\u001b[0m_output\u001b[0m\u001b[0;34m.\u001b[0m\u001b[0mextend\u001b[0m\u001b[0;34m(\u001b[0m\u001b[0mjob\u001b[0m\u001b[0;34m.\u001b[0m\u001b[0mget\u001b[0m\u001b[0;34m(\u001b[0m\u001b[0mtimeout\u001b[0m\u001b[0;34m=\u001b[0m\u001b[0mself\u001b[0m\u001b[0;34m.\u001b[0m\u001b[0mtimeout\u001b[0m\u001b[0;34m)\u001b[0m\u001b[0;34m)\u001b[0m\u001b[0;34m\u001b[0m\u001b[0m\n\u001b[0m\u001b[1;32m    700\u001b[0m                 \u001b[0;32melse\u001b[0m\u001b[0;34m:\u001b[0m\u001b[0;34m\u001b[0m\u001b[0m\n",
      "\u001b[0;32m/Users/michaelchuang/anaconda/lib/python3.6/multiprocessing/pool.py\u001b[0m in \u001b[0;36mget\u001b[0;34m(self, timeout)\u001b[0m\n\u001b[1;32m    607\u001b[0m         \u001b[0;32melse\u001b[0m\u001b[0;34m:\u001b[0m\u001b[0;34m\u001b[0m\u001b[0m\n\u001b[0;32m--> 608\u001b[0;31m             \u001b[0;32mraise\u001b[0m \u001b[0mself\u001b[0m\u001b[0;34m.\u001b[0m\u001b[0m_value\u001b[0m\u001b[0;34m\u001b[0m\u001b[0m\n\u001b[0m\u001b[1;32m    609\u001b[0m \u001b[0;34m\u001b[0m\u001b[0m\n",
      "\u001b[0;31mTransportableException\u001b[0m: TransportableException\n___________________________________________________________________________\nAxisError                                          Thu Nov  9 11:40:49 2017\nPID: 34698           Python 3.6.1: /Users/michaelchuang/anaconda/bin/python\n...........................................................................\n/Users/michaelchuang/anaconda/lib/python3.6/site-packages/sklearn/externals/joblib/parallel.py in __call__(self=<sklearn.externals.joblib.parallel.BatchedCalls object>)\n    126     def __init__(self, iterator_slice):\n    127         self.items = list(iterator_slice)\n    128         self._size = len(self.items)\n    129 \n    130     def __call__(self):\n--> 131         return [func(*args, **kwargs) for func, args, kwargs in self.items]\n        self.items = [(<function _fit_and_score>, (ElasticNetCV(alphas=0.0, copy_X=True, cv=None, e...=None, selection='cyclic', tol=0.0001, verbose=0),       1stFlrSF  2ndFlrSF  3SsnPorch  Alley  Bedr...60                 0  \n\n[1460 rows x 283 columns], array([ 12.24769432,  12.10901093,  12.31716669,... 12.49312952,\n        11.86446223,  11.90158345]), {'score': <function _passthrough_scorer>}, array([ 292,  293,  294, ..., 1457, 1458, 1459]), array([  0,   1,   2,   3,   4,   5,   6,   7,  ..., 284, 285,\n       286, 287, 288, 289, 290, 291]), 1, {'alphas': 0.0, 'l1_ratio': 0.10000000000000001, 'n_alphas': 0, 'normalize': True}), {'error_score': 'raise', 'fit_params': {}, 'return_n_test_samples': True, 'return_parameters': False, 'return_times': True, 'return_train_score': 'warn'})]\n    132 \n    133     def __len__(self):\n    134         return self._size\n    135 \n\n...........................................................................\n/Users/michaelchuang/anaconda/lib/python3.6/site-packages/sklearn/externals/joblib/parallel.py in <listcomp>(.0=<list_iterator object>)\n    126     def __init__(self, iterator_slice):\n    127         self.items = list(iterator_slice)\n    128         self._size = len(self.items)\n    129 \n    130     def __call__(self):\n--> 131         return [func(*args, **kwargs) for func, args, kwargs in self.items]\n        func = <function _fit_and_score>\n        args = (ElasticNetCV(alphas=0.0, copy_X=True, cv=None, e...=None, selection='cyclic', tol=0.0001, verbose=0),       1stFlrSF  2ndFlrSF  3SsnPorch  Alley  Bedr...60                 0  \n\n[1460 rows x 283 columns], array([ 12.24769432,  12.10901093,  12.31716669,... 12.49312952,\n        11.86446223,  11.90158345]), {'score': <function _passthrough_scorer>}, array([ 292,  293,  294, ..., 1457, 1458, 1459]), array([  0,   1,   2,   3,   4,   5,   6,   7,  ..., 284, 285,\n       286, 287, 288, 289, 290, 291]), 1, {'alphas': 0.0, 'l1_ratio': 0.10000000000000001, 'n_alphas': 0, 'normalize': True})\n        kwargs = {'error_score': 'raise', 'fit_params': {}, 'return_n_test_samples': True, 'return_parameters': False, 'return_times': True, 'return_train_score': 'warn'}\n    132 \n    133     def __len__(self):\n    134         return self._size\n    135 \n\n...........................................................................\n/Users/michaelchuang/anaconda/lib/python3.6/site-packages/sklearn/model_selection/_validation.py in _fit_and_score(estimator=ElasticNetCV(alphas=0.0, copy_X=True, cv=None, e...=None, selection='cyclic', tol=0.0001, verbose=0), X=      1stFlrSF  2ndFlrSF  3SsnPorch  Alley  Bedr...60                 0  \n\n[1460 rows x 283 columns], y=array([ 12.24769432,  12.10901093,  12.31716669,... 12.49312952,\n        11.86446223,  11.90158345]), scorer={'score': <function _passthrough_scorer>}, train=array([ 292,  293,  294, ..., 1457, 1458, 1459]), test=array([  0,   1,   2,   3,   4,   5,   6,   7,  ..., 284, 285,\n       286, 287, 288, 289, 290, 291]), verbose=1, parameters={'alphas': 0.0, 'l1_ratio': 0.10000000000000001, 'n_alphas': 0, 'normalize': True}, fit_params={}, return_train_score='warn', return_parameters=False, return_n_test_samples=True, return_times=True, error_score='raise')\n    453 \n    454     try:\n    455         if y_train is None:\n    456             estimator.fit(X_train, **fit_params)\n    457         else:\n--> 458             estimator.fit(X_train, y_train, **fit_params)\n        estimator.fit = <bound method LinearModelCV.fit of ElasticNetCV(...None, selection='cyclic', tol=0.0001, verbose=0)>\n        X_train =       1stFlrSF  2ndFlrSF  3SsnPorch  Alley  Bedr...60                 0  \n\n[1168 rows x 283 columns]\n        y_train = array([ 11.7829526 ,  12.36734079,  12.02574909,... 12.49312952,\n        11.86446223,  11.90158345])\n        fit_params = {}\n    459 \n    460     except Exception as e:\n    461         # Note fit time as time until error\n    462         fit_time = time.time() - start_time\n\n...........................................................................\n/Users/michaelchuang/anaconda/lib/python3.6/site-packages/sklearn/linear_model/coordinate_descent.py in fit(self=ElasticNetCV(alphas=0.0, copy_X=True, cv=None, e...=None, selection='cyclic', tol=0.0001, verbose=0), X=array([[  1.14800000e+03,   5.68000000e+02,   1....000000e+00,   1.00000000e+00,   0.00000000e+00]]), y=array([ 11.7829526 ,  12.36734079,  12.02574909,... 12.49312952,\n        11.86446223,  11.90158345]))\n   1160                     eps=self.eps, n_alphas=self.n_alphas,\n   1161                     normalize=self.normalize,\n   1162                     copy_X=self.copy_X))\n   1163         else:\n   1164             # Making sure alphas is properly ordered.\n-> 1165             alphas = np.tile(np.sort(alphas)[::-1], (n_l1_ratio, 1))\n        alphas = 0.0\n        n_l1_ratio = 1\n   1166         # We want n_alphas to be the number of alphas used for each l1_ratio.\n   1167         n_alphas = len(alphas[0])\n   1168         path_params.update({'n_alphas': n_alphas})\n   1169 \n\n...........................................................................\n/Users/michaelchuang/anaconda/lib/python3.6/site-packages/numpy/core/fromnumeric.py in sort(a=array(0.0), axis=-1, kind='quicksort', order=None)\n    817     if axis is None:\n    818         a = asanyarray(a).flatten()\n    819         axis = 0\n    820     else:\n    821         a = asanyarray(a).copy(order=\"K\")\n--> 822     a.sort(axis=axis, kind=kind, order=order)\n        a.sort = <built-in method sort of numpy.ndarray object>\n        axis = -1\n        kind = 'quicksort'\n        order = None\n    823     return a\n    824 \n    825 \n    826 def argsort(a, axis=-1, kind='quicksort', order=None):\n\nAxisError: axis -1 is out of bounds for array of dimension 0\n___________________________________________________________________________",
      "\nDuring handling of the above exception, another exception occurred:\n",
      "\u001b[0;31mJoblibAxisError\u001b[0m                           Traceback (most recent call last)",
      "\u001b[0;32m<ipython-input-114-04ad3047400f>\u001b[0m in \u001b[0;36m<module>\u001b[0;34m()\u001b[0m\n\u001b[1;32m      7\u001b[0m }]\n\u001b[1;32m      8\u001b[0m \u001b[0mgrid_search_elastic\u001b[0m \u001b[0;34m=\u001b[0m \u001b[0mGridSearchCV\u001b[0m\u001b[0;34m(\u001b[0m\u001b[0melastic_model\u001b[0m\u001b[0;34m,\u001b[0m \u001b[0mgrid_para_elastic\u001b[0m\u001b[0;34m,\u001b[0m \u001b[0mcv\u001b[0m\u001b[0;34m=\u001b[0m\u001b[0;36m5\u001b[0m\u001b[0;34m,\u001b[0m \u001b[0mn_jobs\u001b[0m\u001b[0;34m=\u001b[0m\u001b[0;34m-\u001b[0m\u001b[0;36m1\u001b[0m\u001b[0;34m,\u001b[0m \u001b[0mverbose\u001b[0m\u001b[0;34m=\u001b[0m\u001b[0;36m1\u001b[0m\u001b[0;34m)\u001b[0m\u001b[0;34m\u001b[0m\u001b[0m\n\u001b[0;32m----> 9\u001b[0;31m \u001b[0mget_ipython\u001b[0m\u001b[0;34m(\u001b[0m\u001b[0;34m)\u001b[0m\u001b[0;34m.\u001b[0m\u001b[0mmagic\u001b[0m\u001b[0;34m(\u001b[0m\u001b[0;34m'time grid_search_elastic.fit(X_train, Y_vals)'\u001b[0m\u001b[0;34m)\u001b[0m\u001b[0;34m\u001b[0m\u001b[0m\n\u001b[0m",
      "\u001b[0;32m/Users/michaelchuang/anaconda/lib/python3.6/site-packages/IPython/core/interactiveshell.py\u001b[0m in \u001b[0;36mmagic\u001b[0;34m(self, arg_s)\u001b[0m\n\u001b[1;32m   2156\u001b[0m         \u001b[0mmagic_name\u001b[0m\u001b[0;34m,\u001b[0m \u001b[0m_\u001b[0m\u001b[0;34m,\u001b[0m \u001b[0mmagic_arg_s\u001b[0m \u001b[0;34m=\u001b[0m \u001b[0marg_s\u001b[0m\u001b[0;34m.\u001b[0m\u001b[0mpartition\u001b[0m\u001b[0;34m(\u001b[0m\u001b[0;34m' '\u001b[0m\u001b[0;34m)\u001b[0m\u001b[0;34m\u001b[0m\u001b[0m\n\u001b[1;32m   2157\u001b[0m         \u001b[0mmagic_name\u001b[0m \u001b[0;34m=\u001b[0m \u001b[0mmagic_name\u001b[0m\u001b[0;34m.\u001b[0m\u001b[0mlstrip\u001b[0m\u001b[0;34m(\u001b[0m\u001b[0mprefilter\u001b[0m\u001b[0;34m.\u001b[0m\u001b[0mESC_MAGIC\u001b[0m\u001b[0;34m)\u001b[0m\u001b[0;34m\u001b[0m\u001b[0m\n\u001b[0;32m-> 2158\u001b[0;31m         \u001b[0;32mreturn\u001b[0m \u001b[0mself\u001b[0m\u001b[0;34m.\u001b[0m\u001b[0mrun_line_magic\u001b[0m\u001b[0;34m(\u001b[0m\u001b[0mmagic_name\u001b[0m\u001b[0;34m,\u001b[0m \u001b[0mmagic_arg_s\u001b[0m\u001b[0;34m)\u001b[0m\u001b[0;34m\u001b[0m\u001b[0m\n\u001b[0m\u001b[1;32m   2159\u001b[0m \u001b[0;34m\u001b[0m\u001b[0m\n\u001b[1;32m   2160\u001b[0m     \u001b[0;31m#-------------------------------------------------------------------------\u001b[0m\u001b[0;34m\u001b[0m\u001b[0;34m\u001b[0m\u001b[0m\n",
      "\u001b[0;32m/Users/michaelchuang/anaconda/lib/python3.6/site-packages/IPython/core/interactiveshell.py\u001b[0m in \u001b[0;36mrun_line_magic\u001b[0;34m(self, magic_name, line)\u001b[0m\n\u001b[1;32m   2077\u001b[0m                 \u001b[0mkwargs\u001b[0m\u001b[0;34m[\u001b[0m\u001b[0;34m'local_ns'\u001b[0m\u001b[0;34m]\u001b[0m \u001b[0;34m=\u001b[0m \u001b[0msys\u001b[0m\u001b[0;34m.\u001b[0m\u001b[0m_getframe\u001b[0m\u001b[0;34m(\u001b[0m\u001b[0mstack_depth\u001b[0m\u001b[0;34m)\u001b[0m\u001b[0;34m.\u001b[0m\u001b[0mf_locals\u001b[0m\u001b[0;34m\u001b[0m\u001b[0m\n\u001b[1;32m   2078\u001b[0m             \u001b[0;32mwith\u001b[0m \u001b[0mself\u001b[0m\u001b[0;34m.\u001b[0m\u001b[0mbuiltin_trap\u001b[0m\u001b[0;34m:\u001b[0m\u001b[0;34m\u001b[0m\u001b[0m\n\u001b[0;32m-> 2079\u001b[0;31m                 \u001b[0mresult\u001b[0m \u001b[0;34m=\u001b[0m \u001b[0mfn\u001b[0m\u001b[0;34m(\u001b[0m\u001b[0;34m*\u001b[0m\u001b[0margs\u001b[0m\u001b[0;34m,\u001b[0m\u001b[0;34m**\u001b[0m\u001b[0mkwargs\u001b[0m\u001b[0;34m)\u001b[0m\u001b[0;34m\u001b[0m\u001b[0m\n\u001b[0m\u001b[1;32m   2080\u001b[0m             \u001b[0;32mreturn\u001b[0m \u001b[0mresult\u001b[0m\u001b[0;34m\u001b[0m\u001b[0m\n\u001b[1;32m   2081\u001b[0m \u001b[0;34m\u001b[0m\u001b[0m\n",
      "\u001b[0;32m<decorator-gen-59>\u001b[0m in \u001b[0;36mtime\u001b[0;34m(self, line, cell, local_ns)\u001b[0m\n",
      "\u001b[0;32m/Users/michaelchuang/anaconda/lib/python3.6/site-packages/IPython/core/magic.py\u001b[0m in \u001b[0;36m<lambda>\u001b[0;34m(f, *a, **k)\u001b[0m\n\u001b[1;32m    186\u001b[0m     \u001b[0;31m# but it's overkill for just that one bit of state.\u001b[0m\u001b[0;34m\u001b[0m\u001b[0;34m\u001b[0m\u001b[0m\n\u001b[1;32m    187\u001b[0m     \u001b[0;32mdef\u001b[0m \u001b[0mmagic_deco\u001b[0m\u001b[0;34m(\u001b[0m\u001b[0marg\u001b[0m\u001b[0;34m)\u001b[0m\u001b[0;34m:\u001b[0m\u001b[0;34m\u001b[0m\u001b[0m\n\u001b[0;32m--> 188\u001b[0;31m         \u001b[0mcall\u001b[0m \u001b[0;34m=\u001b[0m \u001b[0;32mlambda\u001b[0m \u001b[0mf\u001b[0m\u001b[0;34m,\u001b[0m \u001b[0;34m*\u001b[0m\u001b[0ma\u001b[0m\u001b[0;34m,\u001b[0m \u001b[0;34m**\u001b[0m\u001b[0mk\u001b[0m\u001b[0;34m:\u001b[0m \u001b[0mf\u001b[0m\u001b[0;34m(\u001b[0m\u001b[0;34m*\u001b[0m\u001b[0ma\u001b[0m\u001b[0;34m,\u001b[0m \u001b[0;34m**\u001b[0m\u001b[0mk\u001b[0m\u001b[0;34m)\u001b[0m\u001b[0;34m\u001b[0m\u001b[0m\n\u001b[0m\u001b[1;32m    189\u001b[0m \u001b[0;34m\u001b[0m\u001b[0m\n\u001b[1;32m    190\u001b[0m         \u001b[0;32mif\u001b[0m \u001b[0mcallable\u001b[0m\u001b[0;34m(\u001b[0m\u001b[0marg\u001b[0m\u001b[0;34m)\u001b[0m\u001b[0;34m:\u001b[0m\u001b[0;34m\u001b[0m\u001b[0m\n",
      "\u001b[0;32m/Users/michaelchuang/anaconda/lib/python3.6/site-packages/IPython/core/magics/execution.py\u001b[0m in \u001b[0;36mtime\u001b[0;34m(self, line, cell, local_ns)\u001b[0m\n\u001b[1;32m   1179\u001b[0m         \u001b[0;32mif\u001b[0m \u001b[0mmode\u001b[0m\u001b[0;34m==\u001b[0m\u001b[0;34m'eval'\u001b[0m\u001b[0;34m:\u001b[0m\u001b[0;34m\u001b[0m\u001b[0m\n\u001b[1;32m   1180\u001b[0m             \u001b[0mst\u001b[0m \u001b[0;34m=\u001b[0m \u001b[0mclock2\u001b[0m\u001b[0;34m(\u001b[0m\u001b[0;34m)\u001b[0m\u001b[0;34m\u001b[0m\u001b[0m\n\u001b[0;32m-> 1181\u001b[0;31m             \u001b[0mout\u001b[0m \u001b[0;34m=\u001b[0m \u001b[0meval\u001b[0m\u001b[0;34m(\u001b[0m\u001b[0mcode\u001b[0m\u001b[0;34m,\u001b[0m \u001b[0mglob\u001b[0m\u001b[0;34m,\u001b[0m \u001b[0mlocal_ns\u001b[0m\u001b[0;34m)\u001b[0m\u001b[0;34m\u001b[0m\u001b[0m\n\u001b[0m\u001b[1;32m   1182\u001b[0m             \u001b[0mend\u001b[0m \u001b[0;34m=\u001b[0m \u001b[0mclock2\u001b[0m\u001b[0;34m(\u001b[0m\u001b[0;34m)\u001b[0m\u001b[0;34m\u001b[0m\u001b[0m\n\u001b[1;32m   1183\u001b[0m         \u001b[0;32melse\u001b[0m\u001b[0;34m:\u001b[0m\u001b[0;34m\u001b[0m\u001b[0m\n",
      "\u001b[0;32m<timed eval>\u001b[0m in \u001b[0;36m<module>\u001b[0;34m()\u001b[0m\n",
      "\u001b[0;32m/Users/michaelchuang/anaconda/lib/python3.6/site-packages/sklearn/model_selection/_search.py\u001b[0m in \u001b[0;36mfit\u001b[0;34m(self, X, y, groups, **fit_params)\u001b[0m\n\u001b[1;32m    637\u001b[0m                                   error_score=self.error_score)\n\u001b[1;32m    638\u001b[0m           for parameters, (train, test) in product(candidate_params,\n\u001b[0;32m--> 639\u001b[0;31m                                                    cv.split(X, y, groups)))\n\u001b[0m\u001b[1;32m    640\u001b[0m \u001b[0;34m\u001b[0m\u001b[0m\n\u001b[1;32m    641\u001b[0m         \u001b[0;31m# if one choose to see train score, \"out\" will contain train score info\u001b[0m\u001b[0;34m\u001b[0m\u001b[0;34m\u001b[0m\u001b[0m\n",
      "\u001b[0;32m/Users/michaelchuang/anaconda/lib/python3.6/site-packages/sklearn/externals/joblib/parallel.py\u001b[0m in \u001b[0;36m__call__\u001b[0;34m(self, iterable)\u001b[0m\n\u001b[1;32m    787\u001b[0m                 \u001b[0;31m# consumption.\u001b[0m\u001b[0;34m\u001b[0m\u001b[0;34m\u001b[0m\u001b[0m\n\u001b[1;32m    788\u001b[0m                 \u001b[0mself\u001b[0m\u001b[0;34m.\u001b[0m\u001b[0m_iterating\u001b[0m \u001b[0;34m=\u001b[0m \u001b[0;32mFalse\u001b[0m\u001b[0;34m\u001b[0m\u001b[0m\n\u001b[0;32m--> 789\u001b[0;31m             \u001b[0mself\u001b[0m\u001b[0;34m.\u001b[0m\u001b[0mretrieve\u001b[0m\u001b[0;34m(\u001b[0m\u001b[0;34m)\u001b[0m\u001b[0;34m\u001b[0m\u001b[0m\n\u001b[0m\u001b[1;32m    790\u001b[0m             \u001b[0;31m# Make sure that we get a last message telling us we are done\u001b[0m\u001b[0;34m\u001b[0m\u001b[0;34m\u001b[0m\u001b[0m\n\u001b[1;32m    791\u001b[0m             \u001b[0melapsed_time\u001b[0m \u001b[0;34m=\u001b[0m \u001b[0mtime\u001b[0m\u001b[0;34m.\u001b[0m\u001b[0mtime\u001b[0m\u001b[0;34m(\u001b[0m\u001b[0;34m)\u001b[0m \u001b[0;34m-\u001b[0m \u001b[0mself\u001b[0m\u001b[0;34m.\u001b[0m\u001b[0m_start_time\u001b[0m\u001b[0;34m\u001b[0m\u001b[0m\n",
      "\u001b[0;32m/Users/michaelchuang/anaconda/lib/python3.6/site-packages/sklearn/externals/joblib/parallel.py\u001b[0m in \u001b[0;36mretrieve\u001b[0;34m(self)\u001b[0m\n\u001b[1;32m    738\u001b[0m                     \u001b[0mexception\u001b[0m \u001b[0;34m=\u001b[0m \u001b[0mexception_type\u001b[0m\u001b[0;34m(\u001b[0m\u001b[0mreport\u001b[0m\u001b[0;34m)\u001b[0m\u001b[0;34m\u001b[0m\u001b[0m\n\u001b[1;32m    739\u001b[0m \u001b[0;34m\u001b[0m\u001b[0m\n\u001b[0;32m--> 740\u001b[0;31m                     \u001b[0;32mraise\u001b[0m \u001b[0mexception\u001b[0m\u001b[0;34m\u001b[0m\u001b[0m\n\u001b[0m\u001b[1;32m    741\u001b[0m \u001b[0;34m\u001b[0m\u001b[0m\n\u001b[1;32m    742\u001b[0m     \u001b[0;32mdef\u001b[0m \u001b[0m__call__\u001b[0m\u001b[0;34m(\u001b[0m\u001b[0mself\u001b[0m\u001b[0;34m,\u001b[0m \u001b[0miterable\u001b[0m\u001b[0;34m)\u001b[0m\u001b[0;34m:\u001b[0m\u001b[0;34m\u001b[0m\u001b[0m\n",
      "\u001b[0;31mJoblibAxisError\u001b[0m: JoblibAxisError\n___________________________________________________________________________\nMultiprocessing exception:\n...........................................................................\n/Users/michaelchuang/anaconda/lib/python3.6/runpy.py in _run_module_as_main(mod_name='ipykernel_launcher', alter_argv=1)\n    188         sys.exit(msg)\n    189     main_globals = sys.modules[\"__main__\"].__dict__\n    190     if alter_argv:\n    191         sys.argv[0] = mod_spec.origin\n    192     return _run_code(code, main_globals, None,\n--> 193                      \"__main__\", mod_spec)\n        mod_spec = ModuleSpec(name='ipykernel_launcher', loader=<_f...b/python3.6/site-packages/ipykernel_launcher.py')\n    194 \n    195 def run_module(mod_name, init_globals=None,\n    196                run_name=None, alter_sys=False):\n    197     \"\"\"Execute a module's code without importing it\n\n...........................................................................\n/Users/michaelchuang/anaconda/lib/python3.6/runpy.py in _run_code(code=<code object <module> at 0x10b390a50, file \"/Use...3.6/site-packages/ipykernel_launcher.py\", line 5>, run_globals={'__annotations__': {}, '__builtins__': <module 'builtins' (built-in)>, '__cached__': '/Users/michaelchuang/anaconda/lib/python3.6/site...ges/__pycache__/ipykernel_launcher.cpython-36.pyc', '__doc__': 'Entry point for launching an IPython kernel.\\n\\nTh...orts until\\nafter removing the cwd from sys.path.\\n', '__file__': '/Users/michaelchuang/anaconda/lib/python3.6/site-packages/ipykernel_launcher.py', '__loader__': <_frozen_importlib_external.SourceFileLoader object>, '__name__': '__main__', '__package__': '', '__spec__': ModuleSpec(name='ipykernel_launcher', loader=<_f...b/python3.6/site-packages/ipykernel_launcher.py'), 'app': <module 'ipykernel.kernelapp' from '/Users/micha.../python3.6/site-packages/ipykernel/kernelapp.py'>, ...}, init_globals=None, mod_name='__main__', mod_spec=ModuleSpec(name='ipykernel_launcher', loader=<_f...b/python3.6/site-packages/ipykernel_launcher.py'), pkg_name='', script_name=None)\n     80                        __cached__ = cached,\n     81                        __doc__ = None,\n     82                        __loader__ = loader,\n     83                        __package__ = pkg_name,\n     84                        __spec__ = mod_spec)\n---> 85     exec(code, run_globals)\n        code = <code object <module> at 0x10b390a50, file \"/Use...3.6/site-packages/ipykernel_launcher.py\", line 5>\n        run_globals = {'__annotations__': {}, '__builtins__': <module 'builtins' (built-in)>, '__cached__': '/Users/michaelchuang/anaconda/lib/python3.6/site...ges/__pycache__/ipykernel_launcher.cpython-36.pyc', '__doc__': 'Entry point for launching an IPython kernel.\\n\\nTh...orts until\\nafter removing the cwd from sys.path.\\n', '__file__': '/Users/michaelchuang/anaconda/lib/python3.6/site-packages/ipykernel_launcher.py', '__loader__': <_frozen_importlib_external.SourceFileLoader object>, '__name__': '__main__', '__package__': '', '__spec__': ModuleSpec(name='ipykernel_launcher', loader=<_f...b/python3.6/site-packages/ipykernel_launcher.py'), 'app': <module 'ipykernel.kernelapp' from '/Users/micha.../python3.6/site-packages/ipykernel/kernelapp.py'>, ...}\n     86     return run_globals\n     87 \n     88 def _run_module_code(code, init_globals=None,\n     89                     mod_name=None, mod_spec=None,\n\n...........................................................................\n/Users/michaelchuang/anaconda/lib/python3.6/site-packages/ipykernel_launcher.py in <module>()\n     11     # This is added back by InteractiveShellApp.init_path()\n     12     if sys.path[0] == '':\n     13         del sys.path[0]\n     14 \n     15     from ipykernel import kernelapp as app\n---> 16     app.launch_new_instance()\n\n...........................................................................\n/Users/michaelchuang/anaconda/lib/python3.6/site-packages/traitlets/config/application.py in launch_instance(cls=<class 'ipykernel.kernelapp.IPKernelApp'>, argv=None, **kwargs={})\n    653 \n    654         If a global instance already exists, this reinitializes and starts it\n    655         \"\"\"\n    656         app = cls.instance(**kwargs)\n    657         app.initialize(argv)\n--> 658         app.start()\n        app.start = <bound method IPKernelApp.start of <ipykernel.kernelapp.IPKernelApp object>>\n    659 \n    660 #-----------------------------------------------------------------------------\n    661 # utility functions, for convenience\n    662 #-----------------------------------------------------------------------------\n\n...........................................................................\n/Users/michaelchuang/anaconda/lib/python3.6/site-packages/ipykernel/kernelapp.py in start(self=<ipykernel.kernelapp.IPKernelApp object>)\n    472             return self.subapp.start()\n    473         if self.poller is not None:\n    474             self.poller.start()\n    475         self.kernel.start()\n    476         try:\n--> 477             ioloop.IOLoop.instance().start()\n    478         except KeyboardInterrupt:\n    479             pass\n    480 \n    481 launch_new_instance = IPKernelApp.launch_instance\n\n...........................................................................\n/Users/michaelchuang/anaconda/lib/python3.6/site-packages/zmq/eventloop/ioloop.py in start(self=<zmq.eventloop.ioloop.ZMQIOLoop object>)\n    172             )\n    173         return loop\n    174     \n    175     def start(self):\n    176         try:\n--> 177             super(ZMQIOLoop, self).start()\n        self.start = <bound method ZMQIOLoop.start of <zmq.eventloop.ioloop.ZMQIOLoop object>>\n    178         except ZMQError as e:\n    179             if e.errno == ETERM:\n    180                 # quietly return on ETERM\n    181                 pass\n\n...........................................................................\n/Users/michaelchuang/anaconda/lib/python3.6/site-packages/tornado/ioloop.py in start(self=<zmq.eventloop.ioloop.ZMQIOLoop object>)\n    883                 self._events.update(event_pairs)\n    884                 while self._events:\n    885                     fd, events = self._events.popitem()\n    886                     try:\n    887                         fd_obj, handler_func = self._handlers[fd]\n--> 888                         handler_func(fd_obj, events)\n        handler_func = <function wrap.<locals>.null_wrapper>\n        fd_obj = <zmq.sugar.socket.Socket object>\n        events = 1\n    889                     except (OSError, IOError) as e:\n    890                         if errno_from_exception(e) == errno.EPIPE:\n    891                             # Happens when the client closes the connection\n    892                             pass\n\n...........................................................................\n/Users/michaelchuang/anaconda/lib/python3.6/site-packages/tornado/stack_context.py in null_wrapper(*args=(<zmq.sugar.socket.Socket object>, 1), **kwargs={})\n    272         # Fast path when there are no active contexts.\n    273         def null_wrapper(*args, **kwargs):\n    274             try:\n    275                 current_state = _state.contexts\n    276                 _state.contexts = cap_contexts[0]\n--> 277                 return fn(*args, **kwargs)\n        args = (<zmq.sugar.socket.Socket object>, 1)\n        kwargs = {}\n    278             finally:\n    279                 _state.contexts = current_state\n    280         null_wrapper._wrapped = True\n    281         return null_wrapper\n\n...........................................................................\n/Users/michaelchuang/anaconda/lib/python3.6/site-packages/zmq/eventloop/zmqstream.py in _handle_events(self=<zmq.eventloop.zmqstream.ZMQStream object>, fd=<zmq.sugar.socket.Socket object>, events=1)\n    435             # dispatch events:\n    436             if events & IOLoop.ERROR:\n    437                 gen_log.error(\"got POLLERR event on ZMQStream, which doesn't make sense\")\n    438                 return\n    439             if events & IOLoop.READ:\n--> 440                 self._handle_recv()\n        self._handle_recv = <bound method ZMQStream._handle_recv of <zmq.eventloop.zmqstream.ZMQStream object>>\n    441                 if not self.socket:\n    442                     return\n    443             if events & IOLoop.WRITE:\n    444                 self._handle_send()\n\n...........................................................................\n/Users/michaelchuang/anaconda/lib/python3.6/site-packages/zmq/eventloop/zmqstream.py in _handle_recv(self=<zmq.eventloop.zmqstream.ZMQStream object>)\n    467                 gen_log.error(\"RECV Error: %s\"%zmq.strerror(e.errno))\n    468         else:\n    469             if self._recv_callback:\n    470                 callback = self._recv_callback\n    471                 # self._recv_callback = None\n--> 472                 self._run_callback(callback, msg)\n        self._run_callback = <bound method ZMQStream._run_callback of <zmq.eventloop.zmqstream.ZMQStream object>>\n        callback = <function wrap.<locals>.null_wrapper>\n        msg = [<zmq.sugar.frame.Frame object>, <zmq.sugar.frame.Frame object>, <zmq.sugar.frame.Frame object>, <zmq.sugar.frame.Frame object>, <zmq.sugar.frame.Frame object>, <zmq.sugar.frame.Frame object>, <zmq.sugar.frame.Frame object>]\n    473                 \n    474         # self.update_state()\n    475         \n    476 \n\n...........................................................................\n/Users/michaelchuang/anaconda/lib/python3.6/site-packages/zmq/eventloop/zmqstream.py in _run_callback(self=<zmq.eventloop.zmqstream.ZMQStream object>, callback=<function wrap.<locals>.null_wrapper>, *args=([<zmq.sugar.frame.Frame object>, <zmq.sugar.frame.Frame object>, <zmq.sugar.frame.Frame object>, <zmq.sugar.frame.Frame object>, <zmq.sugar.frame.Frame object>, <zmq.sugar.frame.Frame object>, <zmq.sugar.frame.Frame object>],), **kwargs={})\n    409         close our socket.\"\"\"\n    410         try:\n    411             # Use a NullContext to ensure that all StackContexts are run\n    412             # inside our blanket exception handler rather than outside.\n    413             with stack_context.NullContext():\n--> 414                 callback(*args, **kwargs)\n        callback = <function wrap.<locals>.null_wrapper>\n        args = ([<zmq.sugar.frame.Frame object>, <zmq.sugar.frame.Frame object>, <zmq.sugar.frame.Frame object>, <zmq.sugar.frame.Frame object>, <zmq.sugar.frame.Frame object>, <zmq.sugar.frame.Frame object>, <zmq.sugar.frame.Frame object>],)\n        kwargs = {}\n    415         except:\n    416             gen_log.error(\"Uncaught exception, closing connection.\",\n    417                           exc_info=True)\n    418             # Close the socket on an uncaught exception from a user callback\n\n...........................................................................\n/Users/michaelchuang/anaconda/lib/python3.6/site-packages/tornado/stack_context.py in null_wrapper(*args=([<zmq.sugar.frame.Frame object>, <zmq.sugar.frame.Frame object>, <zmq.sugar.frame.Frame object>, <zmq.sugar.frame.Frame object>, <zmq.sugar.frame.Frame object>, <zmq.sugar.frame.Frame object>, <zmq.sugar.frame.Frame object>],), **kwargs={})\n    272         # Fast path when there are no active contexts.\n    273         def null_wrapper(*args, **kwargs):\n    274             try:\n    275                 current_state = _state.contexts\n    276                 _state.contexts = cap_contexts[0]\n--> 277                 return fn(*args, **kwargs)\n        args = ([<zmq.sugar.frame.Frame object>, <zmq.sugar.frame.Frame object>, <zmq.sugar.frame.Frame object>, <zmq.sugar.frame.Frame object>, <zmq.sugar.frame.Frame object>, <zmq.sugar.frame.Frame object>, <zmq.sugar.frame.Frame object>],)\n        kwargs = {}\n    278             finally:\n    279                 _state.contexts = current_state\n    280         null_wrapper._wrapped = True\n    281         return null_wrapper\n\n...........................................................................\n/Users/michaelchuang/anaconda/lib/python3.6/site-packages/ipykernel/kernelbase.py in dispatcher(msg=[<zmq.sugar.frame.Frame object>, <zmq.sugar.frame.Frame object>, <zmq.sugar.frame.Frame object>, <zmq.sugar.frame.Frame object>, <zmq.sugar.frame.Frame object>, <zmq.sugar.frame.Frame object>, <zmq.sugar.frame.Frame object>])\n    278         if self.control_stream:\n    279             self.control_stream.on_recv(self.dispatch_control, copy=False)\n    280 \n    281         def make_dispatcher(stream):\n    282             def dispatcher(msg):\n--> 283                 return self.dispatch_shell(stream, msg)\n        msg = [<zmq.sugar.frame.Frame object>, <zmq.sugar.frame.Frame object>, <zmq.sugar.frame.Frame object>, <zmq.sugar.frame.Frame object>, <zmq.sugar.frame.Frame object>, <zmq.sugar.frame.Frame object>, <zmq.sugar.frame.Frame object>]\n    284             return dispatcher\n    285 \n    286         for s in self.shell_streams:\n    287             s.on_recv(make_dispatcher(s), copy=False)\n\n...........................................................................\n/Users/michaelchuang/anaconda/lib/python3.6/site-packages/ipykernel/kernelbase.py in dispatch_shell(self=<ipykernel.ipkernel.IPythonKernel object>, stream=<zmq.eventloop.zmqstream.ZMQStream object>, msg={'buffers': [], 'content': {'allow_stdin': True, 'code': '##Grid search for optimal random tree parameters...1)\\n%time grid_search_elastic.fit(X_train, Y_vals)', 'silent': False, 'stop_on_error': True, 'store_history': True, 'user_expressions': {}}, 'header': {'date': datetime.datetime(2017, 11, 9, 16, 40, 49, 72629, tzinfo=datetime.timezone.utc), 'msg_id': 'B5FA3FD8E40B49A19C6500382C318953', 'msg_type': 'execute_request', 'session': 'C82811F576BF44BDA97A68006AC708CB', 'username': 'username', 'version': '5.0'}, 'metadata': {}, 'msg_id': 'B5FA3FD8E40B49A19C6500382C318953', 'msg_type': 'execute_request', 'parent_header': {}})\n    230             self.log.warn(\"Unknown message type: %r\", msg_type)\n    231         else:\n    232             self.log.debug(\"%s: %s\", msg_type, msg)\n    233             self.pre_handler_hook()\n    234             try:\n--> 235                 handler(stream, idents, msg)\n        handler = <bound method Kernel.execute_request of <ipykernel.ipkernel.IPythonKernel object>>\n        stream = <zmq.eventloop.zmqstream.ZMQStream object>\n        idents = [b'C82811F576BF44BDA97A68006AC708CB']\n        msg = {'buffers': [], 'content': {'allow_stdin': True, 'code': '##Grid search for optimal random tree parameters...1)\\n%time grid_search_elastic.fit(X_train, Y_vals)', 'silent': False, 'stop_on_error': True, 'store_history': True, 'user_expressions': {}}, 'header': {'date': datetime.datetime(2017, 11, 9, 16, 40, 49, 72629, tzinfo=datetime.timezone.utc), 'msg_id': 'B5FA3FD8E40B49A19C6500382C318953', 'msg_type': 'execute_request', 'session': 'C82811F576BF44BDA97A68006AC708CB', 'username': 'username', 'version': '5.0'}, 'metadata': {}, 'msg_id': 'B5FA3FD8E40B49A19C6500382C318953', 'msg_type': 'execute_request', 'parent_header': {}}\n    236             except Exception:\n    237                 self.log.error(\"Exception in message handler:\", exc_info=True)\n    238             finally:\n    239                 self.post_handler_hook()\n\n...........................................................................\n/Users/michaelchuang/anaconda/lib/python3.6/site-packages/ipykernel/kernelbase.py in execute_request(self=<ipykernel.ipkernel.IPythonKernel object>, stream=<zmq.eventloop.zmqstream.ZMQStream object>, ident=[b'C82811F576BF44BDA97A68006AC708CB'], parent={'buffers': [], 'content': {'allow_stdin': True, 'code': '##Grid search for optimal random tree parameters...1)\\n%time grid_search_elastic.fit(X_train, Y_vals)', 'silent': False, 'stop_on_error': True, 'store_history': True, 'user_expressions': {}}, 'header': {'date': datetime.datetime(2017, 11, 9, 16, 40, 49, 72629, tzinfo=datetime.timezone.utc), 'msg_id': 'B5FA3FD8E40B49A19C6500382C318953', 'msg_type': 'execute_request', 'session': 'C82811F576BF44BDA97A68006AC708CB', 'username': 'username', 'version': '5.0'}, 'metadata': {}, 'msg_id': 'B5FA3FD8E40B49A19C6500382C318953', 'msg_type': 'execute_request', 'parent_header': {}})\n    394         if not silent:\n    395             self.execution_count += 1\n    396             self._publish_execute_input(code, parent, self.execution_count)\n    397 \n    398         reply_content = self.do_execute(code, silent, store_history,\n--> 399                                         user_expressions, allow_stdin)\n        user_expressions = {}\n        allow_stdin = True\n    400 \n    401         # Flush output before sending the reply.\n    402         sys.stdout.flush()\n    403         sys.stderr.flush()\n\n...........................................................................\n/Users/michaelchuang/anaconda/lib/python3.6/site-packages/ipykernel/ipkernel.py in do_execute(self=<ipykernel.ipkernel.IPythonKernel object>, code='##Grid search for optimal random tree parameters...1)\\n%time grid_search_elastic.fit(X_train, Y_vals)', silent=False, store_history=True, user_expressions={}, allow_stdin=True)\n    191 \n    192         self._forward_input(allow_stdin)\n    193 \n    194         reply_content = {}\n    195         try:\n--> 196             res = shell.run_cell(code, store_history=store_history, silent=silent)\n        res = undefined\n        shell.run_cell = <bound method ZMQInteractiveShell.run_cell of <ipykernel.zmqshell.ZMQInteractiveShell object>>\n        code = '##Grid search for optimal random tree parameters...1)\\n%time grid_search_elastic.fit(X_train, Y_vals)'\n        store_history = True\n        silent = False\n    197         finally:\n    198             self._restore_input()\n    199 \n    200         if res.error_before_exec is not None:\n\n...........................................................................\n/Users/michaelchuang/anaconda/lib/python3.6/site-packages/ipykernel/zmqshell.py in run_cell(self=<ipykernel.zmqshell.ZMQInteractiveShell object>, *args=('##Grid search for optimal random tree parameters...1)\\n%time grid_search_elastic.fit(X_train, Y_vals)',), **kwargs={'silent': False, 'store_history': True})\n    528             )\n    529         self.payload_manager.write_payload(payload)\n    530 \n    531     def run_cell(self, *args, **kwargs):\n    532         self._last_traceback = None\n--> 533         return super(ZMQInteractiveShell, self).run_cell(*args, **kwargs)\n        self.run_cell = <bound method ZMQInteractiveShell.run_cell of <ipykernel.zmqshell.ZMQInteractiveShell object>>\n        args = ('##Grid search for optimal random tree parameters...1)\\n%time grid_search_elastic.fit(X_train, Y_vals)',)\n        kwargs = {'silent': False, 'store_history': True}\n    534 \n    535     def _showtraceback(self, etype, evalue, stb):\n    536         # try to preserve ordering of tracebacks and print statements\n    537         sys.stdout.flush()\n\n...........................................................................\n/Users/michaelchuang/anaconda/lib/python3.6/site-packages/IPython/core/interactiveshell.py in run_cell(self=<ipykernel.zmqshell.ZMQInteractiveShell object>, raw_cell='##Grid search for optimal random tree parameters...1)\\n%time grid_search_elastic.fit(X_train, Y_vals)', store_history=True, silent=False, shell_futures=True)\n   2712                 self.displayhook.exec_result = result\n   2713 \n   2714                 # Execute the user code\n   2715                 interactivity = \"none\" if silent else self.ast_node_interactivity\n   2716                 has_raised = self.run_ast_nodes(code_ast.body, cell_name,\n-> 2717                    interactivity=interactivity, compiler=compiler, result=result)\n        interactivity = 'last_expr'\n        compiler = <IPython.core.compilerop.CachingCompiler object>\n   2718                 \n   2719                 self.last_execution_succeeded = not has_raised\n   2720 \n   2721                 # Reset this so later displayed values do not modify the\n\n...........................................................................\n/Users/michaelchuang/anaconda/lib/python3.6/site-packages/IPython/core/interactiveshell.py in run_ast_nodes(self=<ipykernel.zmqshell.ZMQInteractiveShell object>, nodelist=[<_ast.Assign object>, <_ast.Assign object>, <_ast.Expr object>], cell_name='<ipython-input-114-04ad3047400f>', interactivity='last', compiler=<IPython.core.compilerop.CachingCompiler object>, result=<ExecutionResult object at 1a14b2b1d0, execution..._before_exec=None error_in_exec=None result=None>)\n   2822                     return True\n   2823 \n   2824             for i, node in enumerate(to_run_interactive):\n   2825                 mod = ast.Interactive([node])\n   2826                 code = compiler(mod, cell_name, \"single\")\n-> 2827                 if self.run_code(code, result):\n        self.run_code = <bound method InteractiveShell.run_code of <ipykernel.zmqshell.ZMQInteractiveShell object>>\n        code = <code object <module> at 0x1a1e9ad930, file \"<ipython-input-114-04ad3047400f>\", line 9>\n        result = <ExecutionResult object at 1a14b2b1d0, execution..._before_exec=None error_in_exec=None result=None>\n   2828                     return True\n   2829 \n   2830             # Flush softspace\n   2831             if softspace(sys.stdout, 0):\n\n...........................................................................\n/Users/michaelchuang/anaconda/lib/python3.6/site-packages/IPython/core/interactiveshell.py in run_code(self=<ipykernel.zmqshell.ZMQInteractiveShell object>, code_obj=<code object <module> at 0x1a1e9ad930, file \"<ipython-input-114-04ad3047400f>\", line 9>, result=<ExecutionResult object at 1a14b2b1d0, execution..._before_exec=None error_in_exec=None result=None>)\n   2876         outflag = 1  # happens in more places, so it's easier as default\n   2877         try:\n   2878             try:\n   2879                 self.hooks.pre_run_code_hook()\n   2880                 #rprint('Running code', repr(code_obj)) # dbg\n-> 2881                 exec(code_obj, self.user_global_ns, self.user_ns)\n        code_obj = <code object <module> at 0x1a1e9ad930, file \"<ipython-input-114-04ad3047400f>\", line 9>\n        self.user_global_ns = {'BayesianOptimization': <class 'bayes_opt.bayesian_optimization.BayesianOptimization'>, 'GridSearchCV': <class 'sklearn.model_selection._search.GridSearchCV'>, 'In': ['', 'from bayes_opt import BayesianOptimization', 'lasso_reg = linear_model.LassoCV(random_state=0,...in, np.ravel(Y_vals))\\n##score=0.93082405005697799', '\\nfrom sklearn import linear_model\\nfrom sklearn.e...\\nfrom sklearn.model_selection import GridSearchCV', 'lasso_reg = linear_model.LassoCV(random_state=0,...in, np.ravel(Y_vals))\\n##score=0.93082405005697799', \"#loading train\\ndf_train=pd.read_csv('./cleaned_t...est\\ndf_test=pd.read_csv('cleaned_test_dummy.csv')\", \"##Setting index as ID columns\\ndf_test.set_index(... True)\\ndf_train.set_index(['Id'], inplace = True)\", \"import pandas as pd\\nimport pandas as pd\\nimport n...t as plt\\nget_ipython().magic('matplotlib inline')\", \"#loading train\\ndf_train=pd.read_csv('./cleaned_t...est\\ndf_test=pd.read_csv('cleaned_test_dummy.csv')\", \"##Setting index as ID columns\\ndf_test.set_index(... True)\\ndf_train.set_index(['Id'], inplace = True)\", \"##Setting y and x to begin running models\\nY_vals...e']\\nX_train=df_train.copy()\\nX_test=df_test.copy()\", '\\nfrom sklearn import linear_model\\nfrom sklearn.e...\\nfrom sklearn.model_selection import GridSearchCV', 'lasso_reg = linear_model.LassoCV(random_state=0,...in, np.ravel(Y_vals))\\n##score=0.93082405005697799', \"Lres=round(pd.DataFrame(np.exp(lasso_reg.predict...olumns = ['SalePrice']\\nLres.to_csv('lasso_model')\", \"Lres=round(pd.DataFrame(np.exp(lasso_reg.predict...olumns = ['SalePrice']\\nLres.to_csv('lasso_model')\", \"Lres=round(pd.DataFrame(np.exp(lasso_reg.predict...ns = ['SalePrice']\\nLres.to_csv('lasso_model.csv')\", \"df_rfr=pd.read_csv('./rfr_model.csv')\\ndf_lasso=pd.read_csv('./lasso_model.csv')\", 'df_average = mean(df_rfr+df_lasso)', 'df_average = np.mean(df_rfr+df_lasso)', 'df_average', ...], 'KFold': <class 'sklearn.model_selection._split.KFold'>, 'Lres':        SalePrice\nId              \n1461  122710.7...712.429\n2919  227821.008\n\n[1459 rows x 1 columns], 'Out': {12: 0.93082405005697799, 19: Id             4380.000000\nSalePrice    352646.290131\ndtype: float64, 21:         Id   SalePrice\n0     2922  249456.385\n1 ...1\n1458  5838  443290.982\n\n[1459 rows x 2 columns], 23:           Id    SalePrice\n0     1461.0  124728.1...458  2919.0  221645.4910\n\n[1459 rows x 2 columns], 24:         Id   SalePrice\n0     1461  126745.630\n1 ...2\n1458  2919  215469.974\n\n[1459 rows x 2 columns], 26:         Id   SalePrice\n0     1461  126745.630\n1 ...2\n1458  2919  215469.974\n\n[1459 rows x 2 columns], 27:        SalePrice\nId              \n1461  126745.6...581.532\n2919  215469.974\n\n[1459 rows x 1 columns], 30:         SalePrice\nId               \n1461  124728...6.9805\n2919  221645.4910\n\n[1459 rows x 1 columns], 33: 0.93082405005697799, 34: 0.93082405005697799, ...}, 'X_test':       1stFlrSF  2ndFlrSF  3SsnPorch  Alley  Bedr...19                 0  \n\n[1459 rows x 283 columns], 'X_train':       1stFlrSF  2ndFlrSF  3SsnPorch  Alley  Bedr...60                 0  \n\n[1460 rows x 283 columns], 'Y_vals': array([ 12.24769432,  12.10901093,  12.31716669,... 12.49312952,\n        11.86446223,  11.90158345]), '_': 0.94361478046473457, ...}\n        self.user_ns = {'BayesianOptimization': <class 'bayes_opt.bayesian_optimization.BayesianOptimization'>, 'GridSearchCV': <class 'sklearn.model_selection._search.GridSearchCV'>, 'In': ['', 'from bayes_opt import BayesianOptimization', 'lasso_reg = linear_model.LassoCV(random_state=0,...in, np.ravel(Y_vals))\\n##score=0.93082405005697799', '\\nfrom sklearn import linear_model\\nfrom sklearn.e...\\nfrom sklearn.model_selection import GridSearchCV', 'lasso_reg = linear_model.LassoCV(random_state=0,...in, np.ravel(Y_vals))\\n##score=0.93082405005697799', \"#loading train\\ndf_train=pd.read_csv('./cleaned_t...est\\ndf_test=pd.read_csv('cleaned_test_dummy.csv')\", \"##Setting index as ID columns\\ndf_test.set_index(... True)\\ndf_train.set_index(['Id'], inplace = True)\", \"import pandas as pd\\nimport pandas as pd\\nimport n...t as plt\\nget_ipython().magic('matplotlib inline')\", \"#loading train\\ndf_train=pd.read_csv('./cleaned_t...est\\ndf_test=pd.read_csv('cleaned_test_dummy.csv')\", \"##Setting index as ID columns\\ndf_test.set_index(... True)\\ndf_train.set_index(['Id'], inplace = True)\", \"##Setting y and x to begin running models\\nY_vals...e']\\nX_train=df_train.copy()\\nX_test=df_test.copy()\", '\\nfrom sklearn import linear_model\\nfrom sklearn.e...\\nfrom sklearn.model_selection import GridSearchCV', 'lasso_reg = linear_model.LassoCV(random_state=0,...in, np.ravel(Y_vals))\\n##score=0.93082405005697799', \"Lres=round(pd.DataFrame(np.exp(lasso_reg.predict...olumns = ['SalePrice']\\nLres.to_csv('lasso_model')\", \"Lres=round(pd.DataFrame(np.exp(lasso_reg.predict...olumns = ['SalePrice']\\nLres.to_csv('lasso_model')\", \"Lres=round(pd.DataFrame(np.exp(lasso_reg.predict...ns = ['SalePrice']\\nLres.to_csv('lasso_model.csv')\", \"df_rfr=pd.read_csv('./rfr_model.csv')\\ndf_lasso=pd.read_csv('./lasso_model.csv')\", 'df_average = mean(df_rfr+df_lasso)', 'df_average = np.mean(df_rfr+df_lasso)', 'df_average', ...], 'KFold': <class 'sklearn.model_selection._split.KFold'>, 'Lres':        SalePrice\nId              \n1461  122710.7...712.429\n2919  227821.008\n\n[1459 rows x 1 columns], 'Out': {12: 0.93082405005697799, 19: Id             4380.000000\nSalePrice    352646.290131\ndtype: float64, 21:         Id   SalePrice\n0     2922  249456.385\n1 ...1\n1458  5838  443290.982\n\n[1459 rows x 2 columns], 23:           Id    SalePrice\n0     1461.0  124728.1...458  2919.0  221645.4910\n\n[1459 rows x 2 columns], 24:         Id   SalePrice\n0     1461  126745.630\n1 ...2\n1458  2919  215469.974\n\n[1459 rows x 2 columns], 26:         Id   SalePrice\n0     1461  126745.630\n1 ...2\n1458  2919  215469.974\n\n[1459 rows x 2 columns], 27:        SalePrice\nId              \n1461  126745.6...581.532\n2919  215469.974\n\n[1459 rows x 1 columns], 30:         SalePrice\nId               \n1461  124728...6.9805\n2919  221645.4910\n\n[1459 rows x 1 columns], 33: 0.93082405005697799, 34: 0.93082405005697799, ...}, 'X_test':       1stFlrSF  2ndFlrSF  3SsnPorch  Alley  Bedr...19                 0  \n\n[1459 rows x 283 columns], 'X_train':       1stFlrSF  2ndFlrSF  3SsnPorch  Alley  Bedr...60                 0  \n\n[1460 rows x 283 columns], 'Y_vals': array([ 12.24769432,  12.10901093,  12.31716669,... 12.49312952,\n        11.86446223,  11.90158345]), '_': 0.94361478046473457, ...}\n   2882             finally:\n   2883                 # Reset our crash handler in place\n   2884                 sys.excepthook = old_excepthook\n   2885         except SystemExit as e:\n\n...........................................................................\n/Users/michaelchuang/git_project/ML_project/<ipython-input-114-04ad3047400f> in <module>()\n      4     \"alphas\": np.linspace(0,20,num=10),\n      5     \"l1_ratio\": np.linspace(0.1,1,10),\n      6     \"normalize\" : [True]\n      7 }]\n      8 grid_search_elastic = GridSearchCV(elastic_model, grid_para_elastic, cv=5, n_jobs=-1, verbose=1)\n----> 9 get_ipython().magic('time grid_search_elastic.fit(X_train, Y_vals)')\n\n...........................................................................\n/Users/michaelchuang/anaconda/lib/python3.6/site-packages/IPython/core/interactiveshell.py in magic(self=<ipykernel.zmqshell.ZMQInteractiveShell object>, arg_s='time grid_search_elastic.fit(X_train, Y_vals)')\n   2153         compound statements.\n   2154         \"\"\"\n   2155         # TODO: should we issue a loud deprecation warning here?\n   2156         magic_name, _, magic_arg_s = arg_s.partition(' ')\n   2157         magic_name = magic_name.lstrip(prefilter.ESC_MAGIC)\n-> 2158         return self.run_line_magic(magic_name, magic_arg_s)\n        self.run_line_magic = <bound method InteractiveShell.run_line_magic of <ipykernel.zmqshell.ZMQInteractiveShell object>>\n        magic_name = 'time'\n        magic_arg_s = 'grid_search_elastic.fit(X_train, Y_vals)'\n   2159 \n   2160     #-------------------------------------------------------------------------\n   2161     # Things related to macros\n   2162     #-------------------------------------------------------------------------\n\n...........................................................................\n/Users/michaelchuang/anaconda/lib/python3.6/site-packages/IPython/core/interactiveshell.py in run_line_magic(self=<ipykernel.zmqshell.ZMQInteractiveShell object>, magic_name='time', line='grid_search_elastic.fit(X_train, Y_vals)')\n   2074             kwargs = {}\n   2075             # Grab local namespace if we need it:\n   2076             if getattr(fn, \"needs_local_scope\", False):\n   2077                 kwargs['local_ns'] = sys._getframe(stack_depth).f_locals\n   2078             with self.builtin_trap:\n-> 2079                 result = fn(*args,**kwargs)\n        result = undefined\n        fn = <bound method ExecutionMagics.time of <IPython.core.magics.execution.ExecutionMagics object>>\n        args = ['grid_search_elastic.fit(X_train, Y_vals)']\n        kwargs = {'local_ns': {'BayesianOptimization': <class 'bayes_opt.bayesian_optimization.BayesianOptimization'>, 'GridSearchCV': <class 'sklearn.model_selection._search.GridSearchCV'>, 'In': ['', 'from bayes_opt import BayesianOptimization', 'lasso_reg = linear_model.LassoCV(random_state=0,...in, np.ravel(Y_vals))\\n##score=0.93082405005697799', '\\nfrom sklearn import linear_model\\nfrom sklearn.e...\\nfrom sklearn.model_selection import GridSearchCV', 'lasso_reg = linear_model.LassoCV(random_state=0,...in, np.ravel(Y_vals))\\n##score=0.93082405005697799', \"#loading train\\ndf_train=pd.read_csv('./cleaned_t...est\\ndf_test=pd.read_csv('cleaned_test_dummy.csv')\", \"##Setting index as ID columns\\ndf_test.set_index(... True)\\ndf_train.set_index(['Id'], inplace = True)\", \"import pandas as pd\\nimport pandas as pd\\nimport n...t as plt\\nget_ipython().magic('matplotlib inline')\", \"#loading train\\ndf_train=pd.read_csv('./cleaned_t...est\\ndf_test=pd.read_csv('cleaned_test_dummy.csv')\", \"##Setting index as ID columns\\ndf_test.set_index(... True)\\ndf_train.set_index(['Id'], inplace = True)\", \"##Setting y and x to begin running models\\nY_vals...e']\\nX_train=df_train.copy()\\nX_test=df_test.copy()\", '\\nfrom sklearn import linear_model\\nfrom sklearn.e...\\nfrom sklearn.model_selection import GridSearchCV', 'lasso_reg = linear_model.LassoCV(random_state=0,...in, np.ravel(Y_vals))\\n##score=0.93082405005697799', \"Lres=round(pd.DataFrame(np.exp(lasso_reg.predict...olumns = ['SalePrice']\\nLres.to_csv('lasso_model')\", \"Lres=round(pd.DataFrame(np.exp(lasso_reg.predict...olumns = ['SalePrice']\\nLres.to_csv('lasso_model')\", \"Lres=round(pd.DataFrame(np.exp(lasso_reg.predict...ns = ['SalePrice']\\nLres.to_csv('lasso_model.csv')\", \"df_rfr=pd.read_csv('./rfr_model.csv')\\ndf_lasso=pd.read_csv('./lasso_model.csv')\", 'df_average = mean(df_rfr+df_lasso)', 'df_average = np.mean(df_rfr+df_lasso)', 'df_average', ...], 'KFold': <class 'sklearn.model_selection._split.KFold'>, 'Lres':        SalePrice\nId              \n1461  122710.7...712.429\n2919  227821.008\n\n[1459 rows x 1 columns], 'Out': {12: 0.93082405005697799, 19: Id             4380.000000\nSalePrice    352646.290131\ndtype: float64, 21:         Id   SalePrice\n0     2922  249456.385\n1 ...1\n1458  5838  443290.982\n\n[1459 rows x 2 columns], 23:           Id    SalePrice\n0     1461.0  124728.1...458  2919.0  221645.4910\n\n[1459 rows x 2 columns], 24:         Id   SalePrice\n0     1461  126745.630\n1 ...2\n1458  2919  215469.974\n\n[1459 rows x 2 columns], 26:         Id   SalePrice\n0     1461  126745.630\n1 ...2\n1458  2919  215469.974\n\n[1459 rows x 2 columns], 27:        SalePrice\nId              \n1461  126745.6...581.532\n2919  215469.974\n\n[1459 rows x 1 columns], 30:         SalePrice\nId               \n1461  124728...6.9805\n2919  221645.4910\n\n[1459 rows x 1 columns], 33: 0.93082405005697799, 34: 0.93082405005697799, ...}, 'X_test':       1stFlrSF  2ndFlrSF  3SsnPorch  Alley  Bedr...19                 0  \n\n[1459 rows x 283 columns], 'X_train':       1stFlrSF  2ndFlrSF  3SsnPorch  Alley  Bedr...60                 0  \n\n[1460 rows x 283 columns], 'Y_vals': array([ 12.24769432,  12.10901093,  12.31716669,... 12.49312952,\n        11.86446223,  11.90158345]), '_': 0.94361478046473457, ...}}\n   2080             return result\n   2081 \n   2082     def run_cell_magic(self, magic_name, line, cell):\n   2083         \"\"\"Execute the given cell magic.\n\n...........................................................................\n/Users/michaelchuang/git_project/ML_project/<decorator-gen-59> in time(self=<IPython.core.magics.execution.ExecutionMagics object>, line='grid_search_elastic.fit(X_train, Y_vals)', cell=None, local_ns={'BayesianOptimization': <class 'bayes_opt.bayesian_optimization.BayesianOptimization'>, 'GridSearchCV': <class 'sklearn.model_selection._search.GridSearchCV'>, 'In': ['', 'from bayes_opt import BayesianOptimization', 'lasso_reg = linear_model.LassoCV(random_state=0,...in, np.ravel(Y_vals))\\n##score=0.93082405005697799', '\\nfrom sklearn import linear_model\\nfrom sklearn.e...\\nfrom sklearn.model_selection import GridSearchCV', 'lasso_reg = linear_model.LassoCV(random_state=0,...in, np.ravel(Y_vals))\\n##score=0.93082405005697799', \"#loading train\\ndf_train=pd.read_csv('./cleaned_t...est\\ndf_test=pd.read_csv('cleaned_test_dummy.csv')\", \"##Setting index as ID columns\\ndf_test.set_index(... True)\\ndf_train.set_index(['Id'], inplace = True)\", \"import pandas as pd\\nimport pandas as pd\\nimport n...t as plt\\nget_ipython().magic('matplotlib inline')\", \"#loading train\\ndf_train=pd.read_csv('./cleaned_t...est\\ndf_test=pd.read_csv('cleaned_test_dummy.csv')\", \"##Setting index as ID columns\\ndf_test.set_index(... True)\\ndf_train.set_index(['Id'], inplace = True)\", \"##Setting y and x to begin running models\\nY_vals...e']\\nX_train=df_train.copy()\\nX_test=df_test.copy()\", '\\nfrom sklearn import linear_model\\nfrom sklearn.e...\\nfrom sklearn.model_selection import GridSearchCV', 'lasso_reg = linear_model.LassoCV(random_state=0,...in, np.ravel(Y_vals))\\n##score=0.93082405005697799', \"Lres=round(pd.DataFrame(np.exp(lasso_reg.predict...olumns = ['SalePrice']\\nLres.to_csv('lasso_model')\", \"Lres=round(pd.DataFrame(np.exp(lasso_reg.predict...olumns = ['SalePrice']\\nLres.to_csv('lasso_model')\", \"Lres=round(pd.DataFrame(np.exp(lasso_reg.predict...ns = ['SalePrice']\\nLres.to_csv('lasso_model.csv')\", \"df_rfr=pd.read_csv('./rfr_model.csv')\\ndf_lasso=pd.read_csv('./lasso_model.csv')\", 'df_average = mean(df_rfr+df_lasso)', 'df_average = np.mean(df_rfr+df_lasso)', 'df_average', ...], 'KFold': <class 'sklearn.model_selection._split.KFold'>, 'Lres':        SalePrice\nId              \n1461  122710.7...712.429\n2919  227821.008\n\n[1459 rows x 1 columns], 'Out': {12: 0.93082405005697799, 19: Id             4380.000000\nSalePrice    352646.290131\ndtype: float64, 21:         Id   SalePrice\n0     2922  249456.385\n1 ...1\n1458  5838  443290.982\n\n[1459 rows x 2 columns], 23:           Id    SalePrice\n0     1461.0  124728.1...458  2919.0  221645.4910\n\n[1459 rows x 2 columns], 24:         Id   SalePrice\n0     1461  126745.630\n1 ...2\n1458  2919  215469.974\n\n[1459 rows x 2 columns], 26:         Id   SalePrice\n0     1461  126745.630\n1 ...2\n1458  2919  215469.974\n\n[1459 rows x 2 columns], 27:        SalePrice\nId              \n1461  126745.6...581.532\n2919  215469.974\n\n[1459 rows x 1 columns], 30:         SalePrice\nId               \n1461  124728...6.9805\n2919  221645.4910\n\n[1459 rows x 1 columns], 33: 0.93082405005697799, 34: 0.93082405005697799, ...}, 'X_test':       1stFlrSF  2ndFlrSF  3SsnPorch  Alley  Bedr...19                 0  \n\n[1459 rows x 283 columns], 'X_train':       1stFlrSF  2ndFlrSF  3SsnPorch  Alley  Bedr...60                 0  \n\n[1460 rows x 283 columns], 'Y_vals': array([ 12.24769432,  12.10901093,  12.31716669,... 12.49312952,\n        11.86446223,  11.90158345]), '_': 0.94361478046473457, ...})\n\n...........................................................................\n/Users/michaelchuang/anaconda/lib/python3.6/site-packages/IPython/core/magic.py in <lambda>(f=<function ExecutionMagics.time>, *a=(<IPython.core.magics.execution.ExecutionMagics object>, 'grid_search_elastic.fit(X_train, Y_vals)', None, {'BayesianOptimization': <class 'bayes_opt.bayesian_optimization.BayesianOptimization'>, 'GridSearchCV': <class 'sklearn.model_selection._search.GridSearchCV'>, 'In': ['', 'from bayes_opt import BayesianOptimization', 'lasso_reg = linear_model.LassoCV(random_state=0,...in, np.ravel(Y_vals))\\n##score=0.93082405005697799', '\\nfrom sklearn import linear_model\\nfrom sklearn.e...\\nfrom sklearn.model_selection import GridSearchCV', 'lasso_reg = linear_model.LassoCV(random_state=0,...in, np.ravel(Y_vals))\\n##score=0.93082405005697799', \"#loading train\\ndf_train=pd.read_csv('./cleaned_t...est\\ndf_test=pd.read_csv('cleaned_test_dummy.csv')\", \"##Setting index as ID columns\\ndf_test.set_index(... True)\\ndf_train.set_index(['Id'], inplace = True)\", \"import pandas as pd\\nimport pandas as pd\\nimport n...t as plt\\nget_ipython().magic('matplotlib inline')\", \"#loading train\\ndf_train=pd.read_csv('./cleaned_t...est\\ndf_test=pd.read_csv('cleaned_test_dummy.csv')\", \"##Setting index as ID columns\\ndf_test.set_index(... True)\\ndf_train.set_index(['Id'], inplace = True)\", \"##Setting y and x to begin running models\\nY_vals...e']\\nX_train=df_train.copy()\\nX_test=df_test.copy()\", '\\nfrom sklearn import linear_model\\nfrom sklearn.e...\\nfrom sklearn.model_selection import GridSearchCV', 'lasso_reg = linear_model.LassoCV(random_state=0,...in, np.ravel(Y_vals))\\n##score=0.93082405005697799', \"Lres=round(pd.DataFrame(np.exp(lasso_reg.predict...olumns = ['SalePrice']\\nLres.to_csv('lasso_model')\", \"Lres=round(pd.DataFrame(np.exp(lasso_reg.predict...olumns = ['SalePrice']\\nLres.to_csv('lasso_model')\", \"Lres=round(pd.DataFrame(np.exp(lasso_reg.predict...ns = ['SalePrice']\\nLres.to_csv('lasso_model.csv')\", \"df_rfr=pd.read_csv('./rfr_model.csv')\\ndf_lasso=pd.read_csv('./lasso_model.csv')\", 'df_average = mean(df_rfr+df_lasso)', 'df_average = np.mean(df_rfr+df_lasso)', 'df_average', ...], 'KFold': <class 'sklearn.model_selection._split.KFold'>, 'Lres':        SalePrice\nId              \n1461  122710.7...712.429\n2919  227821.008\n\n[1459 rows x 1 columns], 'Out': {12: 0.93082405005697799, 19: Id             4380.000000\nSalePrice    352646.290131\ndtype: float64, 21:         Id   SalePrice\n0     2922  249456.385\n1 ...1\n1458  5838  443290.982\n\n[1459 rows x 2 columns], 23:           Id    SalePrice\n0     1461.0  124728.1...458  2919.0  221645.4910\n\n[1459 rows x 2 columns], 24:         Id   SalePrice\n0     1461  126745.630\n1 ...2\n1458  2919  215469.974\n\n[1459 rows x 2 columns], 26:         Id   SalePrice\n0     1461  126745.630\n1 ...2\n1458  2919  215469.974\n\n[1459 rows x 2 columns], 27:        SalePrice\nId              \n1461  126745.6...581.532\n2919  215469.974\n\n[1459 rows x 1 columns], 30:         SalePrice\nId               \n1461  124728...6.9805\n2919  221645.4910\n\n[1459 rows x 1 columns], 33: 0.93082405005697799, 34: 0.93082405005697799, ...}, 'X_test':       1stFlrSF  2ndFlrSF  3SsnPorch  Alley  Bedr...19                 0  \n\n[1459 rows x 283 columns], 'X_train':       1stFlrSF  2ndFlrSF  3SsnPorch  Alley  Bedr...60                 0  \n\n[1460 rows x 283 columns], 'Y_vals': array([ 12.24769432,  12.10901093,  12.31716669,... 12.49312952,\n        11.86446223,  11.90158345]), '_': 0.94361478046473457, ...}), **k={})\n    183     validate_type(magic_kind)\n    184 \n    185     # This is a closure to capture the magic_kind.  We could also use a class,\n    186     # but it's overkill for just that one bit of state.\n    187     def magic_deco(arg):\n--> 188         call = lambda f, *a, **k: f(*a, **k)\n        f = <function ExecutionMagics.time>\n        a = (<IPython.core.magics.execution.ExecutionMagics object>, 'grid_search_elastic.fit(X_train, Y_vals)', None, {'BayesianOptimization': <class 'bayes_opt.bayesian_optimization.BayesianOptimization'>, 'GridSearchCV': <class 'sklearn.model_selection._search.GridSearchCV'>, 'In': ['', 'from bayes_opt import BayesianOptimization', 'lasso_reg = linear_model.LassoCV(random_state=0,...in, np.ravel(Y_vals))\\n##score=0.93082405005697799', '\\nfrom sklearn import linear_model\\nfrom sklearn.e...\\nfrom sklearn.model_selection import GridSearchCV', 'lasso_reg = linear_model.LassoCV(random_state=0,...in, np.ravel(Y_vals))\\n##score=0.93082405005697799', \"#loading train\\ndf_train=pd.read_csv('./cleaned_t...est\\ndf_test=pd.read_csv('cleaned_test_dummy.csv')\", \"##Setting index as ID columns\\ndf_test.set_index(... True)\\ndf_train.set_index(['Id'], inplace = True)\", \"import pandas as pd\\nimport pandas as pd\\nimport n...t as plt\\nget_ipython().magic('matplotlib inline')\", \"#loading train\\ndf_train=pd.read_csv('./cleaned_t...est\\ndf_test=pd.read_csv('cleaned_test_dummy.csv')\", \"##Setting index as ID columns\\ndf_test.set_index(... True)\\ndf_train.set_index(['Id'], inplace = True)\", \"##Setting y and x to begin running models\\nY_vals...e']\\nX_train=df_train.copy()\\nX_test=df_test.copy()\", '\\nfrom sklearn import linear_model\\nfrom sklearn.e...\\nfrom sklearn.model_selection import GridSearchCV', 'lasso_reg = linear_model.LassoCV(random_state=0,...in, np.ravel(Y_vals))\\n##score=0.93082405005697799', \"Lres=round(pd.DataFrame(np.exp(lasso_reg.predict...olumns = ['SalePrice']\\nLres.to_csv('lasso_model')\", \"Lres=round(pd.DataFrame(np.exp(lasso_reg.predict...olumns = ['SalePrice']\\nLres.to_csv('lasso_model')\", \"Lres=round(pd.DataFrame(np.exp(lasso_reg.predict...ns = ['SalePrice']\\nLres.to_csv('lasso_model.csv')\", \"df_rfr=pd.read_csv('./rfr_model.csv')\\ndf_lasso=pd.read_csv('./lasso_model.csv')\", 'df_average = mean(df_rfr+df_lasso)', 'df_average = np.mean(df_rfr+df_lasso)', 'df_average', ...], 'KFold': <class 'sklearn.model_selection._split.KFold'>, 'Lres':        SalePrice\nId              \n1461  122710.7...712.429\n2919  227821.008\n\n[1459 rows x 1 columns], 'Out': {12: 0.93082405005697799, 19: Id             4380.000000\nSalePrice    352646.290131\ndtype: float64, 21:         Id   SalePrice\n0     2922  249456.385\n1 ...1\n1458  5838  443290.982\n\n[1459 rows x 2 columns], 23:           Id    SalePrice\n0     1461.0  124728.1...458  2919.0  221645.4910\n\n[1459 rows x 2 columns], 24:         Id   SalePrice\n0     1461  126745.630\n1 ...2\n1458  2919  215469.974\n\n[1459 rows x 2 columns], 26:         Id   SalePrice\n0     1461  126745.630\n1 ...2\n1458  2919  215469.974\n\n[1459 rows x 2 columns], 27:        SalePrice\nId              \n1461  126745.6...581.532\n2919  215469.974\n\n[1459 rows x 1 columns], 30:         SalePrice\nId               \n1461  124728...6.9805\n2919  221645.4910\n\n[1459 rows x 1 columns], 33: 0.93082405005697799, 34: 0.93082405005697799, ...}, 'X_test':       1stFlrSF  2ndFlrSF  3SsnPorch  Alley  Bedr...19                 0  \n\n[1459 rows x 283 columns], 'X_train':       1stFlrSF  2ndFlrSF  3SsnPorch  Alley  Bedr...60                 0  \n\n[1460 rows x 283 columns], 'Y_vals': array([ 12.24769432,  12.10901093,  12.31716669,... 12.49312952,\n        11.86446223,  11.90158345]), '_': 0.94361478046473457, ...})\n        k = {}\n    189 \n    190         if callable(arg):\n    191             # \"Naked\" decorator call (just @foo, no args)\n    192             func = arg\n\n...........................................................................\n/Users/michaelchuang/anaconda/lib/python3.6/site-packages/IPython/core/magics/execution.py in time(self=<IPython.core.magics.execution.ExecutionMagics object>, line='grid_search_elastic.fit(X_train, Y_vals)', cell=None, local_ns={'BayesianOptimization': <class 'bayes_opt.bayesian_optimization.BayesianOptimization'>, 'GridSearchCV': <class 'sklearn.model_selection._search.GridSearchCV'>, 'In': ['', 'from bayes_opt import BayesianOptimization', 'lasso_reg = linear_model.LassoCV(random_state=0,...in, np.ravel(Y_vals))\\n##score=0.93082405005697799', '\\nfrom sklearn import linear_model\\nfrom sklearn.e...\\nfrom sklearn.model_selection import GridSearchCV', 'lasso_reg = linear_model.LassoCV(random_state=0,...in, np.ravel(Y_vals))\\n##score=0.93082405005697799', \"#loading train\\ndf_train=pd.read_csv('./cleaned_t...est\\ndf_test=pd.read_csv('cleaned_test_dummy.csv')\", \"##Setting index as ID columns\\ndf_test.set_index(... True)\\ndf_train.set_index(['Id'], inplace = True)\", \"import pandas as pd\\nimport pandas as pd\\nimport n...t as plt\\nget_ipython().magic('matplotlib inline')\", \"#loading train\\ndf_train=pd.read_csv('./cleaned_t...est\\ndf_test=pd.read_csv('cleaned_test_dummy.csv')\", \"##Setting index as ID columns\\ndf_test.set_index(... True)\\ndf_train.set_index(['Id'], inplace = True)\", \"##Setting y and x to begin running models\\nY_vals...e']\\nX_train=df_train.copy()\\nX_test=df_test.copy()\", '\\nfrom sklearn import linear_model\\nfrom sklearn.e...\\nfrom sklearn.model_selection import GridSearchCV', 'lasso_reg = linear_model.LassoCV(random_state=0,...in, np.ravel(Y_vals))\\n##score=0.93082405005697799', \"Lres=round(pd.DataFrame(np.exp(lasso_reg.predict...olumns = ['SalePrice']\\nLres.to_csv('lasso_model')\", \"Lres=round(pd.DataFrame(np.exp(lasso_reg.predict...olumns = ['SalePrice']\\nLres.to_csv('lasso_model')\", \"Lres=round(pd.DataFrame(np.exp(lasso_reg.predict...ns = ['SalePrice']\\nLres.to_csv('lasso_model.csv')\", \"df_rfr=pd.read_csv('./rfr_model.csv')\\ndf_lasso=pd.read_csv('./lasso_model.csv')\", 'df_average = mean(df_rfr+df_lasso)', 'df_average = np.mean(df_rfr+df_lasso)', 'df_average', ...], 'KFold': <class 'sklearn.model_selection._split.KFold'>, 'Lres':        SalePrice\nId              \n1461  122710.7...712.429\n2919  227821.008\n\n[1459 rows x 1 columns], 'Out': {12: 0.93082405005697799, 19: Id             4380.000000\nSalePrice    352646.290131\ndtype: float64, 21:         Id   SalePrice\n0     2922  249456.385\n1 ...1\n1458  5838  443290.982\n\n[1459 rows x 2 columns], 23:           Id    SalePrice\n0     1461.0  124728.1...458  2919.0  221645.4910\n\n[1459 rows x 2 columns], 24:         Id   SalePrice\n0     1461  126745.630\n1 ...2\n1458  2919  215469.974\n\n[1459 rows x 2 columns], 26:         Id   SalePrice\n0     1461  126745.630\n1 ...2\n1458  2919  215469.974\n\n[1459 rows x 2 columns], 27:        SalePrice\nId              \n1461  126745.6...581.532\n2919  215469.974\n\n[1459 rows x 1 columns], 30:         SalePrice\nId               \n1461  124728...6.9805\n2919  221645.4910\n\n[1459 rows x 1 columns], 33: 0.93082405005697799, 34: 0.93082405005697799, ...}, 'X_test':       1stFlrSF  2ndFlrSF  3SsnPorch  Alley  Bedr...19                 0  \n\n[1459 rows x 283 columns], 'X_train':       1stFlrSF  2ndFlrSF  3SsnPorch  Alley  Bedr...60                 0  \n\n[1460 rows x 283 columns], 'Y_vals': array([ 12.24769432,  12.10901093,  12.31716669,... 12.49312952,\n        11.86446223,  11.90158345]), '_': 0.94361478046473457, ...})\n   1176         wtime = time.time\n   1177         # time execution\n   1178         wall_st = wtime()\n   1179         if mode=='eval':\n   1180             st = clock2()\n-> 1181             out = eval(code, glob, local_ns)\n        out = undefined\n        code = <code object <module> at 0x1a1e9ad780, file \"<timed eval>\", line 1>\n        glob = {'BayesianOptimization': <class 'bayes_opt.bayesian_optimization.BayesianOptimization'>, 'GridSearchCV': <class 'sklearn.model_selection._search.GridSearchCV'>, 'In': ['', 'from bayes_opt import BayesianOptimization', 'lasso_reg = linear_model.LassoCV(random_state=0,...in, np.ravel(Y_vals))\\n##score=0.93082405005697799', '\\nfrom sklearn import linear_model\\nfrom sklearn.e...\\nfrom sklearn.model_selection import GridSearchCV', 'lasso_reg = linear_model.LassoCV(random_state=0,...in, np.ravel(Y_vals))\\n##score=0.93082405005697799', \"#loading train\\ndf_train=pd.read_csv('./cleaned_t...est\\ndf_test=pd.read_csv('cleaned_test_dummy.csv')\", \"##Setting index as ID columns\\ndf_test.set_index(... True)\\ndf_train.set_index(['Id'], inplace = True)\", \"import pandas as pd\\nimport pandas as pd\\nimport n...t as plt\\nget_ipython().magic('matplotlib inline')\", \"#loading train\\ndf_train=pd.read_csv('./cleaned_t...est\\ndf_test=pd.read_csv('cleaned_test_dummy.csv')\", \"##Setting index as ID columns\\ndf_test.set_index(... True)\\ndf_train.set_index(['Id'], inplace = True)\", \"##Setting y and x to begin running models\\nY_vals...e']\\nX_train=df_train.copy()\\nX_test=df_test.copy()\", '\\nfrom sklearn import linear_model\\nfrom sklearn.e...\\nfrom sklearn.model_selection import GridSearchCV', 'lasso_reg = linear_model.LassoCV(random_state=0,...in, np.ravel(Y_vals))\\n##score=0.93082405005697799', \"Lres=round(pd.DataFrame(np.exp(lasso_reg.predict...olumns = ['SalePrice']\\nLres.to_csv('lasso_model')\", \"Lres=round(pd.DataFrame(np.exp(lasso_reg.predict...olumns = ['SalePrice']\\nLres.to_csv('lasso_model')\", \"Lres=round(pd.DataFrame(np.exp(lasso_reg.predict...ns = ['SalePrice']\\nLres.to_csv('lasso_model.csv')\", \"df_rfr=pd.read_csv('./rfr_model.csv')\\ndf_lasso=pd.read_csv('./lasso_model.csv')\", 'df_average = mean(df_rfr+df_lasso)', 'df_average = np.mean(df_rfr+df_lasso)', 'df_average', ...], 'KFold': <class 'sklearn.model_selection._split.KFold'>, 'Lres':        SalePrice\nId              \n1461  122710.7...712.429\n2919  227821.008\n\n[1459 rows x 1 columns], 'Out': {12: 0.93082405005697799, 19: Id             4380.000000\nSalePrice    352646.290131\ndtype: float64, 21:         Id   SalePrice\n0     2922  249456.385\n1 ...1\n1458  5838  443290.982\n\n[1459 rows x 2 columns], 23:           Id    SalePrice\n0     1461.0  124728.1...458  2919.0  221645.4910\n\n[1459 rows x 2 columns], 24:         Id   SalePrice\n0     1461  126745.630\n1 ...2\n1458  2919  215469.974\n\n[1459 rows x 2 columns], 26:         Id   SalePrice\n0     1461  126745.630\n1 ...2\n1458  2919  215469.974\n\n[1459 rows x 2 columns], 27:        SalePrice\nId              \n1461  126745.6...581.532\n2919  215469.974\n\n[1459 rows x 1 columns], 30:         SalePrice\nId               \n1461  124728...6.9805\n2919  221645.4910\n\n[1459 rows x 1 columns], 33: 0.93082405005697799, 34: 0.93082405005697799, ...}, 'X_test':       1stFlrSF  2ndFlrSF  3SsnPorch  Alley  Bedr...19                 0  \n\n[1459 rows x 283 columns], 'X_train':       1stFlrSF  2ndFlrSF  3SsnPorch  Alley  Bedr...60                 0  \n\n[1460 rows x 283 columns], 'Y_vals': array([ 12.24769432,  12.10901093,  12.31716669,... 12.49312952,\n        11.86446223,  11.90158345]), '_': 0.94361478046473457, ...}\n        local_ns = {'BayesianOptimization': <class 'bayes_opt.bayesian_optimization.BayesianOptimization'>, 'GridSearchCV': <class 'sklearn.model_selection._search.GridSearchCV'>, 'In': ['', 'from bayes_opt import BayesianOptimization', 'lasso_reg = linear_model.LassoCV(random_state=0,...in, np.ravel(Y_vals))\\n##score=0.93082405005697799', '\\nfrom sklearn import linear_model\\nfrom sklearn.e...\\nfrom sklearn.model_selection import GridSearchCV', 'lasso_reg = linear_model.LassoCV(random_state=0,...in, np.ravel(Y_vals))\\n##score=0.93082405005697799', \"#loading train\\ndf_train=pd.read_csv('./cleaned_t...est\\ndf_test=pd.read_csv('cleaned_test_dummy.csv')\", \"##Setting index as ID columns\\ndf_test.set_index(... True)\\ndf_train.set_index(['Id'], inplace = True)\", \"import pandas as pd\\nimport pandas as pd\\nimport n...t as plt\\nget_ipython().magic('matplotlib inline')\", \"#loading train\\ndf_train=pd.read_csv('./cleaned_t...est\\ndf_test=pd.read_csv('cleaned_test_dummy.csv')\", \"##Setting index as ID columns\\ndf_test.set_index(... True)\\ndf_train.set_index(['Id'], inplace = True)\", \"##Setting y and x to begin running models\\nY_vals...e']\\nX_train=df_train.copy()\\nX_test=df_test.copy()\", '\\nfrom sklearn import linear_model\\nfrom sklearn.e...\\nfrom sklearn.model_selection import GridSearchCV', 'lasso_reg = linear_model.LassoCV(random_state=0,...in, np.ravel(Y_vals))\\n##score=0.93082405005697799', \"Lres=round(pd.DataFrame(np.exp(lasso_reg.predict...olumns = ['SalePrice']\\nLres.to_csv('lasso_model')\", \"Lres=round(pd.DataFrame(np.exp(lasso_reg.predict...olumns = ['SalePrice']\\nLres.to_csv('lasso_model')\", \"Lres=round(pd.DataFrame(np.exp(lasso_reg.predict...ns = ['SalePrice']\\nLres.to_csv('lasso_model.csv')\", \"df_rfr=pd.read_csv('./rfr_model.csv')\\ndf_lasso=pd.read_csv('./lasso_model.csv')\", 'df_average = mean(df_rfr+df_lasso)', 'df_average = np.mean(df_rfr+df_lasso)', 'df_average', ...], 'KFold': <class 'sklearn.model_selection._split.KFold'>, 'Lres':        SalePrice\nId              \n1461  122710.7...712.429\n2919  227821.008\n\n[1459 rows x 1 columns], 'Out': {12: 0.93082405005697799, 19: Id             4380.000000\nSalePrice    352646.290131\ndtype: float64, 21:         Id   SalePrice\n0     2922  249456.385\n1 ...1\n1458  5838  443290.982\n\n[1459 rows x 2 columns], 23:           Id    SalePrice\n0     1461.0  124728.1...458  2919.0  221645.4910\n\n[1459 rows x 2 columns], 24:         Id   SalePrice\n0     1461  126745.630\n1 ...2\n1458  2919  215469.974\n\n[1459 rows x 2 columns], 26:         Id   SalePrice\n0     1461  126745.630\n1 ...2\n1458  2919  215469.974\n\n[1459 rows x 2 columns], 27:        SalePrice\nId              \n1461  126745.6...581.532\n2919  215469.974\n\n[1459 rows x 1 columns], 30:         SalePrice\nId               \n1461  124728...6.9805\n2919  221645.4910\n\n[1459 rows x 1 columns], 33: 0.93082405005697799, 34: 0.93082405005697799, ...}, 'X_test':       1stFlrSF  2ndFlrSF  3SsnPorch  Alley  Bedr...19                 0  \n\n[1459 rows x 283 columns], 'X_train':       1stFlrSF  2ndFlrSF  3SsnPorch  Alley  Bedr...60                 0  \n\n[1460 rows x 283 columns], 'Y_vals': array([ 12.24769432,  12.10901093,  12.31716669,... 12.49312952,\n        11.86446223,  11.90158345]), '_': 0.94361478046473457, ...}\n   1182             end = clock2()\n   1183         else:\n   1184             st = clock2()\n   1185             exec(code, glob, local_ns)\n\n...........................................................................\n/Users/michaelchuang/git_project/ML_project/<timed eval> in <module>()\n\n...........................................................................\n/Users/michaelchuang/anaconda/lib/python3.6/site-packages/sklearn/model_selection/_search.py in fit(self=GridSearchCV(cv=5, error_score='raise',\n       e...ain_score='warn',\n       scoring=None, verbose=1), X=      1stFlrSF  2ndFlrSF  3SsnPorch  Alley  Bedr...60                 0  \n\n[1460 rows x 283 columns], y=array([ 12.24769432,  12.10901093,  12.31716669,... 12.49312952,\n        11.86446223,  11.90158345]), groups=None, **fit_params={})\n    634                                   return_train_score=self.return_train_score,\n    635                                   return_n_test_samples=True,\n    636                                   return_times=True, return_parameters=False,\n    637                                   error_score=self.error_score)\n    638           for parameters, (train, test) in product(candidate_params,\n--> 639                                                    cv.split(X, y, groups)))\n        cv.split = <bound method _BaseKFold.split of KFold(n_splits=5, random_state=None, shuffle=False)>\n        X =       1stFlrSF  2ndFlrSF  3SsnPorch  Alley  Bedr...60                 0  \n\n[1460 rows x 283 columns]\n        y = array([ 12.24769432,  12.10901093,  12.31716669,... 12.49312952,\n        11.86446223,  11.90158345])\n        groups = None\n    640 \n    641         # if one choose to see train score, \"out\" will contain train score info\n    642         if self.return_train_score:\n    643             (train_score_dicts, test_score_dicts, test_sample_counts, fit_time,\n\n...........................................................................\n/Users/michaelchuang/anaconda/lib/python3.6/site-packages/sklearn/externals/joblib/parallel.py in __call__(self=Parallel(n_jobs=-1), iterable=<generator object BaseSearchCV.fit.<locals>.<genexpr>>)\n    784             if pre_dispatch == \"all\" or n_jobs == 1:\n    785                 # The iterable was consumed all at once by the above for loop.\n    786                 # No need to wait for async callbacks to trigger to\n    787                 # consumption.\n    788                 self._iterating = False\n--> 789             self.retrieve()\n        self.retrieve = <bound method Parallel.retrieve of Parallel(n_jobs=-1)>\n    790             # Make sure that we get a last message telling us we are done\n    791             elapsed_time = time.time() - self._start_time\n    792             self._print('Done %3i out of %3i | elapsed: %s finished',\n    793                         (len(self._output), len(self._output),\n\n---------------------------------------------------------------------------\nSub-process traceback:\n---------------------------------------------------------------------------\nAxisError                                          Thu Nov  9 11:40:49 2017\nPID: 34698           Python 3.6.1: /Users/michaelchuang/anaconda/bin/python\n...........................................................................\n/Users/michaelchuang/anaconda/lib/python3.6/site-packages/sklearn/externals/joblib/parallel.py in __call__(self=<sklearn.externals.joblib.parallel.BatchedCalls object>)\n    126     def __init__(self, iterator_slice):\n    127         self.items = list(iterator_slice)\n    128         self._size = len(self.items)\n    129 \n    130     def __call__(self):\n--> 131         return [func(*args, **kwargs) for func, args, kwargs in self.items]\n        self.items = [(<function _fit_and_score>, (ElasticNetCV(alphas=0.0, copy_X=True, cv=None, e...=None, selection='cyclic', tol=0.0001, verbose=0),       1stFlrSF  2ndFlrSF  3SsnPorch  Alley  Bedr...60                 0  \n\n[1460 rows x 283 columns], array([ 12.24769432,  12.10901093,  12.31716669,... 12.49312952,\n        11.86446223,  11.90158345]), {'score': <function _passthrough_scorer>}, array([ 292,  293,  294, ..., 1457, 1458, 1459]), array([  0,   1,   2,   3,   4,   5,   6,   7,  ..., 284, 285,\n       286, 287, 288, 289, 290, 291]), 1, {'alphas': 0.0, 'l1_ratio': 0.10000000000000001, 'n_alphas': 0, 'normalize': True}), {'error_score': 'raise', 'fit_params': {}, 'return_n_test_samples': True, 'return_parameters': False, 'return_times': True, 'return_train_score': 'warn'})]\n    132 \n    133     def __len__(self):\n    134         return self._size\n    135 \n\n...........................................................................\n/Users/michaelchuang/anaconda/lib/python3.6/site-packages/sklearn/externals/joblib/parallel.py in <listcomp>(.0=<list_iterator object>)\n    126     def __init__(self, iterator_slice):\n    127         self.items = list(iterator_slice)\n    128         self._size = len(self.items)\n    129 \n    130     def __call__(self):\n--> 131         return [func(*args, **kwargs) for func, args, kwargs in self.items]\n        func = <function _fit_and_score>\n        args = (ElasticNetCV(alphas=0.0, copy_X=True, cv=None, e...=None, selection='cyclic', tol=0.0001, verbose=0),       1stFlrSF  2ndFlrSF  3SsnPorch  Alley  Bedr...60                 0  \n\n[1460 rows x 283 columns], array([ 12.24769432,  12.10901093,  12.31716669,... 12.49312952,\n        11.86446223,  11.90158345]), {'score': <function _passthrough_scorer>}, array([ 292,  293,  294, ..., 1457, 1458, 1459]), array([  0,   1,   2,   3,   4,   5,   6,   7,  ..., 284, 285,\n       286, 287, 288, 289, 290, 291]), 1, {'alphas': 0.0, 'l1_ratio': 0.10000000000000001, 'n_alphas': 0, 'normalize': True})\n        kwargs = {'error_score': 'raise', 'fit_params': {}, 'return_n_test_samples': True, 'return_parameters': False, 'return_times': True, 'return_train_score': 'warn'}\n    132 \n    133     def __len__(self):\n    134         return self._size\n    135 \n\n...........................................................................\n/Users/michaelchuang/anaconda/lib/python3.6/site-packages/sklearn/model_selection/_validation.py in _fit_and_score(estimator=ElasticNetCV(alphas=0.0, copy_X=True, cv=None, e...=None, selection='cyclic', tol=0.0001, verbose=0), X=      1stFlrSF  2ndFlrSF  3SsnPorch  Alley  Bedr...60                 0  \n\n[1460 rows x 283 columns], y=array([ 12.24769432,  12.10901093,  12.31716669,... 12.49312952,\n        11.86446223,  11.90158345]), scorer={'score': <function _passthrough_scorer>}, train=array([ 292,  293,  294, ..., 1457, 1458, 1459]), test=array([  0,   1,   2,   3,   4,   5,   6,   7,  ..., 284, 285,\n       286, 287, 288, 289, 290, 291]), verbose=1, parameters={'alphas': 0.0, 'l1_ratio': 0.10000000000000001, 'n_alphas': 0, 'normalize': True}, fit_params={}, return_train_score='warn', return_parameters=False, return_n_test_samples=True, return_times=True, error_score='raise')\n    453 \n    454     try:\n    455         if y_train is None:\n    456             estimator.fit(X_train, **fit_params)\n    457         else:\n--> 458             estimator.fit(X_train, y_train, **fit_params)\n        estimator.fit = <bound method LinearModelCV.fit of ElasticNetCV(...None, selection='cyclic', tol=0.0001, verbose=0)>\n        X_train =       1stFlrSF  2ndFlrSF  3SsnPorch  Alley  Bedr...60                 0  \n\n[1168 rows x 283 columns]\n        y_train = array([ 11.7829526 ,  12.36734079,  12.02574909,... 12.49312952,\n        11.86446223,  11.90158345])\n        fit_params = {}\n    459 \n    460     except Exception as e:\n    461         # Note fit time as time until error\n    462         fit_time = time.time() - start_time\n\n...........................................................................\n/Users/michaelchuang/anaconda/lib/python3.6/site-packages/sklearn/linear_model/coordinate_descent.py in fit(self=ElasticNetCV(alphas=0.0, copy_X=True, cv=None, e...=None, selection='cyclic', tol=0.0001, verbose=0), X=array([[  1.14800000e+03,   5.68000000e+02,   1....000000e+00,   1.00000000e+00,   0.00000000e+00]]), y=array([ 11.7829526 ,  12.36734079,  12.02574909,... 12.49312952,\n        11.86446223,  11.90158345]))\n   1160                     eps=self.eps, n_alphas=self.n_alphas,\n   1161                     normalize=self.normalize,\n   1162                     copy_X=self.copy_X))\n   1163         else:\n   1164             # Making sure alphas is properly ordered.\n-> 1165             alphas = np.tile(np.sort(alphas)[::-1], (n_l1_ratio, 1))\n        alphas = 0.0\n        n_l1_ratio = 1\n   1166         # We want n_alphas to be the number of alphas used for each l1_ratio.\n   1167         n_alphas = len(alphas[0])\n   1168         path_params.update({'n_alphas': n_alphas})\n   1169 \n\n...........................................................................\n/Users/michaelchuang/anaconda/lib/python3.6/site-packages/numpy/core/fromnumeric.py in sort(a=array(0.0), axis=-1, kind='quicksort', order=None)\n    817     if axis is None:\n    818         a = asanyarray(a).flatten()\n    819         axis = 0\n    820     else:\n    821         a = asanyarray(a).copy(order=\"K\")\n--> 822     a.sort(axis=axis, kind=kind, order=order)\n        a.sort = <built-in method sort of numpy.ndarray object>\n        axis = -1\n        kind = 'quicksort'\n        order = None\n    823     return a\n    824 \n    825 \n    826 def argsort(a, axis=-1, kind='quicksort', order=None):\n\nAxisError: axis -1 is out of bounds for array of dimension 0\n___________________________________________________________________________"
     ]
    }
   ],
   "source": [
    "##Grid search for optimal random tree parameters\n",
    "grid_para_elastic = [{\n",
    "    \"n_alphas\": range(500),\n",
    "    \"alphas\": np.linspace(0,20,num=10),\n",
    "    \"l1_ratio\": np.linspace(0.1,1,10),\n",
    "    \"normalize\" : [True]\n",
    "}]\n",
    "grid_search_elastic = GridSearchCV(elastic_model, grid_para_elastic, cv=5, n_jobs=-1, verbose=1)\n",
    "%time grid_search_elastic.fit(X_train, Y_vals)"
   ]
  },
  {
   "cell_type": "code",
   "execution_count": 14,
   "metadata": {
    "scrolled": false
   },
   "outputs": [
    {
     "ename": "NameError",
     "evalue": "name 'grid_search_elastic' is not defined",
     "output_type": "error",
     "traceback": [
      "\u001b[0;31m---------------------------------------------------------------------------\u001b[0m",
      "\u001b[0;31mNameError\u001b[0m                                 Traceback (most recent call last)",
      "\u001b[0;32m<ipython-input-14-4af761440bd2>\u001b[0m in \u001b[0;36m<module>\u001b[0;34m()\u001b[0m\n\u001b[0;32m----> 1\u001b[0;31m \u001b[0mprint\u001b[0m\u001b[0;34m(\u001b[0m\u001b[0mgrid_search_elastic\u001b[0m\u001b[0;34m.\u001b[0m\u001b[0mbest_params_\u001b[0m\u001b[0;34m)\u001b[0m\u001b[0;34m\u001b[0m\u001b[0m\n\u001b[0m\u001b[1;32m      2\u001b[0m \u001b[0mprint\u001b[0m\u001b[0;34m(\u001b[0m\u001b[0mgrid_search_elastic\u001b[0m\u001b[0;34m.\u001b[0m\u001b[0mbest_score_\u001b[0m\u001b[0;34m)\u001b[0m\u001b[0;34m\u001b[0m\u001b[0m\n",
      "\u001b[0;31mNameError\u001b[0m: name 'grid_search_elastic' is not defined"
     ]
    }
   ],
   "source": [
    "print(grid_search_elastic.best_params_)\n",
    "print(grid_search_elastic.best_score_)"
   ]
  },
  {
   "cell_type": "code",
   "execution_count": 91,
   "metadata": {
    "scrolled": true
   },
   "outputs": [
    {
     "data": {
      "text/plain": [
       "0.91877117819246368"
      ]
     },
     "execution_count": 91,
     "metadata": {},
     "output_type": "execute_result"
    }
   ],
   "source": [
    "\n",
    "elastic_model = linear_model.ElasticNetCV(n_alphas=1000, l1_ratio=0.3, normalize=True,eps = 0.0001,max_iter=10000).fit(X_train, np.ravel(Y_vals))\n",
    "mse = mean_squared_error(Y_vals, elastic_model.predict(X_train))\n",
    "elastic_model.score(X_train, np.ravel(Y_vals))\n",
    "#print(np.sqrt(mse))"
   ]
  },
  {
   "cell_type": "code",
   "execution_count": 92,
   "metadata": {},
   "outputs": [],
   "source": [
    "elastic_result=round(pd.DataFrame(np.exp(elastic_model.predict(X_test))),3)\n",
    "elastic_result=elastic_result.set_index(X_test.index)\n",
    "elastic_result.columns = ['SalePrice']\n",
    "elastic_result.to_csv('elastic_model.csv')"
   ]
  },
  {
   "cell_type": "code",
   "execution_count": 64,
   "metadata": {
    "scrolled": true
   },
   "outputs": [
    {
     "name": "stdout",
     "output_type": "stream",
     "text": [
      "Fitting 5 folds for each of 120 candidates, totalling 600 fits\n"
     ]
    },
    {
     "name": "stderr",
     "output_type": "stream",
     "text": [
      "[Parallel(n_jobs=-1)]: Done  34 tasks      | elapsed:   16.5s\n",
      "[Parallel(n_jobs=-1)]: Done 184 tasks      | elapsed:  1.4min\n",
      "[Parallel(n_jobs=-1)]: Done 434 tasks      | elapsed:  3.4min\n",
      "[Parallel(n_jobs=-1)]: Done 600 out of 600 | elapsed:  4.9min finished\n"
     ]
    },
    {
     "name": "stdout",
     "output_type": "stream",
     "text": [
      "CPU times: user 8.1 s, sys: 244 ms, total: 8.34 s\n",
      "Wall time: 4min 59s\n"
     ]
    },
    {
     "data": {
      "text/plain": [
       "GridSearchCV(cv=5, error_score='raise',\n",
       "       estimator=RandomForestRegressor(bootstrap=True, criterion='mse', max_depth=6,\n",
       "           max_features='sqrt', max_leaf_nodes=None,\n",
       "           min_impurity_decrease=0.0, min_impurity_split=None,\n",
       "           min_samples_leaf=1, min_samples_split=2,\n",
       "           min_weight_fraction_leaf=0.0, n_estimators=1000, n_jobs=1,\n",
       "           oob_score=True, random_state=0, verbose=0, warm_start=False),\n",
       "       fit_params=None, iid=True, n_jobs=-1,\n",
       "       param_grid=[{'n_estimators': [1000], 'max_depth': range(4, 10), 'min_samples_leaf': range(1, 5), 'min_samples_split': array([ 2,  9, 16, 23, 30]), 'random_state': [0]}],\n",
       "       pre_dispatch='2*n_jobs', refit=True, return_train_score='warn',\n",
       "       scoring=None, verbose=1)"
      ]
     },
     "execution_count": 64,
     "metadata": {},
     "output_type": "execute_result"
    }
   ],
   "source": [
    "##Grid search for optimal random tree parameters\n",
    "from sklearn.model_selection import GridSearchCV\n",
    "grid_para_rfr = [{\n",
    "    \"n_estimators\": [1000],\n",
    "    \"max_depth\": range(4,10),\n",
    "    \"min_samples_leaf\": range(1, 5),\n",
    "    \"min_samples_split\": np.linspace(start=2, stop=30, num=5, dtype=int),\n",
    "    \"random_state\": [0]\n",
    "}]\n",
    "grid_search_rfr = GridSearchCV(rfr_model, grid_para_rfr, cv=5, n_jobs=-1, verbose=1)\n",
    "%time grid_search_rfr.fit(X_train, np.ravel(Y_vals))"
   ]
  },
  {
   "cell_type": "code",
   "execution_count": 52,
   "metadata": {},
   "outputs": [
    {
     "ename": "NameError",
     "evalue": "name 'grid_search_rfr' is not defined",
     "output_type": "error",
     "traceback": [
      "\u001b[0;31m---------------------------------------------------------------------------\u001b[0m",
      "\u001b[0;31mNameError\u001b[0m                                 Traceback (most recent call last)",
      "\u001b[0;32m<ipython-input-52-9d7d627cbdf8>\u001b[0m in \u001b[0;36m<module>\u001b[0;34m()\u001b[0m\n\u001b[0;32m----> 1\u001b[0;31m \u001b[0mgrid_search_rfr\u001b[0m\u001b[0;34m.\u001b[0m\u001b[0mbest_params_\u001b[0m\u001b[0;34m\u001b[0m\u001b[0m\n\u001b[0m\u001b[1;32m      2\u001b[0m \u001b[0;31m#{'max_depth': 9,\u001b[0m\u001b[0;34m\u001b[0m\u001b[0;34m\u001b[0m\u001b[0m\n\u001b[1;32m      3\u001b[0m \u001b[0;31m# 'min_samples_leaf': 1,\u001b[0m\u001b[0;34m\u001b[0m\u001b[0;34m\u001b[0m\u001b[0m\n\u001b[1;32m      4\u001b[0m \u001b[0;31m# 'min_samples_split': 2,\u001b[0m\u001b[0;34m\u001b[0m\u001b[0;34m\u001b[0m\u001b[0m\n\u001b[1;32m      5\u001b[0m \u001b[0;31m# 'n_estimators': 1000,\u001b[0m\u001b[0;34m\u001b[0m\u001b[0;34m\u001b[0m\u001b[0m\n",
      "\u001b[0;31mNameError\u001b[0m: name 'grid_search_rfr' is not defined"
     ]
    }
   ],
   "source": [
    "grid_search_rfr.best_params_\n",
    "#{'max_depth': 9,\n",
    "# 'min_samples_leaf': 1,\n",
    "# 'min_samples_split': 2,\n",
    "# 'n_estimators': 1000,\n",
    "# 'random_state': 0}"
   ]
  },
  {
   "cell_type": "code",
   "execution_count": 67,
   "metadata": {},
   "outputs": [
    {
     "data": {
      "text/plain": [
       "0.85469381411571965"
      ]
     },
     "execution_count": 67,
     "metadata": {},
     "output_type": "execute_result"
    }
   ],
   "source": [
    "grid_search_rfr.best_score_\n",
    "#0.85469381411571965"
   ]
  },
  {
   "cell_type": "code",
   "execution_count": 69,
   "metadata": {},
   "outputs": [
    {
     "name": "stdout",
     "output_type": "stream",
     "text": [
      "The training error is: 0.05750\n"
     ]
    }
   ],
   "source": [
    "print(\"The training error is: %.5f\" % (1 - grid_search_rfr.score(X_train, Y_vals)))\n",
    "#print(\"The test     error is: %.5f\" % (1 - grid_search_rfr.score(X_test, y_test)))"
   ]
  },
  {
   "cell_type": "code",
<<<<<<< HEAD
   "execution_count": 53,
=======
   "execution_count": 93,
>>>>>>> df92ae6fa3193457a1731d34d4c929ede39694cc
   "metadata": {
    "collapsed": true
   },
   "outputs": [],
   "source": [
    "rfr_model = rfr(random_state=0, min_samples_leaf = 2,\n",
    "        n_estimators=1000, max_depth=9,  max_features='sqrt', oob_score=True).fit(X_train, np.ravel(Y_vals))\n"
   ]
  },
  {
   "cell_type": "code",
   "execution_count": 26,
   "metadata": {
    "scrolled": true
   },
   "outputs": [
    {
     "name": "stdout",
     "output_type": "stream",
     "text": [
      "0.954422352069\n",
      "0.88491521533\n"
     ]
    }
   ],
   "source": [
    "print(rfr_model.score(X_train, np.ravel(Y_vals)))\n",
    "print(rfr_model.oob_score_)\n"
   ]
  },
  {
   "cell_type": "code",
   "execution_count": 94,
   "metadata": {
    "collapsed": true,
    "scrolled": true
   },
   "outputs": [],
   "source": [
    "rfr_results=round(pd.DataFrame(np.exp(rfr_model.predict(X_test))),3)\n",
    "rfr_results.columns=['SalePrice']\n",
    "rfr_results.set_index(df_test.index, inplace=True)\n",
    "rfr_results.to_csv('rfr_model.csv')"
   ]
  },
  {
   "cell_type": "code",
   "execution_count": 79,
   "metadata": {},
   "outputs": [
    {
     "name": "stdout",
     "output_type": "stream",
     "text": [
      "Fitting 5 folds for each of 120 candidates, totalling 600 fits\n"
     ]
    },
    {
     "name": "stderr",
     "output_type": "stream",
     "text": [
      "[Parallel(n_jobs=-1)]: Done  34 tasks      | elapsed:   14.4s\n",
      "[Parallel(n_jobs=-1)]: Done 184 tasks      | elapsed:  1.2min\n",
      "[Parallel(n_jobs=-1)]: Done 434 tasks      | elapsed:  3.1min\n",
      "[Parallel(n_jobs=-1)]: Done 600 out of 600 | elapsed:  4.2min finished\n"
     ]
    },
    {
     "name": "stdout",
     "output_type": "stream",
     "text": [
      "CPU times: user 7.07 s, sys: 232 ms, total: 7.3 s\n",
      "Wall time: 4min 15s\n"
     ]
    },
    {
     "data": {
      "text/plain": [
       "GridSearchCV(cv=5, error_score='raise',\n",
       "       estimator=ExtraTreesRegressor(bootstrap=True, criterion='mse', max_depth=9,\n",
       "          max_features='sqrt', max_leaf_nodes=None,\n",
       "          min_impurity_decrease=0.0, min_impurity_split=None,\n",
       "          min_samples_leaf=1, min_samples_split=2,\n",
       "          min_weight_fraction_leaf=0.0, n_estimators=1000, n_jobs=1,\n",
       "          oob_score=True, random_state=0, verbose=0, warm_start=False),\n",
       "       fit_params=None, iid=True, n_jobs=-1,\n",
       "       param_grid=[{'n_estimators': [1000], 'max_depth': range(4, 10), 'min_samples_leaf': range(1, 5), 'min_samples_split': array([ 2,  9, 16, 23, 30]), 'random_state': [0]}],\n",
       "       pre_dispatch='2*n_jobs', refit=True, return_train_score='warn',\n",
       "       scoring=None, verbose=1)"
      ]
     },
     "execution_count": 79,
     "metadata": {},
     "output_type": "execute_result"
    }
   ],
   "source": [
    "##Grid search for extra random tree parameters\n",
    "from sklearn.model_selection import GridSearchCV\n",
    "grid_para_etr = [{\n",
    "    \"n_estimators\": [1000],\n",
    "    \"max_depth\": range(4,10),\n",
    "    \"min_samples_leaf\": range(1, 5),\n",
    "    \"min_samples_split\": np.linspace(start=2, stop=30, num=5, dtype=int),\n",
    "    \"random_state\": [0]\n",
    "}]\n",
    "grid_search_etr = GridSearchCV(etr_model, grid_para_etr, cv=5, n_jobs=-1, verbose=1)\n",
    "%time grid_search_etr.fit(X_train, np.ravel(Y_vals))"
   ]
  },
  {
   "cell_type": "code",
   "execution_count": null,
   "metadata": {
    "collapsed": true
   },
   "outputs": [],
   "source": [
    "print(grid_search_etr.best_params_)\n",
    "print(grid_search_etr.best_score_)\n",
    "#{'max_depth': 9, 'min_samples_leaf': 1, 'min_samples_split': 2, 'n_estimators': 1000, 'random_state': 0}\n",
    "#0.81466266301"
   ]
  },
  {
   "cell_type": "code",
<<<<<<< HEAD
   "execution_count": 88,
=======
   "execution_count": 95,
>>>>>>> df92ae6fa3193457a1731d34d4c929ede39694cc
   "metadata": {
    "collapsed": true
   },
   "outputs": [],
   "source": [
    "etr_model = etr(random_state=0,\n",
    "        n_estimators=1000, max_depth=9, min_samples_leaf= 1, max_features='sqrt', bootstrap=True,oob_score=True).fit(X_train,Y_vals)\n"
   ]
  },
  {
   "cell_type": "code",
   "execution_count": 96,
   "metadata": {
    "collapsed": true
   },
   "outputs": [],
   "source": [
    "etr_results=round(pd.DataFrame(np.exp(etr_model.predict(X_test))),3)\n",
    "etr_results.columns=['SalePrice']\n",
    "etr_results.set_index(df_test.index, inplace=True)\n",
    "etr_results.to_csv('etr_model.csv')"
   ]
  },
  {
   "cell_type": "code",
   "execution_count": 30,
   "metadata": {},
   "outputs": [
    {
     "name": "stdout",
     "output_type": "stream",
     "text": [
      "0.93045681398\n",
      "0.863812847716\n"
     ]
    }
   ],
   "source": [
    "print(etr_model.score(X_train, Y_vals))\n",
    "print(etr_model.oob_score_)"
   ]
  },
  {
   "cell_type": "code",
<<<<<<< HEAD
   "execution_count": 23,
=======
   "execution_count": 97,
>>>>>>> df92ae6fa3193457a1731d34d4c929ede39694cc
   "metadata": {
    "collapsed": true
   },
   "outputs": [],
   "source": [
    "n_folds = 5\n",
    "from sklearn.metrics import make_scorer, mean_squared_error\n",
    "from sklearn.model_selection import KFold, cross_val_score\n",
    "scorer = make_scorer(mean_squared_error,greater_is_better = False)\n",
    "def rmse_CV_train(model):\n",
    "    kf = KFold(n_folds,shuffle=True,random_state=42).get_n_splits(X_train.values)\n",
    "    rmse = np.sqrt(-cross_val_score(model,X_train,Y_vals,scoring =\"neg_mean_squared_error\",cv=kf))\n",
    "    return (rmse)\n",
    "def rmse_CV_test(model):\n",
    "    kf = KFold(n_folds,shuffle=True,random_state=42).get_n_splits(train.values)\n",
    "    rmse = np.sqrt(-cross_val_score(model,X_train,Y_vals,scoring =\"neg_mean_squared_error\",cv=kf))\n",
    "    return (rmse)"
   ]
  },
  {
   "cell_type": "code",
   "execution_count": 98,
   "metadata": {},
   "outputs": [
    {
     "name": "stdout",
     "output_type": "stream",
     "text": [
      "rmse on train 0.85264138303\n"
     ]
    }
   ],
   "source": [
    "print('rmse on train',1-rmse_CV_train(etr_model).mean())\n",
    "#print('rmse on train',rmse_CV_test(lr).mean())"
   ]
  },
  {
   "cell_type": "code",
   "execution_count": 1,
   "metadata": {
    "collapsed": true
   },
   "outputs": [],
   "source": []
  },
  {
   "cell_type": "code",
<<<<<<< HEAD
   "execution_count": 93,
=======
   "execution_count": 33,
>>>>>>> df92ae6fa3193457a1731d34d4c929ede39694cc
   "metadata": {
    "collapsed": true
   },
   "outputs": [],
   "source": [
    "df_etr=pd.read_csv('./elastic_model.csv', index_col='Id')\n",
    "df_rfr=pd.read_csv('./rfr_model.csv', index_col='Id')\n",
    "df_lasso=pd.read_csv('./lasso_model.csv', index_col='Id')\n",
    "df_elastic=pd.read_csv('./elastic_model.csv', index_col='Id')\n"
   ]
  },
  {
   "cell_type": "code",
   "execution_count": 94,
   "metadata": {},
   "outputs": [
    {
     "data": {
      "text/html": [
       "<div>\n",
       "<style>\n",
       "    .dataframe thead tr:only-child th {\n",
       "        text-align: right;\n",
       "    }\n",
       "\n",
       "    .dataframe thead th {\n",
       "        text-align: left;\n",
       "    }\n",
       "\n",
       "    .dataframe tbody tr th {\n",
       "        vertical-align: top;\n",
       "    }\n",
       "</style>\n",
       "<table border=\"1\" class=\"dataframe\">\n",
       "  <thead>\n",
       "    <tr style=\"text-align: right;\">\n",
       "      <th></th>\n",
       "      <th>SalePrice</th>\n",
       "    </tr>\n",
       "    <tr>\n",
       "      <th>Id</th>\n",
       "      <th></th>\n",
       "    </tr>\n",
       "  </thead>\n",
       "  <tbody>\n",
       "    <tr>\n",
       "      <th>1461</th>\n",
       "      <td>123120.00125</td>\n",
       "    </tr>\n",
       "    <tr>\n",
       "      <th>1462</th>\n",
       "      <td>150738.73850</td>\n",
       "    </tr>\n",
       "    <tr>\n",
       "      <th>1463</th>\n",
       "      <td>177662.16450</td>\n",
       "    </tr>\n",
       "    <tr>\n",
       "      <th>1464</th>\n",
       "      <td>195197.55525</td>\n",
       "    </tr>\n",
       "    <tr>\n",
       "      <th>1465</th>\n",
       "      <td>194721.42850</td>\n",
       "    </tr>\n",
       "  </tbody>\n",
       "</table>\n",
       "</div>"
      ],
      "text/plain": [
       "         SalePrice\n",
       "Id                \n",
       "1461  123120.00125\n",
       "1462  150738.73850\n",
       "1463  177662.16450\n",
       "1464  195197.55525\n",
       "1465  194721.42850"
      ]
     },
     "execution_count": 94,
     "metadata": {},
     "output_type": "execute_result"
    }
   ],
   "source": [
    "df_average = (df_rfr+df_lasso+df_elastic+df_etr)/4\n",
    "df_average.head()"
   ]
  },
  {
   "cell_type": "code",
   "execution_count": 95,
   "metadata": {
    "collapsed": true
   },
   "outputs": [],
   "source": [
    "df_average.to_csv('lasso_rfr_etr_elastic_average.csv')"
   ]
  },
  {
   "cell_type": "code",
   "execution_count": 99,
   "metadata": {},
   "outputs": [],
   "source": [
    "\n",
    "n_folds = 5\n",
    "def rmsle_cv(model):\n",
    "    kf = KFold(n_folds, shuffle=True, random_state=42).get_n_splits(X_train.values)\n",
    "    rmse= np.sqrt(-cross_val_score(model, X_train.values, Y_vals, scoring=\"neg_mean_squared_error\", cv = kf))\n",
    "    return(rmse)\n",
    "\n",
    "def rmsle(y, y_pred):\n",
    "    return np.sqrt(mean_squared_error(y, y_pred))"
   ]
  },
  {
   "cell_type": "code",
   "execution_count": 35,
   "metadata": {
    "scrolled": true
   },
   "outputs": [
    {
     "name": "stdout",
     "output_type": "stream",
     "text": [
      "\n",
      "Lasso score: 0.1482 (0.0082)\n",
      "\n"
     ]
    }
   ],
   "source": [
    "score=rmsle_cv(etr_model)\n",
    "print(\"\\nLasso score: {:.4f} ({:.4f})\\n\".format(score.mean(), score.std()))\n"
   ]
  },
  {
   "cell_type": "code",
   "execution_count": 100,
   "metadata": {},
   "outputs": [],
   "source": [
    "import xgboost as xgb"
   ]
  },
  {
   "cell_type": "code",
   "execution_count": 117,
   "metadata": {
    "scrolled": true
   },
   "outputs": [
    {
     "data": {
      "text/plain": [
       "XGBRegressor(base_score=0.5, colsample_bylevel=1, colsample_bytree=0.6,\n",
       "       gamma=0.0, learning_rate=0.1, max_delta_step=0, max_depth=4,\n",
       "       min_child_weight=0.3, missing=None, n_estimators=1000, nthread=-1,\n",
       "       objective='reg:linear', reg_alpha=0.25, reg_lambda=0.25,\n",
       "       scale_pos_weight=1, seed=1, silent=False, subsample=0.3)"
      ]
     },
     "execution_count": 117,
     "metadata": {},
     "output_type": "execute_result"
    }
   ],
   "source": [
    "xgb_model = xgb.XGBRegressor(\n",
    "                 colsample_bytree=0.6,\n",
    "                 gamma=0.0,\n",
    "                 learning_rate=0.1,\n",
    "                 max_depth=4,\n",
    "                 min_child_weight=0.3,\n",
    "                 n_estimators=1000,                                                                  \n",
    "                 reg_alpha=0.25,\n",
    "                 reg_lambda=0.25,\n",
    "                 subsample=0.3,\n",
    "                 seed=1,\n",
    "                 silent=False)\n",
    "\n",
    "xgb_model.fit(X_train, Y_vals)"
   ]
  },
  {
   "cell_type": "code",
   "execution_count": 118,
   "metadata": {
    "scrolled": false
   },
   "outputs": [
    {
     "data": {
      "text/plain": [
       "0.99638272565118924"
      ]
     },
     "execution_count": 118,
     "metadata": {},
     "output_type": "execute_result"
    }
   ],
   "source": [
    "xgb_model.score(X_train, Y_vals)"
   ]
  },
  {
   "cell_type": "code",
   "execution_count": 119,
   "metadata": {},
   "outputs": [
    {
     "name": "stdout",
     "output_type": "stream",
     "text": [
      "0.0240321510696\n"
     ]
    }
   ],
   "source": [
    "print(rmsle(Y_vals, xgb_model.predict(X_train)))\n"
   ]
  },
  {
   "cell_type": "code",
   "execution_count": 120,
   "metadata": {},
   "outputs": [
    {
     "data": {
      "text/plain": [
       "LGBMRegressor(bagging_fraction=0.8, bagging_freq=5, bagging_seed=9,\n",
       "       boosting_type='gbdt', colsample_bytree=1.0, feature_fraction=0.2319,\n",
       "       feature_fraction_seed=9, learning_rate=0.05, max_bin=55,\n",
       "       max_depth=-1, min_child_samples=10, min_child_weight=5,\n",
       "       min_data_in_leaf=6, min_split_gain=0.0, min_sum_hessian_in_leaf=11,\n",
       "       n_estimators=720, n_jobs=-1, num_leaves=5, objective='regression',\n",
       "       random_state=0, reg_alpha=0.0, reg_lambda=0.0, silent=True,\n",
       "       subsample=1.0, subsample_for_bin=50000, subsample_freq=1)"
      ]
     },
     "execution_count": 120,
     "metadata": {},
     "output_type": "execute_result"
    }
   ],
   "source": [
    "import lightgbm as lgb\n",
    "\n",
    "lgb_model = lgb.LGBMRegressor(objective='regression',num_leaves=5,\n",
    "                              learning_rate=0.05, n_estimators=720,\n",
    "                              max_bin = 55, bagging_fraction = 0.8,\n",
    "                              bagging_freq = 5, feature_fraction = 0.2319,\n",
    "                              feature_fraction_seed=9, bagging_seed=9,\n",
    "                              min_data_in_leaf =6, min_sum_hessian_in_leaf = 11)\n",
    "lgb_model.fit(X_train,Y_vals)\n"
   ]
  },
  {
   "cell_type": "code",
   "execution_count": 121,
   "metadata": {},
   "outputs": [
    {
     "data": {
      "text/plain": [
       "0.96945369862300235"
      ]
     },
     "execution_count": 121,
     "metadata": {},
     "output_type": "execute_result"
    }
   ],
   "source": [
    "lgb_model.score(X_train, Y_vals)"
   ]
  },
  {
   "cell_type": "code",
   "execution_count": 106,
   "metadata": {},
   "outputs": [],
   "source": [
    "from sklearn.base import BaseEstimator, TransformerMixin, RegressorMixin, clone\n",
    "\n",
    "class StackingAveragedModels(BaseEstimator, RegressorMixin, TransformerMixin):\n",
    "    def __init__(self, base_models, meta_model, n_folds=5):\n",
    "        self.base_models = base_models\n",
    "        self.meta_model = meta_model\n",
    "        self.n_folds = n_folds\n",
    "   \n",
    "    # We again fit the data on clones of the original models\n",
    "    def fit(self, X, y):\n",
    "        self.base_models_ = [list() for x in self.base_models]\n",
    "        self.meta_model_ = clone(self.meta_model)\n",
    "        kfold = KFold(n_splits=self.n_folds, shuffle=True, random_state=156)\n",
    "        \n",
    "        # Train cloned base models then create out-of-fold predictions\n",
    "        # that are needed to train the cloned meta-model\n",
    "        out_of_fold_predictions = np.zeros((X.shape[0], len(self.base_models)))\n",
    "        for i, model in enumerate(self.base_models):\n",
    "            for train_index, holdout_index in kfold.split(X, y):\n",
    "                instance = clone(model)\n",
    "                self.base_models_[i].append(instance)\n",
    "                instance.fit(X[train_index], y[train_index])\n",
    "                y_pred = instance.predict(X[holdout_index])\n",
    "                out_of_fold_predictions[holdout_index, i] = y_pred\n",
    "                \n",
    "        # Now train the cloned  meta-model using the out-of-fold predictions as new feature\n",
    "        self.meta_model_.fit(out_of_fold_predictions, y)\n",
    "        return self\n",
    "   \n",
    "    #Do the predictions of all base models on the test data and use the averaged predictions as \n",
    "    #meta-features for the final prediction which is done by the meta-model\n",
    "    def predict(self, X):\n",
    "        meta_features = np.column_stack([\n",
    "            np.column_stack([model.predict(X) for model in base_models]).mean(axis=1)\n",
    "            for base_models in self.base_models_ ])\n",
    "        return self.meta_model_.predict(meta_features)"
   ]
  },
  {
   "cell_type": "code",
   "execution_count": 109,
   "metadata": {},
   "outputs": [
    {
     "name": "stdout",
     "output_type": "stream",
     "text": [
      "Stacking Averaged models score: 0.1153 (0.0050)\n"
     ]
    }
   ],
   "source": [
    "stacked_averaged_models = StackingAveragedModels(base_models = (xgb_model, etr_model, rfr_model),\n",
    "                                                 meta_model = lasso_model)\n",
    "\n",
    "score = rmsle_cv(stacked_averaged_models)\n",
    "print(\"Stacking Averaged models score: {:.4f} ({:.4f})\".format(score.mean(), score.std()))"
   ]
  },
  {
   "cell_type": "code",
   "execution_count": 110,
   "metadata": {},
   "outputs": [
    {
     "data": {
      "text/plain": [
       "StackingAveragedModels(base_models=(XGBRegressor(base_score=0.5, colsample_bylevel=1, colsample_bytree=0.6,\n",
       "       gamma=0.0, learning_rate=0.1, max_delta_step=0, max_depth=4,\n",
       "       min_child_weight=0.3, missing=None, n_estimators=1000, nthread=-1,\n",
       "       objective='reg:linear', reg_alpha=0.25, reg_lambda=0.25,\n",
       "       sc..._estimators=1000, n_jobs=1,\n",
       "           oob_score=True, random_state=0, verbose=0, warm_start=False)),\n",
       "            meta_model=LassoCV(alphas=None, copy_X=True, cv=None, eps=0.0001, fit_intercept=True,\n",
       "    max_iter=10000, n_alphas=100, n_jobs=1, normalize=True, positive=False,\n",
       "    precompute='auto', random_state=0, selection='cyclic', tol=0.0001,\n",
       "    verbose=False),\n",
       "            n_folds=5)"
      ]
     },
     "execution_count": 110,
     "metadata": {},
     "output_type": "execute_result"
    }
   ],
   "source": [
    "stacked_averaged_models.fit(X_train.values, Y_vals)\n"
   ]
  },
  {
   "cell_type": "code",
   "execution_count": 60,
   "metadata": {
    "collapsed": true
   },
   "outputs": [
    {
     "data": {
      "text/plain": [
       "array([[  0.00000000e+00,   6.79905586e+00,   0.00000000e+00, ...,\n",
       "          1.00000000e+00,   1.00000000e+00,   0.00000000e+00],\n",
       "       [  1.00000000e+00,   7.19293422e+00,   0.00000000e+00, ...,\n",
       "          0.00000000e+00,   1.00000000e+00,   0.00000000e+00],\n",
       "       [  2.00000000e+00,   6.83410874e+00,   6.55393340e+00, ...,\n",
       "          0.00000000e+00,   1.00000000e+00,   0.00000000e+00],\n",
       "       ..., \n",
       "       [  1.45600000e+03,   7.11069612e+00,   0.00000000e+00, ...,\n",
       "          1.00000000e+00,   1.00000000e+00,   0.00000000e+00],\n",
       "       [  1.45700000e+03,   6.87832647e+00,   0.00000000e+00, ...,\n",
       "          1.00000000e+00,   1.00000000e+00,   0.00000000e+00],\n",
       "       [  1.45800000e+03,   6.90475077e+00,   6.91274282e+00, ...,\n",
       "          1.00000000e+00,   1.00000000e+00,   0.00000000e+00]])"
      ]
     },
     "execution_count": 60,
     "metadata": {},
     "output_type": "execute_result"
    }
   ],
   "source": []
  },
  {
   "cell_type": "code",
   "execution_count": 132,
   "metadata": {},
   "outputs": [],
   "source": [
    "stacked_pred = np.expm1(stacked_averaged_models.predict(X_test.values))\n",
    "xgb_pred=np.expm1(xgb_model.predict(X_test))\n",
    "lgb_pred=np.expm1(lgb_model.predict(X_test))\n",
    "ensemble= stacked_pred*0.5 + xgb_pred *0.3 + lgb_pred*0.2\n",
    "\n"
   ]
  },
  {
   "cell_type": "code",
   "execution_count": 133,
   "metadata": {},
   "outputs": [],
   "source": [
    "sub = pd.DataFrame()\n",
    "sub['SalePrice'] = ensemble\n",
    "sub.set_index(df_test.index, inplace=True)\n",
    "sub.to_csv('submission.csv')"
   ]
  },
  {
   "cell_type": "code",
   "execution_count": 184,
   "metadata": {},
   "outputs": [],
   "source": [
    "stacked_results=round(pd.DataFrame(np.exp(stacked_averaged_models.predict(X_test.values))),3)\n",
    "stacked_results.columns=['SalePrice']\n",
    "stacked_results.set_index(df_test.index, inplace=True)\n",
    "stacked_results.to_csv('stacked_model.csv')"
   ]
  },
  {
   "cell_type": "code",
   "execution_count": 135,
   "metadata": {},
   "outputs": [
    {
     "data": {
      "text/html": [
       "<div>\n",
       "<style>\n",
       "    .dataframe thead tr:only-child th {\n",
       "        text-align: right;\n",
       "    }\n",
       "\n",
       "    .dataframe thead th {\n",
       "        text-align: left;\n",
       "    }\n",
       "\n",
       "    .dataframe tbody tr th {\n",
       "        vertical-align: top;\n",
       "    }\n",
       "</style>\n",
       "<table border=\"1\" class=\"dataframe\">\n",
       "  <thead>\n",
       "    <tr style=\"text-align: right;\">\n",
       "      <th></th>\n",
       "      <th>SalePrice</th>\n",
       "    </tr>\n",
       "    <tr>\n",
       "      <th>Id</th>\n",
       "      <th></th>\n",
       "    </tr>\n",
       "  </thead>\n",
       "  <tbody>\n",
       "    <tr>\n",
       "      <th>1461</th>\n",
       "      <td>116480.995288</td>\n",
       "    </tr>\n",
       "    <tr>\n",
       "      <th>1462</th>\n",
       "      <td>160179.907181</td>\n",
       "    </tr>\n",
       "    <tr>\n",
       "      <th>1463</th>\n",
       "      <td>188080.997222</td>\n",
       "    </tr>\n",
       "    <tr>\n",
       "      <th>1464</th>\n",
       "      <td>192763.024130</td>\n",
       "    </tr>\n",
       "    <tr>\n",
       "      <th>1465</th>\n",
       "      <td>180325.042420</td>\n",
       "    </tr>\n",
       "    <tr>\n",
       "      <th>1466</th>\n",
       "      <td>172035.364281</td>\n",
       "    </tr>\n",
       "    <tr>\n",
       "      <th>1467</th>\n",
       "      <td>173537.675119</td>\n",
       "    </tr>\n",
       "    <tr>\n",
       "      <th>1468</th>\n",
       "      <td>170701.855393</td>\n",
       "    </tr>\n",
       "    <tr>\n",
       "      <th>1469</th>\n",
       "      <td>176761.742672</td>\n",
       "    </tr>\n",
       "    <tr>\n",
       "      <th>1470</th>\n",
       "      <td>126556.455658</td>\n",
       "    </tr>\n",
       "    <tr>\n",
       "      <th>1471</th>\n",
       "      <td>197811.881136</td>\n",
       "    </tr>\n",
       "    <tr>\n",
       "      <th>1472</th>\n",
       "      <td>94359.511196</td>\n",
       "    </tr>\n",
       "    <tr>\n",
       "      <th>1473</th>\n",
       "      <td>99458.990550</td>\n",
       "    </tr>\n",
       "    <tr>\n",
       "      <th>1474</th>\n",
       "      <td>152068.065947</td>\n",
       "    </tr>\n",
       "    <tr>\n",
       "      <th>1475</th>\n",
       "      <td>114827.141654</td>\n",
       "    </tr>\n",
       "    <tr>\n",
       "      <th>1476</th>\n",
       "      <td>375829.671381</td>\n",
       "    </tr>\n",
       "    <tr>\n",
       "      <th>1477</th>\n",
       "      <td>258786.863293</td>\n",
       "    </tr>\n",
       "    <tr>\n",
       "      <th>1478</th>\n",
       "      <td>288066.555065</td>\n",
       "    </tr>\n",
       "    <tr>\n",
       "      <th>1479</th>\n",
       "      <td>279622.724585</td>\n",
       "    </tr>\n",
       "    <tr>\n",
       "      <th>1480</th>\n",
       "      <td>481457.313512</td>\n",
       "    </tr>\n",
       "    <tr>\n",
       "      <th>1481</th>\n",
       "      <td>335713.675681</td>\n",
       "    </tr>\n",
       "    <tr>\n",
       "      <th>1482</th>\n",
       "      <td>207552.587286</td>\n",
       "    </tr>\n",
       "    <tr>\n",
       "      <th>1483</th>\n",
       "      <td>182343.818553</td>\n",
       "    </tr>\n",
       "    <tr>\n",
       "      <th>1484</th>\n",
       "      <td>168313.901281</td>\n",
       "    </tr>\n",
       "    <tr>\n",
       "      <th>1485</th>\n",
       "      <td>180942.160456</td>\n",
       "    </tr>\n",
       "    <tr>\n",
       "      <th>1486</th>\n",
       "      <td>199413.447772</td>\n",
       "    </tr>\n",
       "    <tr>\n",
       "      <th>1487</th>\n",
       "      <td>349491.867752</td>\n",
       "    </tr>\n",
       "    <tr>\n",
       "      <th>1488</th>\n",
       "      <td>227264.986883</td>\n",
       "    </tr>\n",
       "    <tr>\n",
       "      <th>1489</th>\n",
       "      <td>206665.372442</td>\n",
       "    </tr>\n",
       "    <tr>\n",
       "      <th>1490</th>\n",
       "      <td>228291.879903</td>\n",
       "    </tr>\n",
       "    <tr>\n",
       "      <th>...</th>\n",
       "      <td>...</td>\n",
       "    </tr>\n",
       "    <tr>\n",
       "      <th>2890</th>\n",
       "      <td>81027.379184</td>\n",
       "    </tr>\n",
       "    <tr>\n",
       "      <th>2891</th>\n",
       "      <td>145309.890426</td>\n",
       "    </tr>\n",
       "    <tr>\n",
       "      <th>2892</th>\n",
       "      <td>48639.411813</td>\n",
       "    </tr>\n",
       "    <tr>\n",
       "      <th>2893</th>\n",
       "      <td>79052.551911</td>\n",
       "    </tr>\n",
       "    <tr>\n",
       "      <th>2894</th>\n",
       "      <td>50801.561594</td>\n",
       "    </tr>\n",
       "    <tr>\n",
       "      <th>2895</th>\n",
       "      <td>332441.501044</td>\n",
       "    </tr>\n",
       "    <tr>\n",
       "      <th>2896</th>\n",
       "      <td>288422.297133</td>\n",
       "    </tr>\n",
       "    <tr>\n",
       "      <th>2897</th>\n",
       "      <td>204950.721821</td>\n",
       "    </tr>\n",
       "    <tr>\n",
       "      <th>2898</th>\n",
       "      <td>149560.922561</td>\n",
       "    </tr>\n",
       "    <tr>\n",
       "      <th>2899</th>\n",
       "      <td>220677.872011</td>\n",
       "    </tr>\n",
       "    <tr>\n",
       "      <th>2900</th>\n",
       "      <td>155981.529077</td>\n",
       "    </tr>\n",
       "    <tr>\n",
       "      <th>2901</th>\n",
       "      <td>199452.390633</td>\n",
       "    </tr>\n",
       "    <tr>\n",
       "      <th>2902</th>\n",
       "      <td>191465.688833</td>\n",
       "    </tr>\n",
       "    <tr>\n",
       "      <th>2903</th>\n",
       "      <td>344722.749007</td>\n",
       "    </tr>\n",
       "    <tr>\n",
       "      <th>2904</th>\n",
       "      <td>365618.765390</td>\n",
       "    </tr>\n",
       "    <tr>\n",
       "      <th>2905</th>\n",
       "      <td>80808.440986</td>\n",
       "    </tr>\n",
       "    <tr>\n",
       "      <th>2906</th>\n",
       "      <td>203289.592863</td>\n",
       "    </tr>\n",
       "    <tr>\n",
       "      <th>2907</th>\n",
       "      <td>111232.026653</td>\n",
       "    </tr>\n",
       "    <tr>\n",
       "      <th>2908</th>\n",
       "      <td>136269.168895</td>\n",
       "    </tr>\n",
       "    <tr>\n",
       "      <th>2909</th>\n",
       "      <td>152058.011448</td>\n",
       "    </tr>\n",
       "    <tr>\n",
       "      <th>2910</th>\n",
       "      <td>80183.684028</td>\n",
       "    </tr>\n",
       "    <tr>\n",
       "      <th>2911</th>\n",
       "      <td>79249.636896</td>\n",
       "    </tr>\n",
       "    <tr>\n",
       "      <th>2912</th>\n",
       "      <td>146216.202718</td>\n",
       "    </tr>\n",
       "    <tr>\n",
       "      <th>2913</th>\n",
       "      <td>84008.852892</td>\n",
       "    </tr>\n",
       "    <tr>\n",
       "      <th>2914</th>\n",
       "      <td>73547.614877</td>\n",
       "    </tr>\n",
       "    <tr>\n",
       "      <th>2915</th>\n",
       "      <td>79678.269609</td>\n",
       "    </tr>\n",
       "    <tr>\n",
       "      <th>2916</th>\n",
       "      <td>82133.365294</td>\n",
       "    </tr>\n",
       "    <tr>\n",
       "      <th>2917</th>\n",
       "      <td>163621.366217</td>\n",
       "    </tr>\n",
       "    <tr>\n",
       "      <th>2918</th>\n",
       "      <td>115715.065097</td>\n",
       "    </tr>\n",
       "    <tr>\n",
       "      <th>2919</th>\n",
       "      <td>207679.175354</td>\n",
       "    </tr>\n",
       "  </tbody>\n",
       "</table>\n",
       "<p>1459 rows × 1 columns</p>\n",
       "</div>"
      ],
      "text/plain": [
       "          SalePrice\n",
       "Id                 \n",
       "1461  116480.995288\n",
       "1462  160179.907181\n",
       "1463  188080.997222\n",
       "1464  192763.024130\n",
       "1465  180325.042420\n",
       "1466  172035.364281\n",
       "1467  173537.675119\n",
       "1468  170701.855393\n",
       "1469  176761.742672\n",
       "1470  126556.455658\n",
       "1471  197811.881136\n",
       "1472   94359.511196\n",
       "1473   99458.990550\n",
       "1474  152068.065947\n",
       "1475  114827.141654\n",
       "1476  375829.671381\n",
       "1477  258786.863293\n",
       "1478  288066.555065\n",
       "1479  279622.724585\n",
       "1480  481457.313512\n",
       "1481  335713.675681\n",
       "1482  207552.587286\n",
       "1483  182343.818553\n",
       "1484  168313.901281\n",
       "1485  180942.160456\n",
       "1486  199413.447772\n",
       "1487  349491.867752\n",
       "1488  227264.986883\n",
       "1489  206665.372442\n",
       "1490  228291.879903\n",
       "...             ...\n",
       "2890   81027.379184\n",
       "2891  145309.890426\n",
       "2892   48639.411813\n",
       "2893   79052.551911\n",
       "2894   50801.561594\n",
       "2895  332441.501044\n",
       "2896  288422.297133\n",
       "2897  204950.721821\n",
       "2898  149560.922561\n",
       "2899  220677.872011\n",
       "2900  155981.529077\n",
       "2901  199452.390633\n",
       "2902  191465.688833\n",
       "2903  344722.749007\n",
       "2904  365618.765390\n",
       "2905   80808.440986\n",
       "2906  203289.592863\n",
       "2907  111232.026653\n",
       "2908  136269.168895\n",
       "2909  152058.011448\n",
       "2910   80183.684028\n",
       "2911   79249.636896\n",
       "2912  146216.202718\n",
       "2913   84008.852892\n",
       "2914   73547.614877\n",
       "2915   79678.269609\n",
       "2916   82133.365294\n",
       "2917  163621.366217\n",
       "2918  115715.065097\n",
       "2919  207679.175354\n",
       "\n",
       "[1459 rows x 1 columns]"
      ]
     },
     "execution_count": 135,
     "metadata": {},
     "output_type": "execute_result"
    }
   ],
   "source": [
    "sub"
   ]
  },
  {
   "cell_type": "code",
   "execution_count": null,
   "metadata": {
    "collapsed": true
   },
   "outputs": [],
   "source": []
  }
 ],
 "metadata": {
  "kernelspec": {
   "display_name": "Python 3",
   "language": "python",
   "name": "python3"
  },
  "language_info": {
   "codemirror_mode": {
    "name": "ipython",
    "version": 3
   },
   "file_extension": ".py",
   "mimetype": "text/x-python",
   "name": "python",
   "nbconvert_exporter": "python",
   "pygments_lexer": "ipython3",
   "version": "3.6.3"
  }
 },
 "nbformat": 4,
 "nbformat_minor": 2
}
